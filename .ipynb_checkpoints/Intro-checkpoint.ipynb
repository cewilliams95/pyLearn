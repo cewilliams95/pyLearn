{
 "cells": [
  {
   "cell_type": "markdown",
   "id": "b1f02717-565e-403e-b2ad-3743ec9d2285",
   "metadata": {
    "tags": []
   },
   "source": [
    "# Basic Python Notes\n",
    "This notebook covers basics of Python that I need refreshed or didn't know about.\\\n",
    "This covers: Data Structures like dicts and sets, Functions and unique pythonic function features/quirks, OOP notes on classes and objects, and modules/packages/namespace notes."
   ]
  },
  {
   "cell_type": "markdown",
   "id": "ea229508-f899-449b-9633-5998e62ebe1a",
   "metadata": {
    "tags": []
   },
   "source": [
    "# Data Structures"
   ]
  },
  {
   "cell_type": "markdown",
   "id": "11d2abb7-22e8-443e-bebf-3300561d117c",
   "metadata": {
    "jp-MarkdownHeadingCollapsed": true,
    "tags": []
   },
   "source": [
    "## Dicts"
   ]
  },
  {
   "cell_type": "markdown",
   "id": "e614d8a1-488b-49d2-b303-7ea0506b2b6f",
   "metadata": {},
   "source": [
    "When using Dicts, and looking up a value by its key you may get an exception:"
   ]
  },
  {
   "cell_type": "code",
   "execution_count": 15,
   "id": "62c302fd-ebf2-4c10-b415-8a98dbfd6093",
   "metadata": {
    "tags": []
   },
   "outputs": [
    {
     "name": "stdout",
     "output_type": "stream",
     "text": [
      "{'a': 1, 'b': 2, 'c': 3}\n",
      "KeyError at  'd' !\n"
     ]
    }
   ],
   "source": [
    "example = { 'a':1, 'b':2, 'c':3 }\n",
    "print(example)\n",
    "\n",
    "try:\n",
    "    print(example['d'])\n",
    "except KeyError as err:\n",
    "    print('KeyError at ', err, '!')"
   ]
  },
  {
   "cell_type": "markdown",
   "id": "d9016a9d-1c60-4539-97ee-92e6f47ae857",
   "metadata": {},
   "source": [
    "To avoid this exception you can do one of two things, first check if the key exists:"
   ]
  },
  {
   "cell_type": "code",
   "execution_count": 5,
   "id": "4f71916c-e16d-4c7b-af4f-b18f3db18d4c",
   "metadata": {},
   "outputs": [
    {
     "name": "stdout",
     "output_type": "stream",
     "text": [
      "d not found!\n"
     ]
    }
   ],
   "source": [
    "if 'd' in example:\n",
    "    print(example['d'])\n",
    "else:\n",
    "    print('d not found!')"
   ]
  },
  {
   "cell_type": "markdown",
   "id": "b781ed71-0a41-4d8c-b494-595fcf74fb40",
   "metadata": {},
   "source": [
    "Second, use the get method:"
   ]
  },
  {
   "cell_type": "code",
   "execution_count": 6,
   "id": "317172ea-01a2-470d-a235-08103cc44f08",
   "metadata": {},
   "outputs": [
    {
     "data": {
      "text/plain": [
       "'Does not exist'"
      ]
     },
     "execution_count": 6,
     "metadata": {},
     "output_type": "execute_result"
    }
   ],
   "source": [
    "example.get('d') # This displays nothing\n",
    "\n",
    "example.get('d', 'Does not exist') # This prints 'Does not exist'"
   ]
  },
  {
   "cell_type": "code",
   "execution_count": 19,
   "id": "4baf2f09-6fe6-43ae-9695-410d0c9a6572",
   "metadata": {},
   "outputs": [
    {
     "name": "stdout",
     "output_type": "stream",
     "text": [
      "dict_keys(['a', 'b', 'c'])\n",
      "[1, 2, 3]\n",
      "{'a': 1, 'b': 2, 'c': 3, 'd': 4, 'e': 5}\n",
      "{'a': 1, 'b': 2, 'c': 3, 'd': 4, 'e': 5, 'foo': 42, 'bar': 66}\n",
      "{'a': 1, 'b': 2, 'c': 3, 'd': 4, 'e': 5, 'foo': 0, 'bar': 66}\n",
      "{'a': 1, 'b': 2, 'c': 3, 'd': 4, 'e': 5, 'foo': 0}\n",
      "foo is: 0\n",
      "{'a': 1, 'b': 2, 'c': 3, 'd': 4, 'e': 5}\n",
      "None\n"
     ]
    }
   ],
   "source": [
    "print(example.keys()) # This will get all the existing keys\n",
    "\n",
    "print( list( example.values() ) ) # This will get all existing values\n",
    "\n",
    "example2 = {'c':3, 'd':4, 'e':5}\n",
    "combo = {**example, **example2} # This will create a merged dict\n",
    "print(combo)\n",
    "\n",
    "newdict = {'foo':42, 'bar':66}\n",
    "combo.update(newdict) # The update function will copy from one dict to another and append them\n",
    "print(combo)\n",
    "\n",
    "newfoo = {'foo':0}\n",
    "combo.update(newfoo) # Update will merge & replace values with the same keys \n",
    "print(combo)\n",
    "\n",
    "del combo['bar'] # Deletes a key:value from a dict\n",
    "print(combo)\n",
    "\n",
    "foo = combo.pop('foo') # Combines get() and del\n",
    "print(f'foo is: {foo}')\n",
    "print(combo)\n",
    "\n",
    "print(combo.clear()) # Clears the dict"
   ]
  },
  {
   "cell_type": "code",
   "execution_count": 23,
   "id": "b3dff7c8-2c92-4802-a9b2-72eae8b602d6",
   "metadata": {},
   "outputs": [
    {
     "name": "stdout",
     "output_type": "stream",
     "text": [
      "{'Rob': 2323, 'Frank': 3454, 'George': 8583}\n",
      "Assigned: {'Rob': 2323, 'Frank': 69, 'George': 8583}\n",
      "Copied: {'Rob': 2323, 'Frank': 3454, 'George': 8583}\n"
     ]
    }
   ],
   "source": [
    "users = {'Rob':2323, 'Frank':3454, 'George':8583}\n",
    "users_assigned = users # When you use = to assign, you are still referencing the original dict\n",
    "users_copied = users.copy() # To avoid this, copy it with the copy() function, if you have embedded lists in the values use deepcopy()\n",
    "print(users_assigned)\n",
    "users['Frank'] = 69\n",
    "print(f'Assigned: {users_assigned}')\n",
    "print(f'Copied: {users_copied}')"
   ]
  },
  {
   "cell_type": "code",
   "execution_count": 27,
   "id": "0aaf2fe5-c9df-4c4a-ba1e-844868a4e770",
   "metadata": {},
   "outputs": [
    {
     "name": "stdout",
     "output_type": "stream",
     "text": [
      "Rob\n",
      "Frank\n",
      "George\n",
      " \n",
      "2323\n",
      "69\n",
      "8583\n",
      " \n",
      "('Rob', 2323)\n",
      "('Frank', 69)\n",
      "('George', 8583)\n",
      " \n",
      "Name: Rob, Number: 2323\n",
      "Name: Frank, Number: 69\n",
      "Name: George, Number: 8583\n"
     ]
    }
   ],
   "source": [
    "for user in users: # Just keys\n",
    "    print(user)\n",
    "print(' ')\n",
    "for value in users.values(): # Just values\n",
    "    print(value)\n",
    "print(' ')\n",
    "for item in users.items(): #Tuples of key:value\n",
    "    print(item)\n",
    "print(' ')\n",
    "for name,number in users.items(): #Explicitly assign tuples of key:value\n",
    "    print(f'Name: {name}, Number: {number}')"
   ]
  },
  {
   "cell_type": "markdown",
   "id": "36fd6103-de4f-4f1c-95c1-e3d5e7619e97",
   "metadata": {},
   "source": [
    "*Dict Comprehension*"
   ]
  },
  {
   "cell_type": "code",
   "execution_count": 31,
   "id": "9391816a-8082-4357-883d-f42a5eb260f3",
   "metadata": {},
   "outputs": [
    {
     "name": "stdout",
     "output_type": "stream",
     "text": [
      "{'l': 2, 'e': 1, 't': 2, 'i': 1, 'd': 1, 'o': 2}\n",
      "{'e': 1, 'i': 1, 'o': 2}\n"
     ]
    }
   ],
   "source": [
    "word = 'doolittle'\n",
    "letter_counts = {letter: word.count(letter) for letter in set(word)}\n",
    "print(letter_counts)\n",
    "\n",
    "vowels = 'aeiou'\n",
    "letter_counts = {letter: word.count(letter) for letter in set(word) if letter in vowels}\n",
    "print(letter_counts)"
   ]
  },
  {
   "cell_type": "markdown",
   "id": "0fedc5b3-225f-4987-83c1-bde939346bc7",
   "metadata": {
    "tags": []
   },
   "source": [
    "## Sets"
   ]
  },
  {
   "cell_type": "code",
   "execution_count": 36,
   "id": "422c619d-7fce-474b-9734-787577574482",
   "metadata": {},
   "outputs": [
    {
     "name": "stdout",
     "output_type": "stream",
     "text": [
      "{'l', 'e', 't', 'r', 's'}\n",
      "5\n",
      "{'l', 'e', 't', 'r', 's', 'q'}\n",
      "{'l', 'e', 't', 'r', 's'}\n"
     ]
    }
   ],
   "source": [
    "foo = set('letters') # only has one of each letter\n",
    "print(foo)\n",
    "print(len(foo))\n",
    "foo.add('q')\n",
    "print(foo)\n",
    "foo.remove('q')\n",
    "print(foo)"
   ]
  },
  {
   "cell_type": "code",
   "execution_count": 48,
   "id": "5130a10e-182d-4478-8378-2cb6fa676138",
   "metadata": {},
   "outputs": [
    {
     "name": "stdout",
     "output_type": "stream",
     "text": [
      "{'martini': {'vodka', 'vermouth'}, 'black russian': {'vodka', 'kahlua'}, 'white russian': {'vodka', 'cream', 'kahlua'}, 'manhattan': {'bitters', 'rye', 'vermouth'}, 'screwdriver': {'orange juice', 'vodka'}}\n",
      "\n",
      "Contain vermouth:\n",
      "martini\n",
      "manhattan\n",
      "\n",
      " Contain vermouth or kahlua:\n",
      "martini\n",
      "black russian\n",
      "white russian\n",
      "manhattan\n",
      "\n",
      "Screwdriver ingredients: {'orange juice', 'vodka'}\n",
      "Martini ingredients: {'vodka', 'vermouth'}\n",
      "Intersection: {'vodka'}\n",
      "Union: {'orange juice', 'vodka', 'vermouth'}\n",
      "Difference: {'orange juice'}\n",
      "XOR: {'orange juice', 'vermouth'}\n",
      "Is Subset: False\n"
     ]
    }
   ],
   "source": [
    "# Common use-case for sets is in Dicts:\n",
    "drinks = {\n",
    " 'martini': {'vodka', 'vermouth'},\n",
    " 'black russian': {'vodka', 'kahlua'},\n",
    " 'white russian': {'cream', 'kahlua', 'vodka'},\n",
    " 'manhattan': {'rye', 'vermouth', 'bitters'},\n",
    " 'screwdriver': {'orange juice', 'vodka'}\n",
    "}\n",
    "print(drinks)\n",
    "\n",
    "# Better filtering/selecting with set items\n",
    "print(\"\\nContain vermouth:\")\n",
    "for name, ingredients in drinks.items():\n",
    "    if 'vermouth' in ingredients:\n",
    "        print(name)\n",
    "        \n",
    "# Set intersection \n",
    "print(\"\\n Contain vermouth or kahlua:\")\n",
    "for name, ingredients in drinks.items():\n",
    "    if ingredients & {'vermouth', 'kahlua'}:\n",
    "        print(name)\n",
    "        \n",
    "# Get ingredients of a drink\n",
    "ingA = drinks['screwdriver']\n",
    "ingB = drinks['martini']\n",
    "print(f\"\\nScrewdriver ingredients: {ingA}\")\n",
    "print(f\"Martini ingredients: {ingB}\")\n",
    "print(f\"Intersection: {ingA & ingB}\") # set intersection (can also use the setA.intersection(setB) function)\n",
    "print(f\"Union: {ingA | ingB}\") # set union, could also use setA.union(setB)\n",
    "print(f\"Difference: {ingA - ingB}\") # set difference\n",
    "print(f\"XOR: {ingA ^ ingB}\") # XOR or symmetric_difference()\n",
    "print(f\"Is Subset: {ingA <= ingB}\") # Check if A is a subset of B, also issubset()"
   ]
  },
  {
   "cell_type": "code",
   "execution_count": 51,
   "id": "ca496e40-3a7b-483e-bccb-d0cd30553d29",
   "metadata": {},
   "outputs": [
    {
     "name": "stdout",
     "output_type": "stream",
     "text": [
      "{2, 4, 6, 8, 10, 12, 14, 16, 18, 20, 22, 24, 26, 28, 30, 32, 34, 36, 38, 40, 42, 44, 46, 48}\n"
     ]
    }
   ],
   "source": [
    "a_set = {num for num in range(1,50) if num % 2 == 0} # Set Comprehension\n",
    "print(a_set)"
   ]
  },
  {
   "cell_type": "code",
   "execution_count": 56,
   "id": "c971616e-62d8-4737-9460-a8abdf7b23d0",
   "metadata": {},
   "outputs": [
    {
     "name": "stdout",
     "output_type": "stream",
     "text": [
      "frozenset({9, 3, 6})\n",
      "Exception: 'frozenset' object has no attribute 'add'\n"
     ]
    }
   ],
   "source": [
    "locked = frozenset([9,3,6]) # frozenset creates an immutable set\n",
    "print(locked)\n",
    "try:\n",
    "    locked.add(4)\n",
    "except AttributeError as err:\n",
    "    print(f\"Exception: {err}\")"
   ]
  },
  {
   "cell_type": "markdown",
   "id": "135f1f3d-1481-4b94-a50e-cfa6d2d585e8",
   "metadata": {
    "tags": []
   },
   "source": [
    "## Exercises"
   ]
  },
  {
   "cell_type": "code",
   "execution_count": 65,
   "id": "d7b589b8-e61c-4dfd-b238-bafd8a42c32d",
   "metadata": {},
   "outputs": [
    {
     "name": "stdout",
     "output_type": "stream",
     "text": [
      "animals - {'cats': ['Risky', 'Riot'], 'octopi': [], 'emus': []}\n",
      "plants - {}\n",
      "other - {}\n",
      "\n",
      "{1: 1, 2: 4, 3: 9, 4: 16, 5: 25, 6: 36, 7: 49, 8: 64, 9: 81}\n"
     ]
    }
   ],
   "source": [
    "# Exercise 1\n",
    "life = {'animals':{'cats':['Risky', 'Riot'],'octopi':[],'emus':[]}, 'plants':{}, 'other':{}} # Multilevel dict\n",
    "for top, inner in life.items():\n",
    "    print(f\"{top} - {inner}\")\n",
    "    \n",
    "# Exercise 2\n",
    "squares = { num:num**2 for num in range(1,10) } # Dict comprehension\n",
    "print(f\"\\n{squares}\")\n",
    "\n",
    "# Exercise 3"
   ]
  },
  {
   "cell_type": "markdown",
   "id": "a23f1fa2-8a7f-4394-97e3-b45d9d94cf8e",
   "metadata": {
    "tags": []
   },
   "source": [
    "# Functions"
   ]
  },
  {
   "cell_type": "markdown",
   "id": "e8c690a6-1642-4545-86d7-5de5d4b961a3",
   "metadata": {},
   "source": [
    "### Explode/Gather Positional Arguments (*)\n",
    "When Used in a function parameter the asterisk groups a variable number of positional arguments into a single tuple of parameter values.\\\n",
    "When used outside a function parameter *args explodes the tuple into comma-separated positional args.\\\n",
    "The * must be used within a function call or definition"
   ]
  },
  {
   "cell_type": "code",
   "execution_count": 9,
   "id": "4d8c07f3-dd1b-4a92-8fbf-85a26b051d38",
   "metadata": {},
   "outputs": [
    {
     "name": "stdout",
     "output_type": "stream",
     "text": [
      "positional tuple:  (1, 2, 3, 'string1', 'string2')\n",
      "Params: required, also required, (1, 2, 3, 'optional args')\n"
     ]
    }
   ],
   "source": [
    "def print_args(*params):\n",
    "    print('positional tuple: ',params)\n",
    "print_args(1,2,3,'string1','string2')\n",
    "\n",
    "# This function has two required args (arg1, arg2) and then variable positional args (*args)\n",
    "def more_than_one(arg1, arg2, *params):\n",
    "    print(f'Params: {arg1}, {arg2}, {params}')\n",
    "more_than_one('required', 'also required', 1,2,3,'optional args')"
   ]
  },
  {
   "cell_type": "markdown",
   "id": "e5e1e829-13f8-4ed9-aa18-7658a1e0680f",
   "metadata": {},
   "source": [
    "### Explode/Gather Keyword Args (**)\n",
    "Keyword arguments are gathered into a dict\\\n",
    "This is also only used in a function call or def\\\n",
    "Argument order: required pos args, optional pos args(*args), optional keyword args(**args)"
   ]
  },
  {
   "cell_type": "code",
   "execution_count": 15,
   "id": "53ed98a9-9deb-49de-9eba-106ef2bfc43d",
   "metadata": {},
   "outputs": [
    {
     "name": "stdout",
     "output_type": "stream",
     "text": [
      "Keyword Args:  {'key1': 'val1', 'key2': 'val2', 'key3': 'val3'}\n"
     ]
    }
   ],
   "source": [
    "def print_kwargs(**kwargs):\n",
    "    print('Keyword Args: ', kwargs)\n",
    "print_kwargs(key1='val1', key2='val2', key3='val3')"
   ]
  },
  {
   "cell_type": "markdown",
   "id": "75e750f0-717d-4e4f-ad89-7e48f2c14cb3",
   "metadata": {},
   "source": [
    "### Keyword only Arguments\n",
    "These are 'name=value' args and a preceeding * means they must be provided as named args if you don't want the default values"
   ]
  },
  {
   "cell_type": "code",
   "execution_count": 25,
   "id": "f07514d1-4f6e-4bea-8986-24f78181ba0c",
   "metadata": {},
   "outputs": [
    {
     "name": "stdout",
     "output_type": "stream",
     "text": [
      "scene1\n",
      "scene2\n",
      "scene3\n",
      "scene4\n",
      "scene5\n",
      "\n",
      "\n",
      "scene4\n",
      "scene5\n",
      "\n",
      "\n",
      "scene3\n",
      "scene4\n"
     ]
    }
   ],
   "source": [
    "def start_time(timeData, *, start=0, end=190):\n",
    "    for value in (timeData[start:end]):\n",
    "        print(value)\n",
    "scenes = ['scene1','scene2','scene3','scene4','scene5']\n",
    "start_time(scenes)\n",
    "print('\\n')\n",
    "start_time(scenes, start=3)\n",
    "print('\\n')\n",
    "start_time(scenes, start=2, end=4)"
   ]
  },
  {
   "cell_type": "markdown",
   "id": "a36f5b63-f766-4bcc-b0e6-63587ed5c350",
   "metadata": {},
   "source": [
    "### Watching for Mutability in Function Parameters\n",
    "When passing a value to a function, treat it as a pass-by-reference and assign it instead of altering it otherwise your changes can be carried outside of the function"
   ]
  },
  {
   "cell_type": "code",
   "execution_count": 29,
   "id": "31609df7-8982-46d1-b1e2-a8d60418e4eb",
   "metadata": {},
   "outputs": [
    {
     "name": "stdout",
     "output_type": "stream",
     "text": [
      "Outside a function: \n",
      "['foo', 'bar', 'now']\n",
      "Altering inside a function...\n",
      "Outside a function: \n",
      "['foo', 'bar', 'NEVER']\n"
     ]
    }
   ],
   "source": [
    "print('Outside a function: ')\n",
    "mutable_guy = ['foo','bar','now']\n",
    "print(mutable_guy)\n",
    "\n",
    "def alter(arg):\n",
    "    print('Altering inside a function...')\n",
    "    arg[2] = 'NEVER'\n",
    "alter(mutable_guy)\n",
    "\n",
    "print('Outside a function: ')\n",
    "print(mutable_guy)"
   ]
  },
  {
   "cell_type": "markdown",
   "id": "dc4e8b32-8680-4568-be24-3982ab8253b9",
   "metadata": {},
   "source": [
    "### Docstrings\n",
    "A docstring can be included by adding a string at the beginning of a function, this is a good way to document functions.\\\n",
    "To print a docstring you can use the help() function"
   ]
  },
  {
   "cell_type": "code",
   "execution_count": 37,
   "id": "387df234-8ef5-4db0-b6c4-506fd0ba8f91",
   "metadata": {},
   "outputs": [
    {
     "name": "stdout",
     "output_type": "stream",
     "text": [
      "String.\n",
      "\n",
      "Help on function printstring in module __main__:\n",
      "\n",
      "printstring()\n",
      "    printstring prints: String.\n",
      "\n",
      "printstring prints: String.\n"
     ]
    }
   ],
   "source": [
    "def printstring():\n",
    "    'printstring prints: String.'\n",
    "    print('String.\\n')\n",
    "printstring()\n",
    "help(printstring) # With formatting\n",
    "\n",
    "print(printstring.__doc__) # Without extra formatting"
   ]
  },
  {
   "cell_type": "markdown",
   "id": "cf6ab176-149f-4e0a-b0d8-a0362d649a04",
   "metadata": {},
   "source": [
    "## Functions as Objects\n",
    "Functions are first-class citizens in Python: Functions can be assigned to variables, used as arguments, and returned from functions as they are objects"
   ]
  },
  {
   "cell_type": "code",
   "execution_count": 39,
   "id": "455a240a-b132-4802-a887-c92ef1a94049",
   "metadata": {},
   "outputs": [
    {
     "name": "stdout",
     "output_type": "stream",
     "text": [
      "bar\n"
     ]
    },
    {
     "data": {
      "text/plain": [
       "19"
      ]
     },
     "execution_count": 39,
     "metadata": {},
     "output_type": "execute_result"
    }
   ],
   "source": [
    "def foo():\n",
    "    print('bar')\n",
    "\n",
    "def run_func(func): # Takes function as argument and runs it\n",
    "    func()\n",
    "    \n",
    "run_func(foo) # Runs a function by passing it to another\n",
    "\n",
    "def sum_args(*args): \n",
    "    return sum(args)\n",
    "def run_args(func, *args): # You can combine this functionality with *args or *kwargs\n",
    "    return func(*args)\n",
    "run_args(sum_args, 2,4,6,7)"
   ]
  },
  {
   "cell_type": "markdown",
   "id": "6db1d170-a922-468f-9901-86b3c3a71454",
   "metadata": {},
   "source": [
    "## Closures\n",
    "A closure is a function that is dynamically generated by another function and can change/remember the values of vars that were created outside the function"
   ]
  },
  {
   "cell_type": "code",
   "execution_count": 44,
   "id": "8e45b60a-0199-4309-86e7-d69bdb518ffa",
   "metadata": {},
   "outputs": [
    {
     "name": "stdout",
     "output_type": "stream",
     "text": [
      "We are the knights who say: Ni!\n",
      "We are the knights who say: Cheese!\n"
     ]
    }
   ],
   "source": [
    "def knights(quote):\n",
    "    def inner():\n",
    "        return \"We are the knights who say: %s\" % quote\n",
    "    return inner\n",
    "\n",
    "a = knights('Ni!') # a is getting a specialized version of the inner() function returned\n",
    "b = knights('Cheese!') # b is getting a different version of it \n",
    "\n",
    "print(a())\n",
    "print(b())"
   ]
  },
  {
   "cell_type": "markdown",
   "id": "fe19c264-07fd-4f29-a6b0-2cf2388d99bb",
   "metadata": {},
   "source": [
    "## Anonymous/Lambda Functions\n",
    "These are a single statement anonymous function that usually replace short functions\\\n",
    "They are less clear than functions and are most useful when you need many small functions and would struggle to remember what all of them were called,\\\n",
    "they're good for callback functions"
   ]
  },
  {
   "cell_type": "code",
   "execution_count": 6,
   "id": "055a0c93-3d3c-4c6d-9fbc-ce92b974424f",
   "metadata": {},
   "outputs": [
    {
     "name": "stdout",
     "output_type": "stream",
     "text": [
      "Thud!\n",
      "Meow!\n",
      "Thud!\n",
      "Hiss!\n",
      "\n",
      "Thud!\n",
      "Meow!\n",
      "Thud!\n",
      "Hiss!\n"
     ]
    }
   ],
   "source": [
    "def edit_story(words, func):\n",
    "    for word in words:\n",
    "        print(func(word))\n",
    "stairs = ['thud', 'meow', 'thud', 'hiss']\n",
    "\n",
    "# Instead of:\n",
    "def enliven(word):\n",
    "    return word.capitalize() + '!'\n",
    "edit_story(stairs, enliven)\n",
    "\n",
    "print('')\n",
    "\n",
    "# You could do:\n",
    "edit_story(stairs, lambda word: word.capitalize() + '!') # Zero or more comma-separated args : function definition"
   ]
  },
  {
   "cell_type": "markdown",
   "id": "065398b6-be40-495e-9b50-c44a65373a17",
   "metadata": {},
   "source": [
    "## Generators\n",
    "Python sequence creation objects, used to iterate through large sequences without creating and storing the whole sequence in memory\\\n",
    "Generators keep track of where they were called last and return to the next value\\\n",
    "They only run once, and cannot go back/restart\\\n",
    "An example would be the `range()` function\\\n",
    "To write your own make sure you use `yield` instead of `return`"
   ]
  },
  {
   "cell_type": "code",
   "execution_count": 16,
   "id": "3bb9e31d-e7e4-4883-920c-5068ed898905",
   "metadata": {},
   "outputs": [
    {
     "name": "stdout",
     "output_type": "stream",
     "text": [
      "0\n",
      "1\n",
      "2\n",
      "3\n",
      "4\n",
      "5\n",
      "6\n",
      "7\n",
      "8\n",
      "9\n",
      "\n",
      "4\n",
      "14\n",
      "24\n",
      "34\n",
      "44\n",
      "54\n",
      "64\n",
      "74\n",
      "84\n",
      "94\n",
      "104\n",
      "\n",
      "<generator object <genexpr> at 0x000001E3D53751C0>\n",
      "('foo', '6')\n",
      "('bar', '9')\n"
     ]
    }
   ],
   "source": [
    "# Writing the range generator function:\n",
    "def new_range(first=0, last=10, step=1):\n",
    "    num = first\n",
    "    while num < last:\n",
    "        yield num\n",
    "        num += step\n",
    "\n",
    "defaultRange = new_range() # defaults\n",
    "for x in defaultRange:\n",
    "    print(x)\n",
    "print('')\n",
    "range = new_range(4,105,10) # with args\n",
    "for y in range:\n",
    "    print(y)\n",
    "    \n",
    "for z in range: # Can't do it again\n",
    "    print(z)\n",
    "\n",
    "print('')################\n",
    "    \n",
    "# Generator comprehensions are like the others but with parenteses:\n",
    "genobj = (pair for pair in zip(['foo','bar'],['6','9']))\n",
    "print(genobj)\n",
    "for i in genobj:\n",
    "    print(i)"
   ]
  },
  {
   "cell_type": "markdown",
   "id": "a516ef79-1d2e-4402-94d2-2e4c2fc22419",
   "metadata": {},
   "source": [
    "## Decorators\n",
    "Decorators modify existing functions without altering them"
   ]
  },
  {
   "cell_type": "code",
   "execution_count": 23,
   "id": "7fb9c9bd-32e6-4487-be1b-c392c4562ec6",
   "metadata": {},
   "outputs": [
    {
     "name": "stdout",
     "output_type": "stream",
     "text": [
      "5 \n",
      "\n",
      "Running function:  subem\n",
      "Pos args:  (10, 5)\n",
      "Keyword args:  {}\n",
      "Result:  5\n",
      "\n",
      "Running function:  addem\n",
      "Pos args:  (5, 8)\n",
      "Keyword args:  {}\n",
      "Result:  13\n"
     ]
    },
    {
     "data": {
      "text/plain": [
       "13"
      ]
     },
     "execution_count": 23,
     "metadata": {},
     "output_type": "execute_result"
    }
   ],
   "source": [
    "# Create the decorator:\n",
    "def document_it(func):\n",
    "    def new_function(*args, **kwargs):\n",
    "        print('Running function: ', func.__name__)\n",
    "        print('Pos args: ', args)\n",
    "        print('Keyword args: ', kwargs)\n",
    "        result = func(*args, **kwargs)\n",
    "        print('Result: ',result)\n",
    "        return result\n",
    "    return new_function\n",
    "\n",
    "# Use the decorator:\n",
    "# Long way:\n",
    "def subem(a,b):\n",
    "    return a - b\n",
    "print(subem(10,5),'\\n')\n",
    "\n",
    "\n",
    "better_subem = document_it(subem) \n",
    "better_subem(10,5)\n",
    "\n",
    "print('')\n",
    "\n",
    "# Short way: \n",
    "@document_it \n",
    "def addem(a,b):\n",
    "    return a + b\n",
    "addem(5,8)"
   ]
  },
  {
   "cell_type": "code",
   "execution_count": 27,
   "id": "c7e9ddc3-39c7-432a-ab09-b5f85027a93c",
   "metadata": {},
   "outputs": [
    {
     "name": "stdout",
     "output_type": "stream",
     "text": [
      "Running function:  new_function\n",
      "Pos args:  (3, 5)\n",
      "Keyword args:  {}\n",
      "Result:  225\n",
      "\n",
      "Running function:  multem2\n",
      "Pos args:  (3, 5)\n",
      "Keyword args:  {}\n",
      "Result:  15\n"
     ]
    },
    {
     "data": {
      "text/plain": [
       "225"
      ]
     },
     "execution_count": 27,
     "metadata": {},
     "output_type": "execute_result"
    }
   ],
   "source": [
    "# Second Decorator\n",
    "def square_it(func):\n",
    "    def new_function(*args, **kwargs):\n",
    "        result = func(*args, **kwargs)\n",
    "        return result * result\n",
    "    return new_function\n",
    "\n",
    "# When using mult decorators the closest goes first\n",
    "@document_it # second\n",
    "@square_it # first\n",
    "def multem(a,b):\n",
    "    return a * b\n",
    "multem(3,5)\n",
    "\n",
    "print('')\n",
    "\n",
    "@square_it # second\n",
    "@document_it # first\n",
    "def multem2(a,b):\n",
    "    return a * b\n",
    "multem2(3,5)"
   ]
  },
  {
   "cell_type": "markdown",
   "id": "a77cfef4-2430-4230-9a6f-3d36977ac3f5",
   "metadata": {},
   "source": [
    "## Namespaces and Scope\n",
    "Each function has its own namespace, the main part of a program has a global namespace you can access from inside functions"
   ]
  },
  {
   "cell_type": "code",
   "execution_count": 36,
   "id": "010d60dd-f5a7-4bd2-b464-9905701ec81e",
   "metadata": {},
   "outputs": [
    {
     "name": "stdout",
     "output_type": "stream",
     "text": [
      "Chris\n",
      "Exception:  local variable 'name' referenced before assignment\n",
      "Chris\n",
      "Kaila\n",
      "local vars:  {'other_name': 'Francis'}\n"
     ]
    }
   ],
   "source": [
    "name = 'Chris'# global\n",
    "def show_name():\n",
    "    print(name) # Can access it\n",
    "def show_name_2():\n",
    "    try:\n",
    "        print(name) # Now is a reference before assignment because...\n",
    "        name = 'Kaila' # Creates name in local namespace\n",
    "        print(name)\n",
    "    except UnboundLocalError as err:\n",
    "        print('Exception: ',err)\n",
    "def show_name_3():\n",
    "    global name # Defines name in local namespace as global\n",
    "    print(name)\n",
    "    name = 'Kaila'\n",
    "    print(name)\n",
    "    other_name = 'Francis'\n",
    "    print('local vars: ',locals()) # prints a dict of local vars\n",
    "    # print('global vars: ',globals()) # This would print global vars but in jupyter there's a ton\n",
    "show_name()\n",
    "show_name_2()\n",
    "show_name_3()"
   ]
  },
  {
   "cell_type": "markdown",
   "id": "3aee9b4c-95a2-4b2a-9b88-aa2335ac7b01",
   "metadata": {},
   "source": [
    "## Underscores\n",
    "Double underscores are for reserved use like `function.__name__` or `function.__doc__` or `__main__`\\\n"
   ]
  },
  {
   "cell_type": "markdown",
   "id": "530c6c83-b2c5-4b8f-bc15-fb4583ca9bb2",
   "metadata": {},
   "source": [
    "## Recursion\n",
    "Recursion can be useful for generator functions"
   ]
  },
  {
   "cell_type": "code",
   "execution_count": 48,
   "id": "0576393e-4af3-48b9-abb7-193add85df0f",
   "metadata": {},
   "outputs": [
    {
     "data": {
      "text/plain": [
       "[1, 2, 3, 4, 5, 6, 7, 8, 9]"
      ]
     },
     "execution_count": 48,
     "metadata": {},
     "output_type": "execute_result"
    }
   ],
   "source": [
    "# Potential interview question 'flatten/collect a set...':\n",
    "def flatten(lol):\n",
    "    for item in lol:\n",
    "        if isinstance(item, list):\n",
    "            yield from flatten(item) # yield from creates another generator that does a 'for subitem in flatten(item): yield subitem'\n",
    "        else:\n",
    "            yield item\n",
    "lol = [1,2,[3,4,5], [6,[7,8,9],[]]]\n",
    "list(flatten(lol))"
   ]
  },
  {
   "cell_type": "markdown",
   "id": "21dc17f2-e5ee-43b1-984d-9ed3755beb93",
   "metadata": {},
   "source": [
    "## Exceptions\n",
    "Always try to handle exceptions where they may occur with `try` and `except`"
   ]
  },
  {
   "cell_type": "code",
   "execution_count": 53,
   "id": "17ee4ce5-bdf4-4367-8c4e-3620622384dd",
   "metadata": {},
   "outputs": [
    {
     "name": "stdout",
     "output_type": "stream",
     "text": [
      "oopsie whoopsie made a fucky wucky outside the wist uWu\n",
      "u made an index out of wange ewwow:  list index out of range\n"
     ]
    }
   ],
   "source": [
    "listing = [1,2,3]\n",
    "try:\n",
    "    listing[3]\n",
    "except: # Generic catchall\n",
    "    print('oopsie whoopsie made a fucky wucky outside the wist uWu')\n",
    "    \n",
    "try:\n",
    "    listing[3]\n",
    "except IndexError as idx_err: # Specifies specific exception type and handles it... accordingly?\n",
    "    print('u made an index out of wange ewwow: ',idx_err)\n",
    "except Exception as gen_err:\n",
    "    print('YOU HAVE MADE SOME OTHER KIND OF ERROR NOW DIE')"
   ]
  },
  {
   "cell_type": "markdown",
   "id": "c3760138-b223-4e38-b64d-333efa7bb74d",
   "metadata": {},
   "source": [
    "### Make your own exceptions at home!"
   ]
  },
  {
   "cell_type": "code",
   "execution_count": 52,
   "id": "cf5d437d-5999-4c1a-afbd-4ab4f013ee35",
   "metadata": {},
   "outputs": [
    {
     "ename": "UppercaseException",
     "evalue": "NO",
     "output_type": "error",
     "traceback": [
      "\u001b[1;31m---------------------------------------------------------------------------\u001b[0m",
      "\u001b[1;31mUppercaseException\u001b[0m                        Traceback (most recent call last)",
      "\u001b[1;32m~\\AppData\\Local\\Temp/ipykernel_22132/3278925434.py\u001b[0m in \u001b[0;36m<module>\u001b[1;34m\u001b[0m\n\u001b[0;32m      5\u001b[0m \u001b[1;32mfor\u001b[0m \u001b[0mdemand\u001b[0m \u001b[1;32min\u001b[0m \u001b[0mdemands\u001b[0m\u001b[1;33m:\u001b[0m\u001b[1;33m\u001b[0m\u001b[1;33m\u001b[0m\u001b[0m\n\u001b[0;32m      6\u001b[0m     \u001b[1;32mif\u001b[0m \u001b[0mdemand\u001b[0m\u001b[1;33m.\u001b[0m\u001b[0misupper\u001b[0m\u001b[1;33m(\u001b[0m\u001b[1;33m)\u001b[0m\u001b[1;33m:\u001b[0m\u001b[1;33m\u001b[0m\u001b[1;33m\u001b[0m\u001b[0m\n\u001b[1;32m----> 7\u001b[1;33m         \u001b[1;32mraise\u001b[0m \u001b[0mUppercaseException\u001b[0m\u001b[1;33m(\u001b[0m\u001b[0mdemand\u001b[0m\u001b[1;33m)\u001b[0m\u001b[1;33m\u001b[0m\u001b[1;33m\u001b[0m\u001b[0m\n\u001b[0m",
      "\u001b[1;31mUppercaseException\u001b[0m: NO"
     ]
    }
   ],
   "source": [
    "class UppercaseException(Exception):\n",
    "    pass\n",
    "\n",
    "demands = ['yes','yes','yes','NO']\n",
    "for demand in demands:\n",
    "    if demand.isupper():\n",
    "        raise UppercaseException(demand)"
   ]
  },
  {
   "cell_type": "markdown",
   "id": "0380c548-1e49-461b-afcd-52eedd11f34e",
   "metadata": {},
   "source": [
    "## Exercises"
   ]
  },
  {
   "cell_type": "code",
   "execution_count": 9,
   "id": "d372db3f-3ce3-4d3d-b805-473139964619",
   "metadata": {},
   "outputs": [
    {
     "name": "stdout",
     "output_type": "stream",
     "text": [
      "starting...\n",
      "foobar\n",
      "ending...\n",
      "Oopsie whoopsie!\n",
      "1\n",
      "3\n",
      "5\n",
      "7\n",
      "8\n"
     ]
    },
    {
     "ename": "OopsException",
     "evalue": "",
     "output_type": "error",
     "traceback": [
      "\u001b[1;31m---------------------------------------------------------------------------\u001b[0m",
      "\u001b[1;31mOopsException\u001b[0m                             Traceback (most recent call last)",
      "\u001b[1;32m~\\AppData\\Local\\Temp/ipykernel_14600/4205122011.py\u001b[0m in \u001b[0;36m<module>\u001b[1;34m\u001b[0m\n\u001b[0;32m     28\u001b[0m         \u001b[1;32mif\u001b[0m \u001b[0mnum\u001b[0m \u001b[1;33m%\u001b[0m \u001b[1;36m2\u001b[0m \u001b[1;33m==\u001b[0m \u001b[1;36m0\u001b[0m\u001b[1;33m:\u001b[0m\u001b[1;33m\u001b[0m\u001b[1;33m\u001b[0m\u001b[0m\n\u001b[0;32m     29\u001b[0m             \u001b[1;32mraise\u001b[0m \u001b[0mOopsException\u001b[0m\u001b[1;33m\u001b[0m\u001b[1;33m\u001b[0m\u001b[0m\n\u001b[1;32m---> 30\u001b[1;33m \u001b[0mevenbad\u001b[0m\u001b[1;33m(\u001b[0m\u001b[1;33m[\u001b[0m\u001b[1;36m1\u001b[0m\u001b[1;33m,\u001b[0m\u001b[1;36m3\u001b[0m\u001b[1;33m,\u001b[0m\u001b[1;36m5\u001b[0m\u001b[1;33m,\u001b[0m\u001b[1;36m7\u001b[0m\u001b[1;33m,\u001b[0m\u001b[1;36m8\u001b[0m\u001b[1;33m,\u001b[0m\u001b[1;36m9\u001b[0m\u001b[1;33m]\u001b[0m\u001b[1;33m)\u001b[0m\u001b[1;33m\u001b[0m\u001b[1;33m\u001b[0m\u001b[0m\n\u001b[0m",
      "\u001b[1;32m~\\AppData\\Local\\Temp/ipykernel_14600/4205122011.py\u001b[0m in \u001b[0;36mevenbad\u001b[1;34m(nums)\u001b[0m\n\u001b[0;32m     27\u001b[0m         \u001b[0mprint\u001b[0m\u001b[1;33m(\u001b[0m\u001b[0mnum\u001b[0m\u001b[1;33m)\u001b[0m\u001b[1;33m\u001b[0m\u001b[1;33m\u001b[0m\u001b[0m\n\u001b[0;32m     28\u001b[0m         \u001b[1;32mif\u001b[0m \u001b[0mnum\u001b[0m \u001b[1;33m%\u001b[0m \u001b[1;36m2\u001b[0m \u001b[1;33m==\u001b[0m \u001b[1;36m0\u001b[0m\u001b[1;33m:\u001b[0m\u001b[1;33m\u001b[0m\u001b[1;33m\u001b[0m\u001b[0m\n\u001b[1;32m---> 29\u001b[1;33m             \u001b[1;32mraise\u001b[0m \u001b[0mOopsException\u001b[0m\u001b[1;33m\u001b[0m\u001b[1;33m\u001b[0m\u001b[0m\n\u001b[0m\u001b[0;32m     30\u001b[0m \u001b[0mevenbad\u001b[0m\u001b[1;33m(\u001b[0m\u001b[1;33m[\u001b[0m\u001b[1;36m1\u001b[0m\u001b[1;33m,\u001b[0m\u001b[1;36m3\u001b[0m\u001b[1;33m,\u001b[0m\u001b[1;36m5\u001b[0m\u001b[1;33m,\u001b[0m\u001b[1;36m7\u001b[0m\u001b[1;33m,\u001b[0m\u001b[1;36m8\u001b[0m\u001b[1;33m,\u001b[0m\u001b[1;36m9\u001b[0m\u001b[1;33m]\u001b[0m\u001b[1;33m)\u001b[0m\u001b[1;33m\u001b[0m\u001b[1;33m\u001b[0m\u001b[0m\n",
      "\u001b[1;31mOopsException\u001b[0m: "
     ]
    }
   ],
   "source": [
    "# Decorator: print when function is starting and ending\n",
    "def test(func):\n",
    "    def printtest(*args, **kwargs):\n",
    "        print(\"starting...\")\n",
    "        result = func(*args, **kwargs)\n",
    "        print(\"ending...\")\n",
    "        return result\n",
    "    return printtest\n",
    "@test\n",
    "def examplefunction():\n",
    "    print('foobar')\n",
    "examplefunction()\n",
    "\n",
    "# Generator: Get odd nums from a range\n",
    "def getodds(start=0,end=10):\n",
    "    for idx in range(start,end):\n",
    "        if (idx % 2) != 0:\n",
    "            yield idx\n",
    "list(getodds(0,20))\n",
    "\n",
    "class OopsException(Exception):\n",
    "    print('Oopsie whoopsie!')\n",
    "    \n",
    "def evenbad(nums):\n",
    "    for num in nums:\n",
    "        print(num)\n",
    "        if num % 2 == 0:\n",
    "            raise OopsException\n",
    "evenbad([1,3,5,7,8,9])"
   ]
  },
  {
   "cell_type": "markdown",
   "id": "d40316fd-043e-472e-8a29-25ea7dd9f43e",
   "metadata": {
    "jp-MarkdownHeadingCollapsed": true,
    "tags": []
   },
   "source": [
    "# Objects and Classes\n",
    "Technically, being Object Oriented, everything in Python is an object, including data structures and functions"
   ]
  },
  {
   "cell_type": "markdown",
   "id": "03de3da4-a7b5-4bf5-aff4-b2b047f49959",
   "metadata": {},
   "source": [
    "## Object Classes in Python"
   ]
  },
  {
   "cell_type": "code",
   "execution_count": 10,
   "id": "56dc7228-d9da-48b0-83b4-0e4b1f1c4131",
   "metadata": {},
   "outputs": [
    {
     "name": "stdout",
     "output_type": "stream",
     "text": [
      "Sullivan\n",
      "Risky\n",
      "Riot\n",
      "A cat is a pet:  True\n",
      "I'm Sullivan. I'm a pet!\n",
      "I'm, Risky, a 12 year old cat, like a pet but more catty!\n",
      "I'm, Riot, a 2 year old cat, like a pet but more catty!\n"
     ]
    }
   ],
   "source": [
    "# Class definition\n",
    "class Pet():\n",
    "    # Initialization function\n",
    "    def __init__(self, name):\n",
    "        self.name = name\n",
    "    def identify(self):\n",
    "        print(f\"I'm {self.name}. I'm a pet!\")\n",
    "sully = Pet('Sullivan') # looks up class, instantiates obj, runs init, stores name, returns object, attaches variable\n",
    "risky = Pet('Risky')\n",
    "riot = Pet('Riot')\n",
    "pets = [sully, risky, riot]\n",
    "for pet in pets:\n",
    "    print(pet.name)\n",
    "\n",
    "# Inheritance, try not to overuse or it will confuse\n",
    "class Cat(Pet):\n",
    "    def __init__(self,name,age):\n",
    "        super().__init__(name) # use super() to get the parent implementation\n",
    "        self.age = age\n",
    "    def identify(self): # Overloaded method\n",
    "        print(f\"I'm, {self.name}, a {self.age} year old cat, like a pet but more catty!\")\n",
    "print(\"A cat is a pet: \",issubclass(Cat, Pet))\n",
    "risky = Cat('Risky', 12) # Cat has overloaded and must include the age\n",
    "riot = Cat('Riot', 2)\n",
    "sully.identify()\n",
    "risky.identify()\n",
    "riot.identify()"
   ]
  },
  {
   "cell_type": "markdown",
   "id": "2c3ed5c6-0cc6-4d65-9c62-66d6b82d0f87",
   "metadata": {},
   "source": [
    "## Multiple Inheritance\n",
    "Classes can inherit from multiple parents and when referencing a method/attribute a class doesn't have, its parents are checked\\\n",
    "When getting methods from parents Python uses *method resolution order*, each class has a special method called `mro()`\\\n",
    "and `__mro__` gives a tuple of the parent classes in order of reference importance\\\n",
    "Generally, mro goes: Object itself, object's class, its first parent class, second parent class, ..etc, grandparent class\n"
   ]
  },
  {
   "cell_type": "markdown",
   "id": "1bee35d5-d509-4cb7-8965-b48d5abc0e73",
   "metadata": {},
   "source": [
    "## Mixins\n",
    "A mixin is a parent class that doesn't share any methods with other parent classes, avoiding mro issues\\\n",
    "These are good for side tasks like logging etc"
   ]
  },
  {
   "cell_type": "code",
   "execution_count": 12,
   "id": "a09959e6-6cae-45ca-a88a-e87f9e7f8d9a",
   "metadata": {},
   "outputs": [
    {
     "name": "stdout",
     "output_type": "stream",
     "text": [
      "{'age': 26, 'eyecolor': 'Brown', 'love': True, 'name': 'Kaila'}\n"
     ]
    }
   ],
   "source": [
    "class PrettyMixin():\n",
    "    def dump(self):\n",
    "        import pprint\n",
    "        pprint.pprint(vars(self))\n",
    "class Thing(PrettyMixin):\n",
    "    pass\n",
    "t=Thing()\n",
    "t.name = \"Kaila\"\n",
    "t.love = True\n",
    "t.eyecolor = \"Brown\"\n",
    "t.age = 26\n",
    "t.dump()"
   ]
  },
  {
   "cell_type": "markdown",
   "id": "a330fb44-0ee5-4056-a33a-541ec0c81181",
   "metadata": {},
   "source": [
    "## Self\n",
    "So Python uses self in class method definitions to get the right attributes/methods, so:"
   ]
  },
  {
   "cell_type": "code",
   "execution_count": 15,
   "id": "ca472954-fddb-49b2-9195-151b4a0bab4f",
   "metadata": {},
   "outputs": [
    {
     "name": "stdout",
     "output_type": "stream",
     "text": [
      "I'm, Risky, a 12 year old cat, like a pet but more catty!\n",
      "I'm, Risky, a 12 year old cat, like a pet but more catty!\n"
     ]
    }
   ],
   "source": [
    "# When we call\n",
    "risky.identify()\n",
    "''' \n",
    "    It really is looking up Cat, of the object risky\n",
    "    Then it passes the risky object to the identify() method as the self argument, \n",
    "    functionally the same as:\n",
    " '''\n",
    "Cat.identify(risky)"
   ]
  },
  {
   "cell_type": "markdown",
   "id": "b06bd8bd-a68c-4fe1-9845-ea8f00b3bd59",
   "metadata": {},
   "source": [
    "## Attributes\n",
    "You can either directly access attributes or use getters/setters\\\n",
    "Although Python doesn't have private attributes, you can at least obfuscate w/ getting/setting\\\n",
    "To get some more real privacy use properties (covered later)"
   ]
  },
  {
   "cell_type": "code",
   "execution_count": 5,
   "id": "55a66d2d-8e95-40a9-8964-e5b82f7a2bcb",
   "metadata": {},
   "outputs": [
    {
     "name": "stdout",
     "output_type": "stream",
     "text": [
      "Sullivan\n",
      "Maya\n"
     ]
    },
    {
     "ename": "AttributeError",
     "evalue": "'Dog' object has no attribute 'name'",
     "output_type": "error",
     "traceback": [
      "\u001b[1;31m---------------------------------------------------------------------------\u001b[0m",
      "\u001b[1;31mAttributeError\u001b[0m                            Traceback (most recent call last)",
      "\u001b[1;32m~\\AppData\\Local\\Temp/ipykernel_11636/3052015765.py\u001b[0m in \u001b[0;36m<module>\u001b[1;34m\u001b[0m\n\u001b[0;32m     10\u001b[0m \u001b[0mpup\u001b[0m\u001b[1;33m.\u001b[0m\u001b[0mset_name\u001b[0m\u001b[1;33m(\u001b[0m\u001b[1;34m'Maya'\u001b[0m\u001b[1;33m)\u001b[0m\u001b[1;33m\u001b[0m\u001b[1;33m\u001b[0m\u001b[0m\n\u001b[0;32m     11\u001b[0m \u001b[0mprint\u001b[0m\u001b[1;33m(\u001b[0m\u001b[0mpup\u001b[0m\u001b[1;33m.\u001b[0m\u001b[0mget_name\u001b[0m\u001b[1;33m(\u001b[0m\u001b[1;33m)\u001b[0m\u001b[1;33m)\u001b[0m\u001b[1;33m\u001b[0m\u001b[1;33m\u001b[0m\u001b[0m\n\u001b[1;32m---> 12\u001b[1;33m \u001b[0mpup\u001b[0m\u001b[1;33m.\u001b[0m\u001b[0mname\u001b[0m\u001b[1;33m\u001b[0m\u001b[1;33m\u001b[0m\u001b[0m\n\u001b[0m",
      "\u001b[1;31mAttributeError\u001b[0m: 'Dog' object has no attribute 'name'"
     ]
    }
   ],
   "source": [
    "class Dog():\n",
    "    def __init__(self,input_name):\n",
    "        self.hidden_name = input_name\n",
    "    def get_name(self):\n",
    "        return self.hidden_name\n",
    "    def set_name(self, input_name):\n",
    "        self.hidden_name = input_name\n",
    "pup = Dog('Sullivan')\n",
    "print(pup.get_name())\n",
    "pup.set_name('Maya')\n",
    "print(pup.get_name())\n",
    "pup.name"
   ]
  },
  {
   "cell_type": "markdown",
   "id": "10055a9b-cfe4-491e-ab48-762e7a4229f8",
   "metadata": {},
   "source": [
    "## Properties\n",
    "More pythonic way to do privacy"
   ]
  },
  {
   "cell_type": "code",
   "execution_count": 21,
   "id": "f9aaa613-5201-46a8-81c7-1f5fc94721a9",
   "metadata": {},
   "outputs": [
    {
     "name": "stdout",
     "output_type": "stream",
     "text": [
      "Sullivan\n",
      "Maya\n",
      "Willy\n",
      "Pizza\n",
      "Tacos\n",
      "Outside getter: Tacos\n"
     ]
    },
    {
     "ename": "AttributeError",
     "evalue": "'Food' object has no attribute '__name'",
     "output_type": "error",
     "traceback": [
      "\u001b[1;31m---------------------------------------------------------------------------\u001b[0m",
      "\u001b[1;31mAttributeError\u001b[0m                            Traceback (most recent call last)",
      "\u001b[1;32m~\\AppData\\Local\\Temp/ipykernel_11636/2852553870.py\u001b[0m in \u001b[0;36m<module>\u001b[1;34m\u001b[0m\n\u001b[0;32m     32\u001b[0m \u001b[0mprint\u001b[0m\u001b[1;33m(\u001b[0m\u001b[0mdinner\u001b[0m\u001b[1;33m.\u001b[0m\u001b[0mname\u001b[0m\u001b[1;33m)\u001b[0m\u001b[1;33m\u001b[0m\u001b[1;33m\u001b[0m\u001b[0m\n\u001b[0;32m     33\u001b[0m \u001b[0mprint\u001b[0m\u001b[1;33m(\u001b[0m\u001b[1;34m'Outside getter: '\u001b[0m\u001b[1;33m+\u001b[0m\u001b[0mdinner\u001b[0m\u001b[1;33m.\u001b[0m\u001b[0m_Food__name\u001b[0m\u001b[1;33m)\u001b[0m \u001b[1;31m# Not entirely private still\u001b[0m\u001b[1;33m\u001b[0m\u001b[1;33m\u001b[0m\u001b[0m\n\u001b[1;32m---> 34\u001b[1;33m \u001b[0mprint\u001b[0m\u001b[1;33m(\u001b[0m\u001b[0mdinner\u001b[0m\u001b[1;33m.\u001b[0m\u001b[0m__name\u001b[0m\u001b[1;33m)\u001b[0m \u001b[1;31m# but at least can't directly access hidden attr __name directly or accidentally\u001b[0m\u001b[1;33m\u001b[0m\u001b[1;33m\u001b[0m\u001b[0m\n\u001b[0m",
      "\u001b[1;31mAttributeError\u001b[0m: 'Food' object has no attribute '__name'"
     ]
    }
   ],
   "source": [
    "# Same thing but add the last line\n",
    "class Dog():\n",
    "    def __init__(self,input_name):\n",
    "        self.hidden_name = input_name\n",
    "    def get_name(self):\n",
    "        return self.hidden_name\n",
    "    def set_name(self, input_name):\n",
    "        self.hidden_name = input_name\n",
    "    name = property(get_name, set_name) # Properties are defined with a getter and setter\n",
    "# Getter and setter stil work\n",
    "pup = Dog('Sullivan')\n",
    "print(pup.get_name())\n",
    "pup.set_name('Maya')\n",
    "print(pup.get_name())\n",
    "# But accessing as an attribute also works\n",
    "pup.name = 'Willy'\n",
    "print(pup.name)\n",
    "\n",
    "# Another format with decorators for getter and setter\n",
    "class Food():\n",
    "    def __init__(self,input_name):\n",
    "        self.__name = input_name # vs. self.hidden_name = input_name : the double underscore is a better way to obfuscate attributes in Python\n",
    "    @property\n",
    "    def name(self):\n",
    "        return self.__name\n",
    "    @name.setter\n",
    "    def name(self, input_name):\n",
    "        self.__name = input_name\n",
    "dinner = Food('Pizza')\n",
    "print(dinner.name)\n",
    "dinner.name = 'Tacos'\n",
    "print(dinner.name)\n",
    "print('Outside getter: '+dinner._Food__name) # Not entirely private still\n",
    "print(dinner.__name) # but at least can't directly access hidden attr __name directly or accidentally\n"
   ]
  },
  {
   "cell_type": "markdown",
   "id": "068b63a4-f526-4a21-85a1-3dbf1219c4f2",
   "metadata": {},
   "source": [
    "### For Computed Values"
   ]
  },
  {
   "cell_type": "code",
   "execution_count": 13,
   "id": "bd30f47b-0c6c-417e-ae51-0a68dd36b26a",
   "metadata": {},
   "outputs": [
    {
     "name": "stdout",
     "output_type": "stream",
     "text": [
      "radius: 5, diameter: 10\n"
     ]
    }
   ],
   "source": [
    "class Circle():\n",
    "    def __init__(self, radius):\n",
    "        self.radius = radius\n",
    "    @property\n",
    "    def diameter(self):\n",
    "        return 2*self.radius\n",
    "circle = Circle(5)\n",
    "print(f'radius: {circle.radius}, diameter: {circle.diameter}')"
   ]
  },
  {
   "cell_type": "markdown",
   "id": "b6ff5ea2-242c-434a-ad1e-137e20bd17f4",
   "metadata": {},
   "source": [
    "## Methods\n",
    "If there's no preceding decorator it's an *instance method*, the first arg is self and refers to the individual object\\\n",
    "If there is a `@classmethod` decorator it's a *class method*, first arg is cls (anything that isn't the reserved word class) that refers to the class\\\n",
    "If there's a `@staticmethod` it's a *static method* and the first arg isn't an object or class"
   ]
  },
  {
   "cell_type": "markdown",
   "id": "3aa78e49-adcd-4839-8e2d-4ecf3c58dc63",
   "metadata": {},
   "source": [
    "### Instance methods\n",
    "The methods covered above with 'self' as the arguments"
   ]
  },
  {
   "cell_type": "markdown",
   "id": "bb6169ed-7df1-4c31-bc42-9cf4a137eb99",
   "metadata": {},
   "source": [
    "### Class Methods\n",
    "A class method affects the class as a whole, any changes made affect all objects that share that class"
   ]
  },
  {
   "cell_type": "code",
   "execution_count": 22,
   "id": "398ba8b8-e467-49c4-9ac1-f5eb89e554d8",
   "metadata": {},
   "outputs": [
    {
     "name": "stdout",
     "output_type": "stream",
     "text": [
      "A has 3 little objects.\n"
     ]
    }
   ],
   "source": [
    "class A():\n",
    "    count = 0\n",
    "    def __init__(self):\n",
    "        A.count += 1\n",
    "    def exclaim(self):\n",
    "        print(\"A!\")\n",
    "    @classmethod\n",
    "    def kids(cls):\n",
    "        print(\"A has\", cls.count, \"little objects.\")\n",
    "one_a = A()\n",
    "two_a = A()\n",
    "three_a = A()\n",
    "A.kids()"
   ]
  },
  {
   "cell_type": "markdown",
   "id": "ee00740a-fca4-4fce-ac6e-3485f0bff9cb",
   "metadata": {
    "tags": []
   },
   "source": [
    "# Modules, Packages"
   ]
  },
  {
   "cell_type": "markdown",
   "id": "745f022f-1339-4195-8b88-b3aa910e6502",
   "metadata": {},
   "source": [
    "A **module** is really any python file with code.\n",
    "Some basic reminders on module imports:\n",
    "- Be organized and put all imports together at the top of a file to have all dependencies in one place.\n",
    "- Use aliases e.g. `import bs4 as bs` when needed/helpful\n",
    "- import only what you need from a module e.g. `from random import choice`\n",
    "\n",
    "A **package** is an organized hierarchy of .py files in a directory and subdirectories.\\ \n",
    "Given a folder with the name 'sources', with files 'fast.py' and 'advice.py' in it, in the same directory as a .py file:\n",
    "`from sources import fast,advice` will import from sources as a package."
   ]
  },
  {
   "cell_type": "markdown",
   "id": "814e89f8-5e79-4c8a-9098-94b7ea0d69f7",
   "metadata": {},
   "source": [
    "*Interview question?* In pre-3.3 Python you also needed an \\_\\_init__.py file as well for a directory to be recognized as a package."
   ]
  },
  {
   "cell_type": "markdown",
   "id": "b415a539-0158-48e0-93e5-b1ccaf8d802a",
   "metadata": {},
   "source": [
    "To see all the places that your Python interpreter searches for packages, import the standard sys\n",
    "module and use its path list: \\\n",
    "`for place in sys.path:`\\\n",
    "`    print(place)`\\\n",
    "This is a list of directory names and ZIP archive files that\n",
    "Python searches in order to find modules to import.\\\n",
    "Keep in mind, if you override a name of a standard module it will only take the first instance it finds and will block you from the standard module (e.g. if you used random as a module name)."
   ]
  },
  {
   "cell_type": "markdown",
   "id": "5e5107ef-b033-43f9-8466-1e841469c693",
   "metadata": {},
   "source": [
    "## Absolute vs Relative\n",
    "All the examples above are **absolute**, Python will look for a file or package with the associated name along its search path until it finds one (or doesn't).\\\n",
    "Otherwise, you can import **relative** to your current position in the filesystem `. import foobar` for current, `.. import foobar` for one directory above, `..barfoo import foobar` if it's under a sibling directory called barfoo."
   ]
  },
  {
   "cell_type": "markdown",
   "id": "9bd49914-0c28-4264-b2d1-1c68cd4c0998",
   "metadata": {},
   "source": [
    "<a href=\"http://python-notes.curiousefficiency.org/en/latest/python_concepts/import_traps.html\">Here</a> are some importing pitfalls for the unwary."
   ]
  },
  {
   "cell_type": "markdown",
   "id": "0a3db6d3-37e5-4cbb-994a-89e1c79f488d",
   "metadata": {},
   "source": [
    "## Namespaces\n",
    "You can create a **namespace** package to split the python files. So, if you had one directory with two files in it, rather than splitting the files into their own subdirectories which can break the use of the module in other applications, you can add parent directories to separate files."
   ]
  },
  {
   "cell_type": "markdown",
   "id": "05de0e07-888a-40dd-b45e-773dce76f4f1",
   "metadata": {},
   "source": [
    "## Modules vs Objects\n",
    "The difference between an object and a module is that a module's code is available to the outside, while an object's code can be obscured or access-controlled with properties and naming to restrict access to data attributes."
   ]
  },
  {
   "cell_type": "markdown",
   "id": "67fa565e-d8f1-4a9b-a9db-c9e9983dcc29",
   "metadata": {},
   "source": [
    "# Batteries-Included Python\n",
    "There are some nice features of the Python Standard Library:\n"
   ]
  },
  {
   "cell_type": "markdown",
   "id": "81338933-87cd-4176-a667-5452349e3828",
   "metadata": {},
   "source": [
    "## Handle missing keys with setdefault() and defaultdict()\n",
    "This can help avoid an exception for non-existing keys. `setdefault()` is like the dictionary `get()` but also assigns an item to the dict if the key is missing."
   ]
  },
  {
   "cell_type": "code",
   "execution_count": 3,
   "id": "14072682-78f0-4b52-a887-6b950a5ef2cf",
   "metadata": {},
   "outputs": [
    {
     "name": "stdout",
     "output_type": "stream",
     "text": [
      "{'Hydrogen': 1, 'Helium': 2, 'Carbon': 12}\n",
      "{'Hydrogen': 1, 'Helium': 2, 'Carbon': 12}\n",
      "2\n"
     ]
    }
   ],
   "source": [
    "elements = {'Hydrogen':1, 'Helium':2}\n",
    "carbon = elements.setdefault('Carbon', 12) # Get carbon, with set value\n",
    "print(elements)\n",
    "helium = elements.setdefault('Helium', -1) # Get Helium, only set value if it doesn't exist already\n",
    "print(elements)\n",
    "print(helium) # Helium maintains its inital value since it was already set"
   ]
  },
  {
   "cell_type": "markdown",
   "id": "9e605dbb-e197-4c82-8092-50ef7e01f068",
   "metadata": {},
   "source": [
    "defaultdict() is similar but has a default value for any new key when the dict is created. The argument is a function."
   ]
  },
  {
   "cell_type": "code",
   "execution_count": 8,
   "id": "78105d94-dba5-4b77-b0a5-e00bf735442b",
   "metadata": {},
   "outputs": [
    {
     "name": "stdout",
     "output_type": "stream",
     "text": [
      "defaultdict(<class 'int'>, {'Hydrogen': 1, 'Lead': 0})\n"
     ]
    }
   ],
   "source": [
    "from collections import defaultdict\n",
    "elements = defaultdict(int) # int() means the default value will be 0\n",
    "elements['Hydrogen'] = 1\n",
    "elements['Lead'] # Referencing creates a dict entry with the default value\n",
    "print(elements)"
   ]
  },
  {
   "cell_type": "code",
   "execution_count": 11,
   "id": "67cb0850-bbf6-473a-92ed-491eb12d6887",
   "metadata": {},
   "outputs": [
    {
     "name": "stdout",
     "output_type": "stream",
     "text": [
      "It hurt itself in its confusion!\n"
     ]
    }
   ],
   "source": [
    "# Defining a function that returns the default val for the dict entries\n",
    "def confused():\n",
    "    return 'It hurt itself in its confusion!'\n",
    "pokemon = defaultdict(confused)\n",
    "pokemon['Fire'] = 'Charmander'\n",
    "pokemon['Water'] = 'Squirtle'\n",
    "pokemon['Grass']\n",
    "print(pokemon['Grass'])"
   ]
  },
  {
   "cell_type": "markdown",
   "id": "56e41a69-1d84-43b9-b27e-3c176e63eaf6",
   "metadata": {},
   "source": [
    "## Count items with Counter()"
   ]
  },
  {
   "cell_type": "code",
   "execution_count": 19,
   "id": "cddce20b-5af8-4752-a554-457c2742a84b",
   "metadata": {},
   "outputs": [
    {
     "name": "stdout",
     "output_type": "stream",
     "text": [
      "Counter({'gumpy': 3, 'hey': 2})\n",
      "Most To Least Common:  [('gumpy', 3), ('hey', 2)]\n",
      "Top Most Common:  [('gumpy', 3)]\n",
      "Counter({'gumpy': 4, 'ghost': 4, 'hey': 3, 'horse': 2})\n",
      "Counter({'ghost': 4, 'horse': 2})\n",
      "Counter({'hey': 1, 'gumpy': 1})\n",
      "Counter({'ghost': 4, 'gumpy': 3, 'hey': 2, 'horse': 2})\n"
     ]
    }
   ],
   "source": [
    "from collections import Counter\n",
    "griffin_abcs = ['gumpy', 'hey', 'gumpy', 'gumpy', 'hey']\n",
    "\n",
    "# Counter object of all elements in the element\n",
    "abc_count = Counter(griffin_abcs)\n",
    "print(abc_count)\n",
    "\n",
    "# Counters have helpful methods\n",
    "print('Most To Least Common: ', abc_count.most_common()) # Descending order\n",
    "print('Top Most Common: ', abc_count.most_common(1)) # Top 1 common element\n",
    "ghost_horses = ['ghost','ghost','horse','ghost','ghost','horse','hey', 'gumpy']\n",
    "gh_count = Counter(ghost_horses)\n",
    "print(abc_count + gh_count) # Can combine counters with '+'\n",
    "print(gh_count - abc_count) # What's in the first list but not the other: '-'\n",
    "print(gh_count & abc_count) # Intersection '&'\n",
    "print(abc_count | gh_count) # Union '|'"
   ]
  },
  {
   "cell_type": "markdown",
   "id": "fe410b1c-4698-4adc-a46a-50c1c5b34ac6",
   "metadata": {},
   "source": [
    "## Order by Key with OrderedDict()\n",
    "Useful for earlier versions of python (pre 3.7) since the more recent version retains the order in which you add keys.\n"
   ]
  },
  {
   "cell_type": "code",
   "execution_count": 20,
   "id": "7e3e4f10-8b12-4c58-b58d-8d1504b7ee12",
   "metadata": {},
   "outputs": [
    {
     "name": "stdout",
     "output_type": "stream",
     "text": [
      "a\n",
      "b\n",
      "c\n"
     ]
    }
   ],
   "source": [
    "from collections import OrderedDict\n",
    "data = OrderedDict([\n",
    "    ('a',1),\n",
    "    ('b',2),\n",
    "    ('c',3)\n",
    "])\n",
    "for item in data: \n",
    "    print(item)"
   ]
  },
  {
   "cell_type": "markdown",
   "id": "0fd47d17-4007-4976-8977-e5673fb9e7a9",
   "metadata": {},
   "source": [
    "## Stack and Queue AKA deque\n",
    "A deque is a double ended queue, giving it stack and queue features. Useful when you want to add/delete from both ends."
   ]
  },
  {
   "cell_type": "code",
   "execution_count": 23,
   "id": "fc11ff76-17f9-4121-81c9-a4c07cd76e03",
   "metadata": {},
   "outputs": [
    {
     "name": "stdout",
     "output_type": "stream",
     "text": [
      "True\n",
      "False\n",
      "True\n",
      "True\n",
      "False\n",
      "True\n"
     ]
    }
   ],
   "source": [
    "# Note: this is not the best way to do this\n",
    "def is_palindrome(word):\n",
    "    from collections import deque\n",
    "    dq = deque(word)\n",
    "    while len(dq) > 1:\n",
    "        # popleft() gets the first char and pop() gets the last\n",
    "        if dq.popleft() != dq.pop():\n",
    "            return False\n",
    "    return True\n",
    "print(is_palindrome('otto'))\n",
    "print(is_palindrome('nope'))\n",
    "print(is_palindrome('racecar'))\n",
    "\n",
    "# Here's a quick/concise palindrome function using a slice\n",
    "def quick_palindrome(word):\n",
    "    return word == word[::-1]\n",
    "print(quick_palindrome('otto'))\n",
    "print(quick_palindrome('nope'))\n",
    "print(quick_palindrome('racecar'))"
   ]
  },
  {
   "cell_type": "markdown",
   "id": "ce539dac-01df-4f5d-b3e7-4685ab321728",
   "metadata": {},
   "source": [
    "## Iterate over structures with itertools\n",
    "itertools has iterator functions that return one item at a time when called in for...in loops and remembers state in between calls.\n"
   ]
  },
  {
   "cell_type": "code",
   "execution_count": 35,
   "id": "5a13b192-c1e3-486b-9619-3a004c0b8f1a",
   "metadata": {},
   "outputs": [
    {
     "name": "stdout",
     "output_type": "stream",
     "text": [
      "1\n",
      "2\n",
      "a\n",
      "b\n",
      "c\n",
      "\n",
      "0\n",
      "1\n",
      "0\n",
      "1\n",
      "0\n",
      "1\n",
      "0\n",
      "1\n",
      "0\n",
      "1\n",
      "0\n",
      "\n",
      "1\n",
      "2\n",
      "4\n",
      "7\n",
      "12\n",
      "20\n"
     ]
    }
   ],
   "source": [
    "# chain() runs through args as though they're an iterable\n",
    "import itertools\n",
    "for item in itertools.chain([1,2],['a','b','c']):\n",
    "    print(item)\n",
    "print()\n",
    "# cycle() is an infinite cycler\n",
    "for idx,item in enumerate(itertools.cycle([0,1])):\n",
    "    print(item)\n",
    "    if(idx > 9):\n",
    "        break\n",
    "print()\n",
    "# accumulate() calculates accumulated values, by default it does sum, second arg can redefine\n",
    "for item in itertools.accumulate([1,1,2,3,5,8]):\n",
    "    print(item)"
   ]
  },
  {
   "cell_type": "markdown",
   "id": "d7262ddd-74d4-42a6-b4b4-bc2dd73a3ff2",
   "metadata": {},
   "source": [
    "## pprint(??)\n",
    "It should print things out nicely, but maybe print rules have changed."
   ]
  },
  {
   "cell_type": "code",
   "execution_count": 36,
   "id": "73788b47-b270-420e-9fa6-c5d5a126aa53",
   "metadata": {},
   "outputs": [
    {
     "name": "stdout",
     "output_type": "stream",
     "text": [
      "OrderedDict([('a', 1), ('b', 2), ('c', 3)])\n",
      "OrderedDict([('a', 1), ('b', 2), ('c', 3)])\n"
     ]
    }
   ],
   "source": [
    "# pprint() prints nicely (??)\n",
    "from pprint import pprint\n",
    "print(data)  # OrderedDict from earlier example\n",
    "pprint(data)"
   ]
  },
  {
   "cell_type": "markdown",
   "id": "81c41cbf-32b7-47af-a238-e0cd8baedad8",
   "metadata": {},
   "source": [
    "## Rawrr xD so random"
   ]
  },
  {
   "cell_type": "code",
   "execution_count": 51,
   "id": "2ae134f9-43e6-4f99-b428-d92af083e572",
   "metadata": {},
   "outputs": [
    {
     "name": "stdout",
     "output_type": "stream",
     "text": [
      "532\n",
      "\n",
      "[4666, 'NI', 532]\n",
      "\n",
      "6397\n",
      "68\n",
      "\n",
      "82\n"
     ]
    }
   ],
   "source": [
    "# choice() gives a random value from a sequence\n",
    "from random import choice\n",
    "data = [1,33,532,'NI',0x123a]\n",
    "print(choice(data))\n",
    "print()\n",
    "\n",
    "# sample() gets more than one value at a time\n",
    "from random import sample\n",
    "print(sample(data,3))\n",
    "print()\n",
    "\n",
    "# randint() gets a random integer from a given range\n",
    "from random import randint\n",
    "print(randint(1,6969))\n",
    "print(randint(1,6969))\n",
    "print()\n",
    "\n",
    "# randrange() has args for start(inclusive) and end(exclusive) integers and an optional step arg\n",
    "from random import randrange\n",
    "print(randrange(22,85,10))"
   ]
  },
  {
   "cell_type": "markdown",
   "id": "a27afba3-1c33-4b1a-9363-2f44517b53d0",
   "metadata": {},
   "source": [
    "# Exercises"
   ]
  },
  {
   "cell_type": "code",
   "execution_count": 3,
   "id": "2cbfaad2-297a-41b9-aab6-5408a0955fb5",
   "metadata": {},
   "outputs": [
    {
     "name": "stdout",
     "output_type": "stream",
     "text": [
      "Open 9am - 5pm M-F\n",
      "{'a': 1, 'b': 2, 'c': 3}\n",
      "OrderedDict([('a', 1), ('b', 2), ('c', 3)])\n"
     ]
    }
   ],
   "source": [
    "# Created zoo.py in root folder and imported function to print hours\n",
    "from modules.zoo import hours\n",
    "hours()\n",
    "\n",
    "# Make a basic dictionary\n",
    "plain = {\n",
    "    'a':1, \n",
    "    'b':2, \n",
    "    'c':3\n",
    "}\n",
    "print(plain)\n",
    "\n",
    "# Make an OrderedDict (should behave the same)\n",
    "from collections import OrderedDict\n",
    "fancy = OrderedDict([\n",
    "    ('a',1),\n",
    "    ('b',2),\n",
    "    ('c',3)\n",
    "])\n",
    "print(fancy)\n",
    "\n"
   ]
  },
  {
   "cell_type": "markdown",
   "id": "bb1fca7f-624d-4b38-ae40-ca0a4fe64daa",
   "metadata": {},
   "source": [
    "# Python in Practice\n",
    "Applications of the basics of Python.\n",
    "\n",
    "## Data Wranglin and Manglin\n",
    "A couple basic data formats to work with are text and binary. \n",
    "\n",
    "### Text Strings: Unicode\n",
    "Python 3 strings are Unicode character sequences instead of byte arrays (big change from Python 2).Unicode characters are handled by Python, these characters are divided into 8-bit sets called planes. The first 256 planes are the *basic multilingual planes*. You can look these up for more info.\n",
    "\n",
    "If you know a unicode ID or name for a char you can use it in a Python string:\n",
    " * If you use a \\u followed by four hex numbers you get a char in the multilingual planes. The first two are plane number, and the next two are the index of the char in the plane. Plane 00 is ASCII.\n",
    " * For chars in the higher planes you need more bits. It would be \\U followed by 8 hex characters.\n",
    " * For all characters \\N{name} lets you specify it by its standard name provided in the Unicode Character Name Index.\n",
    "\n",
    "The **unicodedata** module has functions that translate in both directions. \n",
    " * lookup() - takes case-insensitive name and returns unicode character\n",
    " * name() - takes a unicode character and returns uppercase name\n"
   ]
  },
  {
   "cell_type": "code",
   "execution_count": 72,
   "id": "104132a4-0fc5-4bc9-8ef0-24bb992ac9b4",
   "metadata": {},
   "outputs": [
    {
     "name": "stdout",
     "output_type": "stream",
     "text": [
      "value=\"A\", name=\"LATIN CAPITAL LETTER A\", value2=\"A\"\n",
      "value=\"$\", name=\"DOLLAR SIGN\", value2=\"$\"\n",
      "value=\"☃\", name=\"SNOWMAN\", value2=\"☃\"\n",
      "é\n",
      "LATIN SMALL LETTER E WITH ACUTE\n",
      "café\n",
      "1\n",
      "1\n"
     ]
    }
   ],
   "source": [
    "import unicodedata\n",
    "def unicode_test(value):\n",
    "    name = unicodedata.name(value)\n",
    "    value2 = unicodedata.lookup(name)\n",
    "    print('value=\"%s\", name=\"%s\", value2=\"%s\"'% (value,name,value2))\n",
    "unicode_test('A')\n",
    "unicode_test('$')\n",
    "unicode_test('☃')\n",
    "\n",
    "''' \n",
    "When you look up the names you might get something like this: \"E WITH ACUTE, LATIN SMALL LETTER\"\n",
    "Delete the comma and move the last part up front like so: \"LATIN SMALL LETTER E WITH ACUTE\" to get the correct python-friendly name\n",
    "'''\n",
    "print(unicodedata.lookup('LATIN SMALL LETTER E WITH ACUTE'))\n",
    "print(unicodedata.name('\\u00e9'))\n",
    "print('caf\\u00e9')\n",
    "\n",
    "# string len() calculates unicode characters, not bytes\n",
    "print(len('$'))\n",
    "print(len('\\U0001f47b'))"
   ]
  },
  {
   "cell_type": "markdown",
   "id": "9f1b96d7-e7f1-448c-8ef1-1fd8083e8024",
   "metadata": {},
   "source": [
    "### UTF-8\n",
    "When transferring data in and out of python you need a way to encode char strings to bytes and decode bytes to char strings. UTF-8 uses 1-4 bytes per unicode character:\n",
    " * 1 for ASCII\n",
    " * 2 for most latin-derived (not cyrillic) languages\n",
    " * 3 for the rest of the basic multilingual plane\n",
    " * 4 for the rest, including some Asian languages/symbols\n",
    "\n",
    "UTF-8 is standard in Python, Linux, and HTML. It's always good to ensure your incoming data is encoded in the UTF-8 format.\n",
    "\n",
    "#### Encoding\n"
   ]
  },
  {
   "cell_type": "code",
   "execution_count": 22,
   "id": "092eae47-f45a-44e5-bdb5-b9294b9565f5",
   "metadata": {},
   "outputs": [
    {
     "name": "stdout",
     "output_type": "stream",
     "text": [
      "☃\n",
      "1\n",
      "3\n",
      "Exception:  'ascii' codec can't encode character '\\u2603' in position 0: ordinal not in range(128)\n",
      "b''\n",
      "b'?'\n",
      "b'\\\\u2603'\n",
      "b'&#9731;'\n"
     ]
    }
   ],
   "source": [
    "snowman = '\\u2603'\n",
    "print(snowman)\n",
    "print(len(snowman)) # 1 - single unicode character\n",
    "ds = snowman.encode('utf-8')\n",
    "print(len(ds)) # 3 - variable-length encoding that uses 3 bytes\n",
    "\n",
    "try:\n",
    "    ds = snowman.encode('ascii') # Can't encode with another encoding unless it happens to be in both\n",
    "except UnicodeEncodeError as err:\n",
    "    print('Exception: ', err)\n",
    "\n",
    "ds = snowman.encode('ascii', 'ignore') # the second arg allows you to avoid exceptions and ignore unknown chars\n",
    "print(ds)\n",
    "ds = snowman.encode('ascii', 'replace') # or replace with '?'\n",
    "print(ds)\n",
    "ds = snowman.encode('ascii', 'backslashreplace') # or replace with escaped chars\n",
    "print(ds)\n",
    "ds = snowman.encode('ascii', 'xmlcharrefreplace') # or to make HTML safe strings\n",
    "print(ds)"
   ]
  },
  {
   "cell_type": "markdown",
   "id": "b762f6cf-fe4f-40bc-b136-c17ab29d924a",
   "metadata": {},
   "source": [
    "#### Decoding"
   ]
  },
  {
   "cell_type": "code",
   "execution_count": 27,
   "id": "d5e8554d-100c-4830-91b1-9135886b6e10",
   "metadata": {},
   "outputs": [
    {
     "name": "stdout",
     "output_type": "stream",
     "text": [
      "café\n",
      "<class 'str'> \n",
      "\n",
      "b'caf\\xc3\\xa9'\n",
      "<class 'bytes'> \n",
      "\n",
      "café\n",
      "<class 'str'>\n",
      "'ascii' codec can't decode byte 0xc3 in position 3: ordinal not in range(128)\n"
     ]
    }
   ],
   "source": [
    "place = 'caf\\u00e9'\n",
    "print(place)\n",
    "print(type(place),'\\n')\n",
    "\n",
    "place_bytes = place.encode('utf-8')\n",
    "print(place_bytes)\n",
    "print(type(place_bytes),'\\n')\n",
    "\n",
    "place2 = place_bytes.decode('utf-8')\n",
    "print(place2)\n",
    "print(type(place2))\n",
    "\n",
    "try:\n",
    "    place3 = place_bytes.decode('ascii')\n",
    "except UnicodeDecodeError as err:\n",
    "    print(err)"
   ]
  },
  {
   "cell_type": "markdown",
   "id": "a973b09d-879f-449f-a681-8e05fe8027a2",
   "metadata": {},
   "source": [
    "Whenever possible in Python use the UTF-8 encoding. It's the best supported and easiest to encode/decode.\n",
    "\n",
    "### HTML Entities\n"
   ]
  },
  {
   "cell_type": "code",
   "execution_count": 30,
   "id": "98fc4d8b-d46a-4b9e-876f-4ce1faef4b06",
   "metadata": {},
   "outputs": [
    {
     "name": "stdout",
     "output_type": "stream",
     "text": [
      "è\n",
      "é\n",
      "é\n"
     ]
    }
   ],
   "source": [
    "import html\n",
    "print(html.unescape(\"&egrave;\")) # Name\n",
    "print(html.unescape(\"&#233;\")) # Decimal\n",
    "print(html.unescape(\"&#xe9;\")) # Hex"
   ]
  },
  {
   "cell_type": "code",
   "execution_count": 31,
   "id": "eb9ad855-a0c6-41dc-bb91-a7a693c8b3c5",
   "metadata": {},
   "outputs": [
    {
     "name": "stdout",
     "output_type": "stream",
     "text": [
      "è\n"
     ]
    }
   ],
   "source": [
    "# You could also import the dictionary of entities and do it by name:\n",
    "from html.entities import html5\n",
    "print(html5['egrave'])"
   ]
  },
  {
   "cell_type": "code",
   "execution_count": 34,
   "id": "6edd6b06-2254-4d04-b7d7-36fff78982ce",
   "metadata": {},
   "outputs": [
    {
     "name": "stdout",
     "output_type": "stream",
     "text": [
      "eacute \n",
      "\n",
      "b'caf&#233;'\n",
      "caf&#233;\n"
     ]
    }
   ],
   "source": [
    "# To go from Python Unicode to HTML entity:\n",
    "char = '\\u00e9'\n",
    "dec_value = ord(char)\n",
    "print(html.entities.codepoint2name[dec_value],'\\n')\n",
    "\n",
    "# Or for strings do 2-step:\n",
    "place = 'caf\\u00e9'\n",
    "byte_value = place.encode('ascii', 'xmlcharrefreplace')\n",
    "print(byte_value)\n",
    "print(byte_value.decode())"
   ]
  },
  {
   "cell_type": "markdown",
   "id": "0a69b01d-2120-4941-8b41-96fb3ee3eef7",
   "metadata": {},
   "source": [
    "### Normalization\n",
    "Some Unicode chars can be represented by more than one encoding. "
   ]
  },
  {
   "cell_type": "code",
   "execution_count": 36,
   "id": "c5619778-a7ac-416b-81fa-798dab7e5247",
   "metadata": {},
   "outputs": [
    {
     "name": "stdout",
     "output_type": "stream",
     "text": [
      "é é é é é\n",
      "True\n"
     ]
    }
   ],
   "source": [
    "# Create e with accent by using different unicode methods\n",
    "eacute1 = 'é' # UTF-8, pasted\n",
    "eacute2 = '\\u00e9' # Unicode code point\n",
    "eacute3 = '\\N{LATIN SMALL LETTER E WITH ACUTE}' # Unicode name\n",
    "eacute4 = chr(233) # decimal byte value\n",
    "eacute5 = chr(0xe9) # hex byte val\n",
    "print(eacute1, eacute2, eacute3, eacute4, eacute5)\n",
    "print(eacute1 == eacute2 == eacute3 == eacute4 == eacute5)"
   ]
  },
  {
   "cell_type": "code",
   "execution_count": 43,
   "id": "034820a0-ef0b-47c0-9a47-e5abcc0cb7ca",
   "metadata": {},
   "outputs": [
    {
     "name": "stdout",
     "output_type": "stream",
     "text": [
      "LATIN SMALL LETTER E WITH ACUTE\n",
      "233\n",
      "233\n",
      "é é é\n",
      "True\n"
     ]
    }
   ],
   "source": [
    "# Build a e with accent by combining two characters so it looks the same\n",
    "import unicodedata\n",
    "print(unicodedata.name(eacute1))\n",
    "print(ord(eacute1))\n",
    "print(0xe9)\n",
    "eacute_combined1 = \"e\\u0301\"\n",
    "eacute_combined2 = \"e\\N{COMBINING ACUTE ACCENT}\"\n",
    "eacute_combined3 = \"e\" + \"\\u0301\"\n",
    "print(eacute_combined1, eacute_combined2, eacute_combined3)\n",
    "print(eacute_combined1 == eacute_combined2 == eacute_combined3)"
   ]
  },
  {
   "cell_type": "code",
   "execution_count": 45,
   "id": "0390c02e-c694-448a-a052-c7189b7fa6c8",
   "metadata": {},
   "outputs": [
    {
     "name": "stdout",
     "output_type": "stream",
     "text": [
      "False\n",
      "True\n"
     ]
    }
   ],
   "source": [
    "# though they look the same they are NOT equal\n",
    "print(eacute1 == eacute_combined1)\n",
    "\n",
    "# You can fix this with normalize()\n",
    "eacute_normalized = unicodedata.normalize('NFC', eacute_combined1) # NFC is 'normal form, composed'\n",
    "print(eacute_normalized == eacute1)\n"
   ]
  },
  {
   "cell_type": "markdown",
   "id": "7a836b8d-a574-4ce0-b6a3-e09fddf6c811",
   "metadata": {},
   "source": [
    "### Regular Expressions"
   ]
  },
  {
   "cell_type": "code",
   "execution_count": 55,
   "id": "d6645107-9207-419f-93ac-188c7bc7ac55",
   "metadata": {},
   "outputs": [
    {
     "name": "stdout",
     "output_type": "stream",
     "text": [
      "<re.Match object; span=(0, 5), match='Space'>\n",
      "<re.Match object; span=(0, 5), match='Space'>\n",
      "<re.Match object; span=(6, 10), match='Ball'>\n",
      "['a', 'a']\n",
      "['Space', 'Balls']\n",
      "Spooce Boolls\n"
     ]
    }
   ],
   "source": [
    "import re\n",
    "# match() matches a pattern at the beginning of a string\n",
    "print(re.match('Space', 'Space Balls'))\n",
    "\n",
    "# for more complex patterns you can compile them\n",
    "youpattern = re.compile('Space')\n",
    "print(youpattern.match('Space Balls'))\n",
    "\n",
    "# search() finds the first match if any\n",
    "print(re.search('Ball', 'Space Balls'))\n",
    "\n",
    "# findall() gives a list of all non-overlapping matches\n",
    "print(re.findall('a', 'Space Balls'))\n",
    "\n",
    "# split() splits source at matches with pattern and gives a list of the leftover pieces\n",
    "print(re.split(' ', 'Space Balls'))\n",
    "\n",
    "# sub() takes another replacement arg and changes all parts that are matched\n",
    "print(re.sub('a', 'oo', 'Space Balls'))"
   ]
  },
  {
   "cell_type": "markdown",
   "id": "e6b1653f-7e70-489a-8075-3db74ea825ba",
   "metadata": {},
   "source": [
    "#### RE Overview\n",
    " * \\d A single digit\n",
    " * \\D A single nondigit\n",
    " * \\w An alphanumeric character\n",
    " * \\W A non-alphanumeric character\n",
    " * \\s A whitespace character\n",
    " * \\S A nonwhitespace character\n",
    " * \\b A word boundary (between a \\w and a \\W, in either order)\n",
    " * \\B A nonword boundary\n",
    " *  abc Literal abc\n",
    " * ( expr ) expr\n",
    " * expr1 | expr2 expr1 or expr2\n",
    " * . Any character except \\n\n",
    " * ^ Start of source string\n",
    " * $ End of source string\n",
    " * prev ? Zero or one prev\n",
    " * prev * Zero or more prev, as many as possible\n",
    " * prev *? Zero or more prev, as few as possible\n",
    " * prev + One or more prev, as many as possible\n",
    " *  prev { m } m consecutive prev\n",
    " * prev { m, n } m to n consecutive prev, as many as possible\n",
    " * prev { m, n }? m to n consecutive prev, as few as possible\n",
    " * [ abc ] a or b or c (same as a|b|c)\n",
    " * [^ abc ] not (a or b or c)\n",
    " * prev (?= next ) prev if followed by next\n",
    " * prev (?! next ) prev if not followed by next\n",
    " * (?<= prev ) next next if preceded by prev\n",
    " * (?<! prev ) next next if not preceded by prev"
   ]
  },
  {
   "cell_type": "code",
   "execution_count": 60,
   "id": "0491223f-e81d-4732-a622-b4430960be1c",
   "metadata": {},
   "outputs": [
    {
     "name": "stdout",
     "output_type": "stream",
     "text": [
      "0123456789abcdefghijklmnopqrstuvwxyzABCDEFGHIJKLMNOPQRSTUVWXYZ!\"#$%&'()*+,-./:;<=>?@[\\]^_`{|}~ \t\n",
      "\u000b",
      "\f",
      "\n",
      "digits:  ['0', '1', '2', '3', '4', '5', '6', '7', '8', '9']\n",
      "non-aplhanum:  ['!', '\"', '#', '$', '%', '&', \"'\", '(', ')', '*', '+', ',', '-', '.', '/', ':', ';', '<', '=', '>', '?', '@', '[', '\\\\', ']', '^', '`', '{', '|', '}', '~', ' ', '\\t', '\\n', '\\r', '\\x0b', '\\x0c']\n",
      "spaces:  [' ', '\\t', '\\n', '\\r', '\\x0b', '\\x0c']\n"
     ]
    }
   ],
   "source": [
    "import string\n",
    "# string has a 'printable' testing string with 100 ascii chars\n",
    "printable = string.printable\n",
    "print(printable)\n",
    "print('digits: ', re.findall('\\d', printable))\n",
    "print('non-aplhanum: ', re.findall('\\W', printable))\n",
    "print('spaces: ', re.findall('\\s', printable))"
   ]
  },
  {
   "cell_type": "code",
   "execution_count": null,
   "id": "37eba3b2-ab63-4c7d-8690-fb89b3abd583",
   "metadata": {},
   "outputs": [],
   "source": []
  }
 ],
 "metadata": {
  "kernelspec": {
   "display_name": "Python 3",
   "language": "python",
   "name": "python3"
  },
  "language_info": {
   "codemirror_mode": {
    "name": "ipython",
    "version": 3
   },
   "file_extension": ".py",
   "mimetype": "text/x-python",
   "name": "python",
   "nbconvert_exporter": "python",
   "pygments_lexer": "ipython3",
   "version": "3.10.1"
  }
 },
 "nbformat": 4,
 "nbformat_minor": 5
}
