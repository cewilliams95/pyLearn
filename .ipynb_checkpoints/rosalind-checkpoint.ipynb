{
 "cells": [
  {
   "cell_type": "markdown",
   "id": "02e21a7e-2871-4b93-8a93-9b82477c80c7",
   "metadata": {
    "tags": []
   },
   "source": [
    "# Molecular Bio Intro\n",
    "The nucleus is considered the hub of cellular activity. **Chromatin** are macromolecules that fill it and condenses into chromosomes during mitosis. One class of these macromolecules is **nucleic acids**.\\\n",
    "Nucleic acids are **polymers**, repeating chains of smaller similarly structured molecules or **monomers**. They are called strands bc they are long and thin.\\\n",
    "A nucleic acid monomer is a **nucleotide**. These are used as a unit of strand length (nt). \\\n",
    "The structure of a nucleotide has three parts: a sugar molecule, a negatively charged ion (**phosphate**), and a compound called **nucleobase** (base).\\\n",
    "**Polymerization** is when the sugar of one nucleotide bonds to the phosphate of the next nucleotide in the chain. This forms a sugar-phosphate backbone for the nucleic acid strand.\\\n",
    "Nucleotides of a specific type of nucleic acid always contain the same sugar and phosphate molecules, they differ in their bases. This means strands can be told apart by the order of their bases (The primary structure)\\\n",
    "So, in DNA the bases are adenine(A), cytosine(C), guanine(G), and thymine(T). And a genome is the total sum of DNA in an organism's chromosomes."
   ]
  },
  {
   "cell_type": "markdown",
   "id": "5add00e3-a74e-4d3e-bb1c-f17c1a4f7922",
   "metadata": {
    "tags": []
   },
   "source": [
    "## Problem 1\n",
    "Given a string of length (s <= 1000) containing A,C,G,T return four integers representing the number of times each symbol(ACTG) occurs in the string."
   ]
  },
  {
   "cell_type": "code",
   "execution_count": 1,
   "id": "8e90676f-c9e3-4311-ac65-2e124f8ed9b3",
   "metadata": {},
   "outputs": [
    {
     "name": "stdout",
     "output_type": "stream",
     "text": [
      "225 214 256 238\n",
      "(225, 214, 238, 256)\n",
      "225 214 256 238\n"
     ]
    }
   ],
   "source": [
    "# O(N) Solution that looks at each symbol up to four times\n",
    "def nuc_count(sample):\n",
    "    a=0\n",
    "    c=0\n",
    "    t=0\n",
    "    g=0\n",
    "    for nucleotide in sample:\n",
    "        if nucleotide == 'A':\n",
    "            a += 1\n",
    "        if nucleotide == 'C':\n",
    "            c += 1\n",
    "        if nucleotide == 'T':\n",
    "            t += 1\n",
    "        if nucleotide == 'G':\n",
    "            g += 1\n",
    "    print(f'{a} {c} {g} {t}')\n",
    "    return \n",
    "\n",
    "# More elegant python solution, and since count() is a low-level C method it's fast\n",
    "def fast_count(s):\n",
    "    return s.count(\"A\"), s.count(\"C\"), s.count(\"T\"), s.count(\"G\")\n",
    "\n",
    "# Even less code but maybe less readable\n",
    "def short_count(s):\n",
    "    print(*map(s.count, \"ACGT\"))\n",
    "\n",
    "sample = 'GACATGTAACTTCTAGGATTCGAAGCGGCCTAAGGACGTGTTGACGCGGGTGTTATTATAATGTAGTCTGGGTGATTCAAGAAACCGCAGTATTACTGGTAACGACGCACCCGTAAAGGTCGGCTATTTTTGACTGCCCTATCGCATCAGCGCCCTGCAGACTGTAGGGATAGCTCAGGCGACGCAGGTTCTTTAGTTGCTTCGGTGGCGTGAGGGAGGTGCTAGAGGTGGTCCGCCTTTCAATGTATTGTACGCCTAGCAGCGTTATCCAACGGGACGATGTAAAGATGAATAAACCCGTGAATCTATTTGTAGATGGCATTCGACCCGAACATGGTTAACTGAGTATATAGACTCATACTCCAGGTTAGCGAAATTTTCAACGGCTGCGGCCATTCCAAGGGCTAAGTCCCGTCCGGAGTTCGTGCACTTAAGGGGCTATGCAGGGCTATATCTGATTGTGATATACATTTGTTTGGGCAGCTGAAGTTAAGCGCTATTATGCGAATCCAGCAAATGGCGTTCATTTAGTCGGCCAGGTGAAGATACTTAAGGCAGCGACCACGTCTCCCCATGGGGGAGATGGGGGAAACACGGTTACACTTTAGTACGTCGGCATCTTCTGGCACCTAAAGCTAAGAAGTTGTGTGCTTTAGACCGATGGCTGCAAACTCACGTGGCTTGGTCCGAGTAAAACCCATTACGTGGAGAACCGTCGTTGGTGTACCTCCAGCCCGGCTGGCCGGGGTAGAACTTCCTCCGGGTACAGCGGTCATACCGTTCCGGCAAAGCTTGGGGGCTAGCGAAAAGCAACTGGCTAGCAGCTGTATCTTTTTACATCTCCCTCCATCGCGCAGGGCATCATAGATCAATCAGTTCGTATAGATTCAGATTTAGGATACGACGAGCTATTGCTCCCCTGGGTACAGCAAC'\n",
    "nuc_count(sample)\n",
    "print(fast_count(sample))\n",
    "short_count(sample)\n"
   ]
  },
  {
   "cell_type": "markdown",
   "id": "8257f23b-609b-4b8f-af8f-5f8c01e61bf8",
   "metadata": {
    "jp-MarkdownHeadingCollapsed": true,
    "tags": []
   },
   "source": [
    "# The other Nucleic Acid\n",
    "In the chromatin, **RNA** (ribose nucleic acid) has a different sugar (ribose vs deoxyribose) and it has a base called **uracil** in place of thymine.\\\n",
    "Initially it was thought RNA was only in plants and DNA in animals, but both are present in all life.\\\n",
    "The DNA/RNA primary structure is so similar bc DNA serves as a blueprint for **messenger RNA** (mRNA), which is created through **RNA transcription** (T -> U)\\"
   ]
  },
  {
   "cell_type": "markdown",
   "id": "b1f94775-fc25-436d-b045-acebd8a1dfb4",
   "metadata": {},
   "source": [
    "## Problem 2\n",
    "Given a DNA string of length < 1000nt with A,C,T,G convert to a transcribed RNA string of A,C,G,U"
   ]
  },
  {
   "cell_type": "code",
   "execution_count": 22,
   "id": "753f2854-b272-447e-85cf-dd061414fb62",
   "metadata": {},
   "outputs": [
    {
     "name": "stdout",
     "output_type": "stream",
     "text": [
      "GAUGGAACUUGACUACGUAAAUU\n",
      "Correct! Passed test!\n",
      "\n",
      "UGAUCACACAGGCAUCACACAGUAUACAUCCCUAAUUAGAGGGCCAUUCCACUGCCCAGUUGAAGACCUUUUUGCGCGCCAAGAGGAAAGCUGCGCACAAGCCGCGAUACACAACAUACAUACGUACAGGGGUUGAGAAAGCGACGGACGUGGGCCACCGUGUCGUGGGACCAGUCGAACUGAUCAAUGAUGUUAUCCUCCUACAUUGUAUCAUCGAGACGCAUAACCGGUGCCAGGGGAAGAAAAUAGUAUGGUGAAUGAACGCCGACGGAGGUGUCACUUGAGGAUAACAGGUUGACUGGUUUAUCUUGAUAUUUCCUACGGUAUGCUCGGUAACAUUCUCAUCAGACGCUGUAGGCAGUGGUCGUAAUCCAGCCUCGUGAAGCAUUCAAGCUAAUCCAUUCCACCCGCCUCUGGCGGAGGGAUCAGUUAAUUAUCGUGUCGUCUCGCCAUGAGGAAUGGCUAGGACUCAAUGCAGUACGAAGUCCACGAAGUAAAUAAACAUCGGCACCGGAUGAGACGUCGCAUGCAAUGCCGAAAUGGGCAUACGCCGAGGUAAGAUCUGAGUUGGUAUAACGGAUGCCGGCCAUCCCAUACAUCCAUCAGAAAGACGUCAGGCCGGCAGGUGACACGUUGGGGGAGGGGGGGCCCGGCAUGAAUUGUCGUAGAGGACUUUGACCACAGGAUUGGUCUAACGGCUUUGAACUGAACUCGUGUUGACAUCCUCUCCUGACAUAAUUGUUUAGAUCGUAUCCUCGUCACUCACGAUACUAUGAAAUCUCACUUAGCAACACGUCCGCCCCUUGGACAUACCCACCGGGCUCCUAGAACGGGUCUUGGUUUUGCCCGCCAGUACACCGUCGUAAGCUGGAUCGCCAAUUCACCGGGUCCUUCUUAAACCUUUUAGCGCACGUCCGUGGGCCUAU\n",
      "\n",
      "UGAUCACACAGGCAUCACACAGUAUACAUCCCUAAUUAGAGGGCCAUUCCACUGCCCAGUUGAAGACCUUUUUGCGCGCCAAGAGGAAAGCUGCGCACAAGCCGCGAUACACAACAUACAUACGUACAGGGGUUGAGAAAGCGACGGACGUGGGCCACCGUGUCGUGGGACCAGUCGAACUGAUCAAUGAUGUUAUCCUCCUACAUUGUAUCAUCGAGACGCAUAACCGGUGCCAGGGGAAGAAAAUAGUAUGGUGAAUGAACGCCGACGGAGGUGUCACUUGAGGAUAACAGGUUGACUGGUUUAUCUUGAUAUUUCCUACGGUAUGCUCGGUAACAUUCUCAUCAGACGCUGUAGGCAGUGGUCGUAAUCCAGCCUCGUGAAGCAUUCAAGCUAAUCCAUUCCACCCGCCUCUGGCGGAGGGAUCAGUUAAUUAUCGUGUCGUCUCGCCAUGAGGAAUGGCUAGGACUCAAUGCAGUACGAAGUCCACGAAGUAAAUAAACAUCGGCACCGGAUGAGACGUCGCAUGCAAUGCCGAAAUGGGCAUACGCCGAGGUAAGAUCUGAGUUGGUAUAACGGAUGCCGGCCAUCCCAUACAUCCAUCAGAAAGACGUCAGGCCGGCAGGUGACACGUUGGGGGAGGGGGGGCCCGGCAUGAAUUGUCGUAGAGGACUUUGACCACAGGAUUGGUCUAACGGCUUUGAACUGAACUCGUGUUGACAUCCUCUCCUGACAUAAUUGUUUAGAUCGUAUCCUCGUCACUCACGAUACUAUGAAAUCUCACUUAGCAACACGUCCGCCCCUUGGACAUACCCACCGGGCUCCUAGAACGGGUCUUGGUUUUGCCCGCCAGUACACCGUCGUAAGCUGGAUCGCCAAUUCACCGGGUCCUUCUUAAACCUUUUAGCGCACGUCCGUGGGCCUAU\n"
     ]
    }
   ],
   "source": [
    "# Basic Solution\n",
    "def rna_transcribe(dna):\n",
    "    rna=''\n",
    "    for nuc in dna:\n",
    "        if nuc == 'T':\n",
    "            nuc = 'U'\n",
    "        rna += nuc\n",
    "    return rna\n",
    "\n",
    "# Pythonic - Use replace()\n",
    "def quick_trans(dna):\n",
    "    rna = dna.replace('T', 'U')\n",
    "    return rna\n",
    "\n",
    "# Test with sample data\n",
    "def test(sample, expected):\n",
    "    result = rna_transcribe(sample)\n",
    "    correct =  (result == expected)\n",
    "    print(result)\n",
    "    if correct:\n",
    "        print('Correct! Passed test!')\n",
    "sample = 'GATGGAACTTGACTACGTAAATT'\n",
    "expected = 'GAUGGAACUUGACUACGUAAAUU'\n",
    "test(sample, expected)\n",
    "\n",
    "sample2 = 'TGATCACACAGGCATCACACAGTATACATCCCTAATTAGAGGGCCATTCCACTGCCCAGTTGAAGACCTTTTTGCGCGCCAAGAGGAAAGCTGCGCACAAGCCGCGATACACAACATACATACGTACAGGGGTTGAGAAAGCGACGGACGTGGGCCACCGTGTCGTGGGACCAGTCGAACTGATCAATGATGTTATCCTCCTACATTGTATCATCGAGACGCATAACCGGTGCCAGGGGAAGAAAATAGTATGGTGAATGAACGCCGACGGAGGTGTCACTTGAGGATAACAGGTTGACTGGTTTATCTTGATATTTCCTACGGTATGCTCGGTAACATTCTCATCAGACGCTGTAGGCAGTGGTCGTAATCCAGCCTCGTGAAGCATTCAAGCTAATCCATTCCACCCGCCTCTGGCGGAGGGATCAGTTAATTATCGTGTCGTCTCGCCATGAGGAATGGCTAGGACTCAATGCAGTACGAAGTCCACGAAGTAAATAAACATCGGCACCGGATGAGACGTCGCATGCAATGCCGAAATGGGCATACGCCGAGGTAAGATCTGAGTTGGTATAACGGATGCCGGCCATCCCATACATCCATCAGAAAGACGTCAGGCCGGCAGGTGACACGTTGGGGGAGGGGGGGCCCGGCATGAATTGTCGTAGAGGACTTTGACCACAGGATTGGTCTAACGGCTTTGAACTGAACTCGTGTTGACATCCTCTCCTGACATAATTGTTTAGATCGTATCCTCGTCACTCACGATACTATGAAATCTCACTTAGCAACACGTCCGCCCCTTGGACATACCCACCGGGCTCCTAGAACGGGTCTTGGTTTTGCCCGCCAGTACACCGTCGTAAGCTGGATCGCCAATTCACCGGGTCCTTCTTAAACCTTTTAGCGCACGTCCGTGGGCCTAT'\n",
    "print(\"\\n\"+rna_transcribe(sample2))\n",
    "print(\"\\n\"+quick_trans(sample2))"
   ]
  },
  {
   "cell_type": "markdown",
   "id": "6cb14a47-a428-494e-af27-086eb0a8c3d0",
   "metadata": {
    "jp-MarkdownHeadingCollapsed": true,
    "tags": []
   },
   "source": [
    "# The Secondary and Tertiary Structures of DNA\n",
    "Primary structure tells you nothing about the 3D structure of DNA. The Watson & Crick (and Rosalind Franklin, and Raymond Gosling) paper from 1953 presented a structure:\n",
    "1. The DNA molecule is made of 2 strands running in opposite directions\n",
    "2. Each base bonds to a base in the opposite strand. Adenine to thymine, cytosine to guanine. The complement of each base is the base it always bonds to\n",
    "3. The two strands are twisted in a double helix.\n",
    "\n",
    "1, and 2 compose the **secondary structure** of DNA, and 3 the **tertiary structure**.\n",
    "The bonding of two complementary bases is called a **base pair**. Usually DNA length is represented by base pairs (bp) not nt.\\\n",
    "Because of the complementary nature, once you know one strand's bases you can deduce the other.\\\n",
    "The bases of each strand run in opposite order to match up."
   ]
  },
  {
   "cell_type": "markdown",
   "id": "6bc4e6bb-4220-4042-b060-0707a4d8a539",
   "metadata": {},
   "source": [
    "## Problem 3\n",
    "Complement of A is T, complement of C is G.\\\n",
    "Given a DNA string s of length <= 1000bp return the reverse complement"
   ]
  },
  {
   "cell_type": "code",
   "execution_count": 41,
   "id": "9ce49c1f-1a92-41b2-84ae-5e76ba3d2404",
   "metadata": {},
   "outputs": [
    {
     "name": "stdout",
     "output_type": "stream",
     "text": [
      "CTTGACGTCAACCGGACGAGTCGTGGGCTAGCCATGCAGACGCTGATTACTG\n",
      "\n",
      "\n",
      "CTTGACGTCAACCGGACGAGTCGTGGGCTAGCCATGCAGACGCTGATTACTG\n",
      "\n",
      "\n",
      "CTTGACGTCAACCGGACGAGTCGTGGGCTAGCCATGCAGACGCTGATTACTG\n"
     ]
    }
   ],
   "source": [
    "def rev_com(strand):\n",
    "    strand = strand[::-1] # extended slice with negative step\n",
    "    result = ''\n",
    "    for c in strand:\n",
    "        if c == 'A':\n",
    "            c = 'T'\n",
    "        elif c == 'T':\n",
    "            c = 'A'\n",
    "        elif c == 'C':\n",
    "            c = 'G'\n",
    "        elif c == 'G':\n",
    "            c = 'C'\n",
    "        result += c\n",
    "    return result\n",
    "\n",
    "# Clever workaround to use replace()\n",
    "def rev_com_workaround(strand):\n",
    "    # The upper() call lets you do all replaces in one go without compromising the others\n",
    "    result = strand.replace('A','t').replace('T','a').replace('C','g').replace('G','c').upper()[::-1]\n",
    "    return result\n",
    "\n",
    "# Translation method\n",
    "def rcom_translate(strand):\n",
    "    return strand[::-1].translate(str.maketrans('ACGT','TGCA'))\n",
    "\n",
    "sample = 'CAGTAATCAGCGTCTGCATGGCTAGCCCACGACTCGTCCGGTTGACGTCAAG'\n",
    "print(rev_com(sample))\n",
    "print('\\n')\n",
    "print(rev_com_workaround(sample))\n",
    "print('\\n')\n",
    "print(rcom_translate(sample))"
   ]
  },
  {
   "cell_type": "markdown",
   "id": "0b59fff3-5f13-4098-b3f6-a9b63b0bba97",
   "metadata": {
    "tags": []
   },
   "source": [
    "# Rabbits and Recurrence Relations\n",
    "Fibonacci's rabbits:\n",
    "1. The population begins the first month with a pair of newborn rabbits\n",
    "2. Rabbits reach reproductive age after a month\n",
    "3. Every rabbit of age reproduces in a given month\n",
    "4. Exactly one month after two rabbits mate they produce one male and one female rabbit\n",
    "5. Rabbits never die or stop reproducing\n",
    "How many rabbits will there be in one year?\\\n",
    "144 rabbits or total_months^2\n",
    "\n",
    "A **recurrence relation** is a way of defining the terms of a sequence with respect to the value of the previous terms.\\\n",
    "With the rabbits each month contains the rabbits that were alive in the previous month plus any new offspring.\\\n",
    "This also means the number of offspring in a given month is equal to the amount of rabbits two months prior: \\\n",
    "if n is the number of months and F<sub>n</sub> is the number of rabbit pairs alive\\\n",
    "F<sub>n</sub> = F<sub>n-1</sub> + F<sub>n-2</sub>\\\n",
    "When finding the nth term in a sequence, use a recurrence relation to generate progressively larger values of n. This is a dynamic programming concept.\n",
    "\n",
    "## Problem 4\n",
    "Given positive ints *n*<=40 and *k*<=5\n",
    "Return the total number of rabbit pairs present after *n* months, if beginning with 1 pair and in each generation, every pair of reproductive-age rabbits produces a litter of *k* rabbit pairs"
   ]
  },
  {
   "cell_type": "code",
   "execution_count": 2,
   "id": "9889d5de-b62d-4d2b-9254-05f1d4496570",
   "metadata": {},
   "outputs": [
    {
     "name": "stdout",
     "output_type": "stream",
     "text": [
      "47079164257\n",
      "Wall time: 227 ms\n",
      "4985520533788572478138143712304922574570812175459011698153379704472857147513663532589229883352870356149317474413074766280352143733958723915936843525354628514731874477707187606559407670300699587924788164858517177453400785714027160603614426654098138223865644305772844686501550883664134184441045219032877706833791083662353110109100620310415665170716017573936522098591485760232995174328244658446641692634964888170335809397508875359545007921169726486\n",
      "Wall time: 0 ns\n",
      "4985520533788572478138143712304922574570812175459011698153379704472857147513663532589229883352870356149317474413074766280352143733958723915936843525354628514731874477707187606559407670300699587924788164858517177453400785714027160603614426654098138223865644305772844686501550883664134184441045219032877706833791083662353110109100620310415665170716017573936522098591485760232995174328244658446641692634964888170335809397508875359545007921169726486\n",
      "Wall time: 1.03 ms\n"
     ]
    }
   ],
   "source": [
    "import timeit\n",
    "# While this recursive function is correct, the run time is inefficient\n",
    "def rabbit_pairs(n,k):\n",
    "    # Establish base case of F(1) = F(2) = 1\n",
    "    if n == 2 or n ==1:\n",
    "        return 1;\n",
    "    else:\n",
    "        # Sum of the current with the new rabbit pairs provided by the recurrence relation\n",
    "        return rabbit_pairs(n-1,k) + rabbit_pairs(n-2,k)*k\n",
    "%time print(rabbit_pairs(31,3))\n",
    "\n",
    "# This O(n) function is actually faster\n",
    "def fib(n,k):\n",
    "    prev1, prev2 = 1, 1\n",
    "    for i in range(2,n):\n",
    "        prev1, prev2 = prev2, prev1 * k + prev2\n",
    "    return prev2\n",
    "%time print(fib(999,5))\n",
    "\n",
    "# With Dynamic Programming (memoization) it is also fast\n",
    "# Use a dict to store the computed vals so far\n",
    "memo = {}\n",
    "def fib_memo(n,k=1):\n",
    "    #print(memo)\n",
    "    args = (n,k)\n",
    "    if args in memo:\n",
    "        return memo[args] # give back values already computed\n",
    "    # otherwise compute\n",
    "    if n == 1:\n",
    "        result = 1\n",
    "    elif n == 2:\n",
    "        result = 1\n",
    "    else:\n",
    "        result = fib_memo(n-1,k) + fib_memo(n-2,k)*k\n",
    "    memo[args] = result\n",
    "    return result\n",
    "%time print(fib_memo(999,5))\n"
   ]
  },
  {
   "cell_type": "markdown",
   "id": "f235ecb6-dc48-48cc-8f79-4ed8b508759d",
   "metadata": {},
   "source": [
    "# Identifying Unkown DNA Quickly\n",
    "Analyzing the frequency of letters used was a quick method to determine language. As long as the text is long enough the software will correctly recognize the language quickly and with low error.\\\n",
    "Two members of the same species will have different genomes they still share a large percentage of DNA (99.9% of the human genome is common to almost all humans.\\\n",
    "For this reason you hear people talking about the 'human genome', meaning the average-case genome. This can be assembled for any species.\\\n",
    "The biological equivalent for letter frequencies are molecules. The base pair relations of DNA strands means that cytosine and guanine will always appear in equal amounts in a double stranded DNA molecule.\\\n",
    "So, you can help identify a species by computing the molecule's **GC-content**, or the percentage of its bases that are either cytosine or guanine.\\\n",
    "In practice the GC-content of most eukaryotic genomes hovers around 50%. But since genomes are so long you can use small discrepencies to distinguish species.\\\n",
    "Most prokaryotes have a GC-content significantly higher than 50%, so GC-content can be used to quickly tell between pro and eu -karyotes using relatively small samples."
   ]
  },
  {
   "cell_type": "markdown",
   "id": "0bb68e5b-37d8-437c-97b3-d6cdd3a53bac",
   "metadata": {},
   "source": [
    "## Problem 5\n",
    "GC-content is a percentage of symbols in a string that are 'C' or 'G'. Reverse complements will have the same GC-content.\\\n",
    "DNA strings are labeled in DBs, a common format is FASTA, the string is introduced by a line that begins with '>' followed by labelling info.\\\n",
    "So, for Rosalind it will be '>Rosalind_xxxx' where xxxx is a 4-digit ID."
   ]
  },
  {
   "cell_type": "code",
   "execution_count": 31,
   "id": "aece1fd7-5866-4fd2-9eb6-964d5f3d3bea",
   "metadata": {},
   "outputs": [
    {
     "name": "stdout",
     "output_type": "stream",
     "text": [
      "Rosalind_0952 \n",
      " 51.914894\n"
     ]
    }
   ],
   "source": [
    "# Parse FASTA file into dict of samples\n",
    "def parse_fasta(fname):\n",
    "    samples = {}\n",
    "    with open(fname, \"r\") as fh:\n",
    "        curr_sample = ''\n",
    "        for line in fh:\n",
    "            if not line:\n",
    "                return\n",
    "            else:\n",
    "                line = line.rstrip()\n",
    "                if line.startswith(\">\"):\n",
    "                    line = line.replace('>','')\n",
    "                    samples[line] = \"\"\n",
    "                    curr_sample = line\n",
    "                else:\n",
    "                    samples[curr_sample] += line\n",
    "    return samples\n",
    "\n",
    "# Get the GC_content for a given sample\n",
    "def get_gc(label,sample):\n",
    "    c = sample.count('C')\n",
    "    g = sample.count('G')\n",
    "    sample_len = len(sample)\n",
    "    gc_content = ((c+g)/sample_len)*100\n",
    "    return {'gc_name':label,'gc_value':format(gc_content, '.6f')}\n",
    "\n",
    "# Collect the dict\n",
    "sample_dict = parse_fasta('./data/rosalind_gc.txt')\n",
    "# Compute and compare GC-content for each sample, preserving the highest\n",
    "highest_gc = {'gc_name':'','gc_value':0.000000}\n",
    "for name,data in sample_dict.items():\n",
    "    gc = get_gc(name,data)\n",
    "    if highest_gc['gc_name'] == '':\n",
    "        highest_gc = gc\n",
    "    elif gc['gc_value'] > highest_gc['gc_value']:\n",
    "        highest_gc = gc\n",
    "print(highest_gc['gc_name'].replace('>',''),'\\n',highest_gc['gc_value'])"
   ]
  },
  {
   "cell_type": "markdown",
   "id": "23ff847c-7d22-43f6-9870-0781501d797a",
   "metadata": {
    "tags": []
   },
   "source": [
    "### Advanced info\n",
    "In prokaryotes GC content correlates coding-sequence length, correlates with certain secondary RNA structures, and there is a bias towards low GC content in stop codons(TAG, TAA, and TGA). Those are a few situations in which GC-content computation can be helpful. Long coding regions in vertebrates and prokaryotes are significantly correlated with GC content. Long coding regions being GC-rich and short being GC-poor. Codons are biased to being AT rich, so mutations in AT rich regions can likely lead to the generation of stop codons. Wheras in GC regions many such muataions might be required to spontaneously lead to stop codons. Conserved regions across organisms are likely GC-rich.\n",
    "\n",
    "Oliver, JL and Marin, A. A relationshiip between GC content and coding-sequence length. J Mol Evol 1996 Sep;43(3)216-23\n",
    "\n",
    "Andersson, SGE and Kurland CG. Genomic evolution drives the evolution of the translation system. Biochem. Cell Biol 73:775-787 (1995)\n",
    "\n",
    "D'Onofrio, Giuseppe and Benardy, Giorgio. A Universal Compositional correlation among Codon Positions. GENE, 110(1992)81-88"
   ]
  },
  {
   "cell_type": "markdown",
   "id": "2adafbeb-7693-406b-a554-a627ba27d163",
   "metadata": {},
   "source": [
    "# Counting Point Mutations\n",
    "A **mutation** is a mistake that happens when creating or copying a nucleic acid (DNA). Mutations cause a ripple effect through a cell. The macro effects of evolution are a result of a series of benefecial mutations over many generations.\\\n",
    "A **Point Mutation** Is the simplest form of mutation, where a base is replaced with another at a single nucleotide. For DNA this means the complementary base changes too.\\\n",
    "Two species genomes are **homologous** when they share a recent ancestor, and counting the bases where they differ gives us the minimum single point mutations that could have occured in the evolutionary pathway.\\\n",
    "**Parsimony** as a principle means evolution takes the shortest path to occur. This is why we minimize the point mutations.\n",
    "\n",
    "## Problem 6\n",
    "Given two strings s and t of equal length (not exceeding 1kbp), compute the **Hamming Distance** ( d<sub>h</sub>(s,t) ) or the minimum number of symbol substitutions required to change one string into another of equal length."
   ]
  },
  {
   "cell_type": "code",
   "execution_count": 7,
   "id": "6f7586b3-487b-4dee-9b80-cc6ed0bcb06f",
   "metadata": {},
   "outputs": [
    {
     "name": "stdout",
     "output_type": "stream",
     "text": [
      "510\n",
      "510\n"
     ]
    }
   ],
   "source": [
    "# Basic solution\n",
    "def ham_dist(s,t):\n",
    "    diff = 0\n",
    "    for idx,c1 in enumerate(s):\n",
    "        if t[idx] != c1:\n",
    "            diff += 1\n",
    "    return diff\n",
    "\n",
    "# More pythonic using zip! (O(n))\n",
    "def hamlam(s,t):\n",
    "    ''' This is pretty brief but zip() is pairing up each position of the list-converted strings \n",
    "        then the lambda filter is comparing them and only leaving behind the differing postitions, \n",
    "        so if you count the length of the remaining list you have your difference'''\n",
    "    diff = list(filter(lambda pair: pair[0] != pair[1], zip(list(s),list(t))))\n",
    "    return len(diff)\n",
    "sample1 = 'CCTCTAACCTAAACACTAGCAATCGGTGGGATCAGATTGATGCGCTCAGCCGTTGCTGTTTTGACCTAGGATCGTGTTATCGGTTTCTCATCCCGAATACTCGAGGTCTCGTGTGGTGAAGGACGTACATCCTCGTACGCCTGGGTTAGAGTGTTGGTAATTTCATGGGATGGAAGCTAACTCCAAAACATGGCGCACGTACGTTACGTGAAACTATGAAGCGGTTGACCAGGGTAAATTCTTCAATATACGCCCACGCCTTACAAGCTCGTACGGCGTCGTGTTGCCCGCATTCCCACTTGCGCTCTTGTAACAGAGGAACTGCAAAGGCCCACGCTACAATCTCGTCCAGGCCCTCTGCGTGTTACGGATTTTTTTTTACGGCTGATAAATCTGGAGAACTGCGTGTCCAGCAGCAAAGTCCATCATGTGCGTTGGAAAAAGTTCACTCATGTCGCATTCATTGCTCATTCACATATAGAGTATTATGCCGTCACCAAGCCGGATGCGCGAAACGAGAGTTAGCGTTACATATCATCTCGGCATAGAGGACCGTACCCCGAAGTAATATTTCAATGATGCATTCGTCCTACGGCTCGTGTCACTATTACCAGCTACTGTCTAGCTCAAACCGTAAAGCCAAGTTTTGCCCCGCGAATTAGATCCACTTATGCCTCTAACCGGGTTTAGATTCTGGCTCGGGCATCCGACCGGTGTCTCACTAGTGTGAGAAGCAATCCGGTGGTGTCTACGCGAAGATACGAGCGGACGCCGGTTTACGCATGATGGATGGTCTTGAATAAATAATCCAGTTTCGCAACATTTGTCGGAAGTGACGAGTGAACCTGTTAATAGTAATCAAGCCCGCTAGTGTATTTACTTGCCTCACTACTTTCGGATGAGGGGGCTGATGCTACCTGTCGGCTGAGAGTTCATGCCCTGGTATACAACACATGGCGGACAGGCC'\n",
    "sample2 = 'CGTAAAACCACATCTAAATCCAGCGTGCGTCTCTGGATGTGGCGATAGGCTTTGGCTAAAACTACCCAGCATCCGTAGAACTTGTTCACGTCACCAAATTTGCAGGGCAGGCGTGCTGAGTGGGGTCGACCGTAATTGTCAACGACCTGAATCTTGCAATGTCCTGCGTTTGGTGTCTAATTCAATCGAACCCCTTACGTACACTGCGTCAAAAATTGATCCAATGGGTATTGGAAACTTCGTCGCAATGAAGTCTGGCAATTCAAACCGCTCACGCAACGTGATGAAAACGCTACGATAATAACACCATTTATTGAGGGCGTTTCGACCCCAAGGGGTTGATTAGTTCAAGGCCCTAGGACTTACCCGGATTAGTTTGTACCCCAGTGACAACTGTAGGAGGACGTGGAAGGTAGTAAACTGTAACGTGGCCATAGAATAATTTTGACTCAAGTCCTGTAGGCAGTGAGTCGGCTAGCAAAGTAATATTCGTTAACCTAGGCTGCCCTTCCCCACCGGAGGTACAGTTATAACGTATATCCCTTTAAGGGTGAGTCCCCAGACTTCGTATTAAGATCAGAAAATCTCCGTATGTGTTGTACAGCCTGCGCCACTGAGTGGCGATTGCTATCGGTCCAAACGAGCAAGGTGAAGGGGATTACACCCAAATATGCGAGGTGCGCGGTTCCAATTCGGGTCTAGTAGGTGGACACGTGTGGGTAGAGCATATTACCCACTCAGGTCGTAATTACCTGAGGATCGGAATAAGCTCATGAACGCCCAAATGGTCTAAATTTGAAGCGAAAGGCACGTGTTGCAATAGGCCTAGGATGGCCAAAGGGATCGTGTACAAAGTACGCAACCACGGGGGAAGAGAACTTGGCGTCTCTGGGTATATCCGAGCTCCCTTCGGTTGATTGTCGAGTTTGTGTTCTTGAACTATGGTCCGAATCATTACATACTGGCA'\n",
    "print(ham_dist(sample1, sample2))\n",
    "print(hamlam(sample1,sample2))"
   ]
  },
  {
   "cell_type": "markdown",
   "id": "ed93da93-bc76-4193-b64d-5e2f634423a6",
   "metadata": {},
   "source": [
    "# Mendel's First Law\n",
    "Mendel's pea plants demonstrate what's called **blending inheritance**, a faulty hereditary theory that states an individual exhibits a blend of its parents traits. This idea is discounted by all the kids who end up taller than their parents and that, by this theory, eventually all traits would blend into an average and limit any variation.\\\n",
    "After working with thousands of pea plants Mendel found that instead of viewing traits as continuous processes, they should be divided into discrete building blocks called **factors** and every factor posseses distinct forms called **alleles**.\\\n",
    "His first law is the **law of segregation**: Every organism posseses a pair of alleles for a given factor. If the two alleles are the same it is **homozygous** for that factor. If they differ it is **heterozygous** for the factor.\\\n",
    "This first law states that for a given factor an organism randomly passes one of its two alleles to its offspring. These alleles are either dominant or recessive, recessive only able to be expressed if it is homozygous for that factor.\\\n",
    "\n",
    "## Problem 7\n",
    "We can model probability with a random variable. For example, given a bag with 3 red balls and 2 blue balls Pr(X=red)=3/5 and Pr(X=blue)=2/5. If Y is the color of a second ball drawn from the same bag, the probability of Y being red depends on the first ball.\\\n",
    "To represent all outcomes of X an dY you can use a **<a href=\"https://rosalind.info/media/problems/iprb/balls_tree.thumb.png\">probability tree diagram</a>** which will represent all possible outcomes with probabilities with outcomes, the leaves of the tree, being the product of the probabilities along the path.\\\n",
    "An event is a collection of outcomes, so the probability of an event can be written as the sum of the probabilities of its constituent outcomes. So if A is the event \"Y is blue\" in the example above Pr(A) is the sum of the probabilities of two outcomes: Pr(X=blue and Y=blue) + Pr(X=red and Y=blue), or (3/10)+(1/10)=(2/5) *see probability tree diagram*\n",
    "\n",
    "So, given three positive ints k,m,and n representing a population containing k+m+n organisms: **k** individuals are homozygous dominant for a factor, **m** are heterozygous, and **n** are homozygous recessive.\\\n",
    "Return the probability that two randomly selected mating organisms will produce an individual possessing a dominant allele (displaying the dominant phenotype). Assume that any two organisms can mate."
   ]
  },
  {
   "cell_type": "code",
   "execution_count": 34,
   "id": "52f73f83-e7ac-4261-b60e-f31cba5042f3",
   "metadata": {},
   "outputs": [
    {
     "name": "stdout",
     "output_type": "stream",
     "text": [
      "0.6820676031606673\n",
      "0.6820676031606673\n",
      "0.6812636165577342\n"
     ]
    }
   ],
   "source": [
    "# dominant, heterozygous, recessive\n",
    "def probdom(d, t, r):\n",
    "    population = d+t+r\n",
    "    # the (d*d)-d comes from a first round pick multiplied with a second round pick AKA d(d-1) => (d*d)-(1*d) => (d*d)-d\n",
    "    # 2*d*r comes from the instance of two d*r factors \n",
    "    # weights are 1 for anything with a dominant, .75 for two heterozygous, and .5 for heterozygous w/ recessive, and 0 for fully recessive\n",
    "    prob = (((d*d)-d) + 2*d*r + 2*d*t + 2*(r*t*.5) + .75*(t*t - t)) / (population*(population-1))\n",
    "    return prob\n",
    "print(probdom(20,19,29))\n",
    "\n",
    "#More concise version of it using the complementary probability of getting no dominant alleles (1 - opposite prob)\n",
    "def firstLaw(k,m,n):\n",
    "    N = float(k+m+n)\n",
    "    return 1 - ( m*n + .25*m*(m-1) + n*(n-1) ) / ( N*(N-1) )\n",
    "print(firstLaw(20,19,29))"
   ]
  },
  {
   "cell_type": "markdown",
   "id": "c023268b-768b-4d05-bf33-dad89198d055",
   "metadata": {
    "tags": []
   },
   "source": [
    "# Translating RNA into Protein\n",
    "## The Genetic Code\n",
    "Nucleic acids are polymers, *molecules made up of a repeating chain of subunits*, of nucleotides; **proteins** are chains of amino acids. 20 amino acids commonly occur in every species.\\\n",
    "As in nuceic acid, the **primary structure** of a protein is the order of its amino acids. Some proteins are made of several subchains called **polypeptides**, while others are from a single polypeptide.\\\n",
    "Proteins power every practical functions of cells. So, the key to undertanding life may lay in interpreting the relationship between a chain of amino acids and the function of the protein it creates.\\\n",
    "The study of proteins is called **proteomics**.\n",
    "\n",
    "**Messenger RNA (mRNA)** is translated into amino acids for protein creation, but 4 RNA bases manage to get translated into 20 amino acids. \\\n",
    "For this to work we must translate 3-nucleobase strings called **codons** into the amino acids. There are 4^3=64 possible codons, so multiple codons can encode the same amino acid.\\\n",
    "Two special codons are the **start codon(AUG)** which always codes for methionine which indicates the start of a translation, and the three\\\n",
    "**stop codons (UAA, UAG, UGA)** which don't code for an amino acid and cause the translation to end.\n",
    "\n",
    "This notion that protein is created from RNA which in turn is created from DNA forms the **central dogma of molecular biology**. Keep in mind it is an *approximation* of the truth and may not always hold.\n",
    "\n",
    "Ribosomes create peptides by using **transfer RNA (tRNA)**. A single tRNA molecule posses a string of three RNA nucleotides on one end (called an **anticodon**) and an amino acid at the other end. \\\n",
    "The ribosome takes an RNA molecule transcribed from DNA, mRNA, and examines it one codon at a time. At each step the tRNA possessing the complementary anticodon bonds the mRNA at this location and the amino acid found on the opposite end of the tRNA is added to the peptide chain before the remaining part of the tRNA is ejected into the cell and the ribosome looks fo the next tRNA molecule.\n",
    "\n",
    "Not every RNA base becomes translated into protein and an interval of RNA (or DNA translated to RNA) that does code for a protein is of great interest. Such an interval of DNA or RNA is called a **gene**.\n",
    "\n",
    "The 20 amino acids are represented by 20 letters from the English alphabet (all except B,J,O,U,X,and Z). Protein strings are constructed from these symbols.\\\n",
    "So a *genetic string* can be DNA, RNA, or Protein.\\\n",
    "The **RNA codon table** indicates the translation of individual RNA codons into amino acids for protein creation:\\\n",
    "UUU F&nbsp;&nbsp;&nbsp;&nbsp;&nbsp;      CUU L&nbsp;&nbsp;&nbsp;&nbsp;      AUU I&nbsp;&nbsp;&nbsp;&nbsp;      GUU V\\\n",
    "UUC F&nbsp;&nbsp;&nbsp;&nbsp;&nbsp;      CUC L&nbsp;&nbsp;&nbsp;&nbsp;      AUC I&nbsp;&nbsp;&nbsp;&nbsp;      GUC V\\\n",
    "UUA L&nbsp;&nbsp;&nbsp;&nbsp;&nbsp;      CUA L&nbsp;&nbsp;&nbsp;&nbsp;      AUA I&nbsp;&nbsp;&nbsp;&nbsp;      GUA V\\\n",
    "UUG L&nbsp;&nbsp;&nbsp;&nbsp;&nbsp;      CUG L&nbsp;&nbsp;&nbsp;&nbsp;      AUG M&nbsp;&nbsp;&nbsp;&nbsp;      GUG V\\\n",
    "UCU S&nbsp;&nbsp;&nbsp;&nbsp;&nbsp;      CCU P&nbsp;&nbsp;&nbsp;&nbsp;      ACU T&nbsp;&nbsp;&nbsp;&nbsp;      GCU A\\\n",
    "UCC S&nbsp;&nbsp;&nbsp;&nbsp;&nbsp;      CCC P&nbsp;&nbsp;&nbsp;&nbsp;      ACC T&nbsp;&nbsp;&nbsp;&nbsp;      GCC A\\\n",
    "UCA S&nbsp;&nbsp;&nbsp;&nbsp;&nbsp;      CCA P&nbsp;&nbsp;&nbsp;&nbsp;      ACA T&nbsp;&nbsp;&nbsp;&nbsp;      GCA A\\\n",
    "UCG S&nbsp;&nbsp;&nbsp;&nbsp;&nbsp;      CCG P&nbsp;&nbsp;&nbsp;&nbsp;      ACG T&nbsp;&nbsp;&nbsp;&nbsp;      GCG A\\\n",
    "UAU Y&nbsp;&nbsp;&nbsp;&nbsp;&nbsp;      CAU H&nbsp;&nbsp;&nbsp;&nbsp;      AAU N&nbsp;&nbsp;&nbsp;&nbsp;      GAU D\\\n",
    "UAC Y&nbsp;&nbsp;&nbsp;&nbsp;&nbsp;      CAC H&nbsp;&nbsp;&nbsp;&nbsp;      AAC N&nbsp;&nbsp;&nbsp;&nbsp;      GAC D\\\n",
    "UAA Stop&nbsp;   CAA Q&nbsp;&nbsp;&nbsp;&nbsp;      AAA K&nbsp;&nbsp;&nbsp;&nbsp;      GAA E\\\n",
    "UAG Stop&nbsp;   CAG Q&nbsp;&nbsp;&nbsp;&nbsp;      AAG K&nbsp;&nbsp;&nbsp;&nbsp;      GAG E\\\n",
    "UGU C&nbsp;&nbsp;&nbsp;&nbsp;&nbsp;      CGU R&nbsp;&nbsp;&nbsp;&nbsp;      AGU S&nbsp;&nbsp;&nbsp;&nbsp;      GGU G\\\n",
    "UGC C&nbsp;&nbsp;&nbsp;&nbsp;&nbsp;      CGC R&nbsp;&nbsp;&nbsp;&nbsp;      AGC S&nbsp;&nbsp;&nbsp;&nbsp;      GGC G\\\n",
    "UGA Stop&nbsp;  CGA R&nbsp;&nbsp;&nbsp;&nbsp;      AGA R&nbsp;&nbsp;&nbsp;&nbsp;      GGA G\\\n",
    "UGG W&nbsp;&nbsp;&nbsp;&nbsp;&nbsp;      CGG R&nbsp;&nbsp;&nbsp;&nbsp;      AGG R&nbsp;&nbsp;&nbsp;&nbsp;      GGG G\n",
    "\n",
    "## Problem\n",
    "Given an RNA string s return the protein string encoded by s"
   ]
  },
  {
   "cell_type": "code",
   "execution_count": 29,
   "id": "6c71240d-8b22-45fd-b27e-9da65ad67708",
   "metadata": {},
   "outputs": [
    {
     "name": "stdout",
     "output_type": "stream",
     "text": [
      "MHWRVLRQDRSFWVDRIDLYTYIHTLPVLLHHVSASLNHGRGERITTYCRPIKYTADPRAIRYIPFASPCSHRIQTSYTTLAFSELKSRLNSPSSGLRVPMHCSKNHDPYRRSISDTLDICCPRALAIIQTASYSRLKPIIGARSSDQRPRHAPHRCRRELFSFSLLVAKFCAPYAQRWLSRTVHMATVFLQYVVKKPTTSLISITCHLSAFRDGSHSIGCGSCTNHHTLLQRDIAGYGPLTLDSFHSFACPDTPLTLYCSVNISSKKHSFRVSKNKHVWESIPQQSNPRYWFHARIVVILNRNILFAKTPVKGRDLQPVSRHSKLWNIFSNLRSSEAVYLDYHLTYLLNPALSRELAYVEETGTHQICNTVGCHSYVLLHFTSLNEGVPERSSDVMNWGITHTLEAHYRSRVVICGKLVTRLGRFLYPTRVQSGANLVATAKYSDQRAAQAGGAGFQDNQSKGTWLMSYVSQPSCVPTDAATSYRGKWTKCQSNIRVAKEERRDDRCGPITWVSVARMKHWPPSHNYPTSLLLASKTILNHFPYQRYPKITSAPVTLLQGSARTMQPDLGRRMYRPRNLGSDIACHLTLVSGPDQDSAAYEHPLNIGLRICAPPRSTKLRIPGVIFSGQSTSARNTESPLAELNWRSLRTSLEGPAVGEVIKAQHTSLSHRLATVALTEISAFVGQRARQYLLPAGPVTRSRCLPCTAPVERLPSFSRPDLSTVSASKSKVHSSPLSTHQPPSQLNVSTIGLSLVSECSRLRSDNHTSHGFSTSYILVHSLESPFSTKVPAGSSSPCLLMRTKGTISEGHNQYESGLQLQRRGAGAWKTTAYRVQCRRTTDKLTVNGSRGCCLGRSNPHIHVLRRSFGTLGRRMLVRPHLPHTHEIAGVSDSGARSLIAVLRDITIYTAQGLDLLVQVGPPRLAPRILSASRRTASRENFLGNERIKYVMFGVGIATLPRGQWLMLRTKGGQNSRLIKRFFVVYGHQSIKGSYKQPPVKELLGHVRKVLICGTYSVAGQRVCAVFETKCTRPTRSPLLSYSGEPQLSYTSCRSTSTHLPDPVVTSRDAGLCRIPSSSAAGRAAVSGSKWSLDLRSVFRLTDSFSLAMSGSNHHVNIGTILGSSVRRSVRILAPWSYCISVTHNAICGPVFLYKSRVSVLPTWQALGITLRPPCGHAVTQGHGRMPGRGTITLPVSSGRSTAELRSLNPRFGVVKRRRALHVGCSTRGLMGGITSQKFSHWCRLAGSSQSSGAPYSPVRHSGRILQPPGTRRRRRSDEGETELLWSRTLGPGSTRPLALETDLWSPNYCLLAALPYLLCMLRRKARGIRLPVQYPTGSQPLNLTTTGQARYAISRTEKYRVLLEPVKRSGRGLFVFSVILLGKDYNFGGVDAPDARTNLSVATYKDPNVQDIEPAQKATRSILLNLAHRIQIQCASAGQALACARSKLRRDTQGPTGALSVANVTHRQTEQCLMCCWRRVHGAVVDCANDIHSNPRRSHEPSNSVYGFLVTIVISTCYQRRPHYLDTTPYYFLYRFGSAKCATALAKVPVDEHRFLSKPCQAGKLLRVAMSAQHPPPSFPPKSSVPGLICEHNTLSEQGVITVSSYCLSQVWHVHPRYWSAILSTPPSSPRTPYSGTTGYQRYTDVFKSVSRSPLDYLGLEKQGSTKIEAPTQGLLLVRCDKDGVQQRRNLLSSLQFRHSGIRLGTPGTHLTAFFRALVVGAPVDAAHGETTLILALLQKRKPTGSNHSAYSGANFSFESTLYEVNSPIRSRCDFLALLLEAPLSKSVGVWVAIREPIEWILAIFPAILIPDYAGVLRSIRSCLALRQRGFRNSLACMAPASILAGVGPGQKMPTGRLVGAACKSRGASLVVIHGSCPRLARLCTTLRFLLDTVRSKARYRLSDDISVQSYPLCALLHGASSALSISVQHAIPSPSSILGLKWMFGNPAGRGAYCAAHPPSAWIPPTPLAVSHNKGAPMNYGHSMTAPLQSSWRPLQQNVTIRQHRGPAHDQWLLSPYHRWTGSSAGDWQIRTLANSHETFQFMLRVPPGKHRNRHRHTGGTTLFYRNLYLVQLPHRIVELTPCNQNGWSHLQPRFEPIYPRSMVQDGQNWRSAIRRTSGLTGPNHHAQVLVNLFTPEPSVNGALATVRWTPLQLQTRTGILLCRTNILFGEQRLIRWIVPCYPLDHLLDNPGVRHLTQFTCSACCVRTLFTCYDGCHVILTEVEDDYAALRRPVTRPSSRLNRTRDSRRSSSTEHINRMLTLGADCYRMPPHITPDATAMILSNLKFTSQRYVDLPCERTYSRNTGHVQIRPPQEWGQGAYGGCTGMSAFPRPLVIGQTRSSTGCVVKSDPTICLMTKPLTPVVLRYLPPINGFLSQTCWIRQILSGIIRLAQHTCIEYSPDSPSRPTPLLWVVGIIALPFVTFLTGIDVILPTHVVPGLNRAYGVGLIFYKVALPRLDRLENALSAREVLFFLDLERILASTENNYNLKRTWDASSLFVKWRSPNRRNSAIMVRVEYCTNRYGTLIRCGVLTRGCVRSYIAELFSGWVNAHCGYSPSEGNQPVVYRSESRCDFLANGFIGSRVWVCLGISLMGKERVRVSTPGVDQNVSRYYFTNPLIRHSRSSQSMYRLRKGACIGLELSLEGYPHTHSKYSPRDVFYVVFGSGHNAYIAVCSLRFAFAAVWRFVSRCSHAAFYAFSCGHRHSPNERCAKPYLYSAALSSPAGINSTPCTSRIFVPTKLLSRRRTERGLGVLATISIGRPWTPQEMFKSGVRPQAVSSVASFQRHATAEFTNEFARTLIRGLDYVTEITIVNLSTVAYQCLGCQRHFSRNGFIERDRVGACSMPLELHLPVAVFKRRRSRVGIVLCAMGAGHDVPFRKNVSVSRIQILVLAHGPSIQSAPTTYEQSHNVRQSISSVRIALGWTTAREEPSIDNVTRELVHCYRSNQMSDQCVGHWSVNPFRTRKIITLNWNVRCRNIPRIHQTDPLHRPTQPGYVESGPSLPQRYRIQRGEVVSVQFPPRGKPGSNGRRRSYTCSRACFNLLEASSKSSSAPYLVLALPFPHIPRSPRGLREPFRACRCMMMYWGESHPPIHGVFFEPRGETEVRASTFPPISPDE\n"
     ]
    }
   ],
   "source": [
    "# My solution: Create dict of codon key, separate the codons with regex, and map codon_key dict values to their approprate keys with a list comp\n",
    "import re\n",
    "def proteinify(rna):\n",
    "    codon_key = {\"UUU\":\"F\", \"CUU\":\"L\", \"AUU\":\"I\", \"GUU\":\"V\", \"UUC\":\"F\", \"CUC\":\"L\", \"AUC\":\"I\", \"GUC\":\"V\", \"UUA\":\"L\", \"CUA\":\"L\", \"AUA\":\"I\",\"GUA\":\"V\", \"UUG\":\"L\", \"CUG\":\"L\", \"AUG\":\"M\", \"GUG\":\"V\", \"UCU\":\"S\", \"CCU\":\"P\", \"ACU\":\"T\", \"GCU\":\"A\", \"UCC\":\"S\", \"CCC\":\"P\", \"ACC\":\"T\", \"GCC\":\"A\", \"UCA\":\"S\", \"CCA\":\"P\", \"ACA\":\"T\", \"GCA\":\"A\", \"UCG\":\"S\", \"CCG\":\"P\", \"ACG\":\"T\", \"GCG\":\"A\", \"UAU\":\"Y\", \"CAU\":\"H\", \"AAU\":\"N\", \"GAU\":\"D\", \"UAC\":\"Y\", \"CAC\":\"H\", \"AAC\":\"N\", \"GAC\":\"D\", \"UAA\":\"\", \"CAA\":\"Q\", \"AAA\":\"K\", \"GAA\":\"E\", \"UAG\":\"\", \"CAG\":\"Q\", \"AAG\":\"K\", \"GAG\":\"E\", \"UGU\":\"C\", \"CGU\":\"R\", \"AGU\":\"S\", \"GGU\":\"G\", \"UGC\":\"C\", \"CGC\":\"R\", \"AGC\":\"S\", \"GGC\":\"G\", \"UGA\":\"\", \"CGA\":\"R\", \"AGA\":\"R\", \"GGA\":\"G\", \"UGG\":\"W\", \"CGG\":\"R\", \"AGG\":\"R\", \"GGG\":\"G\" }\n",
    "    codons = re.findall(\".\"*3, rna)\n",
    "    result = ''.join([codon_key[i] for i in codons]) # list comprehension to map codons, then join together\n",
    "    print(result)\n",
    "sample = \"AUGCAUUGGCGUGUACUAAGGCAGGACAGAUCUUUCUGGGUUGACCGCAUCGACCUGUACACAUAUAUCCAUACUUUACCGGUACUGUUGCAUCAUGUCAGUGCCAGUUUGAAUCACGGGCGCGGAGAACGGAUAACGACAUACUGUCGACCCAUUAAAUAUACGGCUGACCCGCGGGCUAUCCGAUAUAUUCCUUUUGCGUCUCCCUGCUCCCACAGGAUUCAAACGAGCUAUACAACAUUAGCAUUCAGCGAGUUGAAGAGCCGCCUUAACUCUCCAUCAUCGGGCCUACGGGUCCCAAUGCACUGUUCUAAGAACCACGAUCCGUACCGGAGGAGUAUCUCUGAUACCCUCGACAUAUGCUGUCCGCGUGCGCUUGCUAUAAUACAAACAGCAAGUUAUUCUCGGCUCAAACCCAUCAUAGGAGCACGUUCUAGUGACCAGAGGCCUCGCCAUGCUCCUCACCGAUGUCGCCGCGAGUUGUUCUCGUUUUCACUGCUGGUAGCCAAGUUCUGCGCCCCAUAUGCGCAACGAUGGCUCUCGAGAACGGUCCAUAUGGCGACCGUAUUUCUACAAUACGUUGUGAAGAAACCAACUACAUCAUUAAUUUCCAUCACCUGUCACUUGUCCGCUUUUCGCGACGGUUCUCAUUCCAUAGGAUGCGGCAGCUGCACCAACCAUCACACCCUGUUGCAACGGGACAUCGCUGGCUAUGGGCCUCUCACCUUGGACAGCUUCCACAGUUUCGCGUGUCCCGACACGCCUCUGACCCUGUACUGUUCAGUGAACAUUUCCAGUAAAAAGCAUUCUUUUCGGGUGUCUAAAAACAAACAUGUUUGGGAGAGCAUACCGCAGCAAUCCAACCCUAGGUACUGGUUCCAUGCACGCAUAGUUGUCAUACUAAAUCGGAAUAUUCUGUUCGCGAAGACCCCGGUCAAGGGGCGGGAUUUGCAACCAGUUAGCAGGCACAGCAAAUUGUGGAACAUCUUUAGCAAUCUCAGAUCCUCCGAAGCUGUAUACCUAGAUUACCACCUAACGUAUUUACUCAACCCCGCCCUGAGCAGGGAACUCGCUUAUGUGGAGGAGACCGGGACACACCAGAUAUGCAACACAGUCGGGUGUCAUUCGUAUGUUCUGCUGCAUUUCACUAGCCUCAACGAGGGAGUACCUGAGAGAAGUUCGGAUGUUAUGAAUUGGGGUAUUACGCACACUCUAGAAGCUCAUUAUAGGAGCAGGGUGGUAAUAUGUGGAAAAUUGGUGACUCGCCUUGGCCGGUUUUUAUAUCCUACCCGGGUACAAAGUGGUGCAAAUCUAGUGGCGACCGCAAAGUACUCAGAUCAAAGGGCCGCCCAGGCUGGCGGAGCUGGAUUCCAGGAUAACCAGAGUAAAGGCACUUGGUUAAUGUCGUACGUGAGUCAGCCAUCUUGCGUUCCUACAGAUGCUGCAACCUCUUACAGAGGCAAGUGGACGAAAUGCCAGUCUAACAUUAGAGUGGCUAAAGAGGAGCGACGAGAUGAUCGUUGUGGCCCGAUUACGUGGGUGUCGGUCGCACGGAUGAAACAUUGGCCACCAUCGCACAAUUAUCCGACCUCAUUGUUAUUGGCUUCGAAGACUAUUCUUAACCACUUUCCCUACCAAAGAUACCCUAAAAUCACGAGUGCACCAGUAACUCUAUUGCAAGGUUCCGCUAGGACUAUGCAACCUGACCUAGGGCGGCGCAUGUAUCGGCCUAGGAACUUAGGCAGUGACAUCGCGUGCCACCUUACACUCGUGUCCGGCCCGGAUCAGGACUCGGCUGCCUAUGAACACCCCUUGAACAUUGGGUUACGCAUUUGUGCACCCCCACGCUCAACAAAAUUGCGAAUACCCGGAGUAAUAUUCUCCGGUCAGUCCACGUCCGCCCGGAAUACGGAGUCCCCGCUUGCAGAAUUAAACUGGCGAAGCCUGCGCACGUCCUUAGAGGGGCCGGCAGUUGGUGAAGUUAUCAAAGCUCAACAUACCAGUCUUUCGCACCGACUCGCUACGGUGGCUUUAACAGAGAUAUCGGCAUUUGUGGGCCAAAGGGCGCGCCAAUACCUAUUACCAGCUGGGCCAGUUACCCGAAGCCGUUGCCUCCCCUGUACAGCUCCCGUCGAAAGGCUGCCAUCCUUCUCUCGCCCUGACCUGUCAACUGUUAGUGCAAGCAAGUCAAAGGUCCACUCGAGCCCGCUGAGUACUCAUCAACCGCCAAGCCAACUUAACGUUUCUACUAUUGGGCUGAGUCUCGUAUCCGAGUGCAGCCGCCUCCGAAGUGACAACCAUACUUCGCACGGCUUUUCCACAUCAUACAUCCUGGUACAUUCACUGGAAAGCCCCUUCUCGACUAAGGUCCCCGCCGGGUCAUCGAGCCCUUGUCUCCUGAUGCGAACUAAGGGUACAAUCUCCGAAGGCCACAACCAGUAUGAAAGCGGCCUCCAGCUGCAGAGGCGCGGAGCUGGUGCUUGGAAAACCACGGCUUACCGAGUCCAGUGCAGACGGACAACCGAUAAACUCACUGUUAACGGAUCGCGGGGGUGCUGCCUCGGGAGGUCGAACCCACACAUUCACGUGCUCCGUCGUAGUUUUGGUACCCUGGGGCGACGGAUGCUCGUUAGGCCUCAUUUACCACACACUCAUGAAAUUGCAGGAGUGUCUGACUCUGGGGCGCGUAGUCUCAUAGCGGUGCUGAGAGACAUCACUAUUUACACAGCACAAGGGCUAGAUCUCUUGGUACAGGUGGGACCCCCGCGCCUUGCACCGCGCAUUCUAUCGGCGUCACGGAGGACUGCCAGCCGGGAGAACUUCCUUGGCAACGAGCGAAUUAAGUAUGUUAUGUUCGGAGUAGGUAUUGCUACCUUACCUCGCGGCCAAUGGCUAAUGCUACGAACAAAAGGUGGACAAAAUUCACGUUUAAUCAAAAGGUUCUUUGUCGUCUACGGUCAUCAAUCUAUAAAAGGCUCAUACAAGCAACCACCUGUCAAAGAGCUUCUUGGUCACGUACGAAAGGUGCUGAUCUGUGGAACGUACAGUGUAGCCGGGCAGCGGGUAUGUGCAGUGUUUGAGACAAAGUGCACACGACCAACUCGUUCCCCGCUAUUAAGCUAUAGUGGGGAACCGCAGCUAUCAUAUACCUCGUGUCGAUCCACAUCGACUCAUUUACCCGAUCCUGUAGUUACAUCUCGGGAUGCGGGUCUCUGCAGGAUUCCGUCAUCGUCCGCAGCUGGGCGAGCGGCGGUCUCAGGAUCCAAGUGGUCCUUGGACCUUAGAAGCGUGUUUCGACUGACCGACAGUUUUUCCCUCGCGAUGUCCGGAUCCAACCAUCAUGUUAAUAUAGGCACGAUUUUGGGCUCGAGUGUCAGACGCUCUGUUCGUAUAUUAGCACCCUGGUCGUACUGUAUAUCAGUGACUCACAAUGCGAUUUGUGGGCCCGUGUUUCUUUACAAAAGUCGAGUAUCCGUCUUGCCAACUUGGCAGGCAUUAGGAAUAACUCUGAGACCGCCUUGUGGACACGCGGUGACGCAAGGUCAUGGUCGUAUGCCAGGGCGCGGAACUAUCACUCUCCCGGUAAGUAGCGGAAGGUCCACCGCAGAAUUGCGGUCCCUUAACCCACGGUUCGGGGUCGUUAAGCGCAGGCGCGCGUUACAUGUGGGGUGUUCAACCCGCGGGCUAAUGGGAGGAAUUACCUCACAGAAAUUCUCCCAUUGGUGCCGGCUGGCCGGUAGUUCACAGUCUUCAGGAGCACCCUACUCUCCCGUGCGGCAUUCAGGCCGCAUACUCCAACCACCAGGUACGCGAAGGAGACGAAGGUCAGAUGAGGGCGAAACAGAACUUCUCUGGUCUAGGACCCUUGGGCCCGGCUCUACCAGACCCCUAGCGCUAGAGACCGAUCUCUGGAGCCCAAAUUAUUGUCUUCUUGCCGCACUUCCGUACCUACUAUGCAUGCUGCGUAGGAAGGCCAGAGGAAUCCGACUACCCGUCCAAUACCCUACUGGAUCGCAGCCGCUCAAUCUGACGACAACCGGACAGGCACGAUAUGCUAUUAGUAGGACAGAAAAAUAUCGCGUGCUGCUCGAACCAGUCAAAAGGUCAGGCCGUGGCCUCUUUGUGUUUAGCGUAAUUCUAUUAGGAAAAGACUAUAACUUUGGGGGAGUGGACGCACCUGAUGCUAGAACAAACCUUAGUGUCGCCACUUACAAGGACCCGAACGUGCAAGACAUAGAACCUGCACAGAAGGCAACACGCUCUAUUCUCCUAAAUCUUGCCCACAGGAUUCAAAUUCAAUGUGCUAGCGCCGGACAAGCACUGGCCUGCGCUAGGUCUAAACUAAGAAGGGAUACUCAAGGCCCGACAGGUGCUUUAUCCGUUGCCAACGUUACUCACCGCCAGACCGAACAGUGCCUAAUGUGUUGCUGGCGACGGGUGCACGGCGCCGUUGUGGAUUGUGCGAACGACAUCCACUCGAAUCCCCGUCGCAGCCACGAGCCGUCGAAUUCUGUAUAUGGUUUUUUGGUCACUAUCGUAAUCUCCACCUGCUAUCAAAGGCGACCACAUUAUUUGGACACAACACCUUAUUAUUUCUUGUACCGAUUCGGCUCAGCCAAGUGCGCGACAGCACUAGCCAAAGUUCCUGUCGACGAGCAUCGGUUCCUGUCUAAGCCGUGCCAGGCCGGAAAGCUGCUUCGAGUUGCUAUGAGUGCACAACACCCCCCUCCUAGCUUCCCCCCUAAGAGCAGCGUCCCUGGUUUGAUAUGUGAGCAUAACACACUCUCGGAGCAAGGGGUAAUCACUGUGAGCUCCUAUUGCCUUUCCCAAGUCUGGCACGUCCACCCACGCUACUGGAGCGCCAUUUUGUCGACUCCACCCUCUUCCCCACGCACACCUUACAGUGGGACAACAGGUUACCAACGGUACACCGACGUAUUCAAGUCCGUCUCUAGGUCCCCCUUAGACUAUCUGGGCCUAGAAAAACAAGGGUCCACGAAGAUUGAAGCACCGACACAGGGUCUCCUGUUAGUACGAUGCGACAAAGACGGAGUACAGCAACGAAGAAACUUACUCAGUAGUCUUCAAUUUAGGCAUUCUGGUAUCCGGCUGGGGACACCGGGGACGCAUCUUACGGCCUUUUUUAGAGCCCUAGUUGUAGGGGCCCCUGUGGACGCCGCACAUGGAGAAACAACUUUAAUUCUUGCAUUGCUUCAGAAACGGAAGCCUACUGGGUCAAACCACAGCGCGUAUAGUGGUGCAAAUUUCUCAUUUGAAAGUACACUGUACGAAGUGAACUCACCCAUCCGAAGUCGAUGUGACUUCCUUGCACUCUUAUUGGAGGCUCCCCUUUCUAAGUCUGUAGGUGUUUGGGUUGCUAUCAGGGAACCAAUUGAAUGGAUAUUGGCUAUAUUCCCGGCUAUACUCAUUCCUGACUAUGCAGGAGUUCUUAGAUCCAUACGGUCUUGUUUGGCAUUAAGACAGAGAGGUUUUCGUAACUCGCUCGCAUGCAUGGCCCCUGCCUCGAUCCUUGCCGGAGUAGGACCUGGCCAGAAGAUGCCCACUGGUAGGUUAGUUGGGGCAGCCUGCAAAUCGCGAGGAGCUUCGUUAGUUGUCAUCCAUGGGUCCUGCCCAAGAUUGGCACGACUAUGCACUACCCUACGCUUUCUACUGGAUACAGUGAGGAGUAAAGCACGGUACAGAUUGUCUGAUGAUAUUAGUGUGCAGUCUUACCCCCUGUGUGCGCUUUUGCACGGGGCGUCCAGCGCGCUGAGUAUAUCGGUUCAGCACGCAAUCCCUAGCCCGUCGAGCAUACUGGGCCUUAAGUGGAUGUUUGGUAACCCAGCGGGAAGAGGCGCUUACUGCGCAGCGCAUCCCCCUUCCGCGUGGAUUCCCCCCACCCCUUUGGCUGUCUCGCACAACAAGGGCGCUCCGAUGAACUAUGGACACUCUAUGACCGCCCCAUUACAGUCGUCCUGGAGACCAUUGCAGCAAAACGUGACGAUUCGGCAACACCGCGGCCCAGCCCAUGAUCAAUGGCUCCUAUCUCCAUACCAUCGCUGGACGGGUUCCUCAGCUGGAGAUUGGCAAAUCCGAACGCUCGCGAAUAGCCACGAAACUUUCCAAUUUAUGUUGAGAGUUCCCCCGGGUAAACACAGAAAUCGACAUCGUCAUACCGGGGGUACUACAUUAUUCUAUCGAAACCUCUACUUAGUGCAGCUACCUCAUCGGAUCGUCGAACUCACACCCUGCAACCAAAACGGCUGGUCCCACCUCCAGCCGCGAUUUGAGCCCAUCUACCCGAGGUCUAUGGUACAGGACGGUCAGAAUUGGCGGAGCGCUAUAAGAAGGACAUCUGGUCUCACAGGGCCCAAUCACCAUGCCCAAGUUCUUGUAAAUCUCUUCACUCCAGAACCAAGUGUAAAUGGGGCUUUAGCAACAGUACGCUGGACCCCGUUACAGCUCCAAACACGAACGGGAAUACUUCUCUGCCGGACUAACAUUUUGUUCGGUGAGCAGCGAUUGAUUAGAUGGAUAGUACCGUGCUACCCGCUAGAUCAUUUGCUUGACAAUCCUGGAGUACGACACUUGACACAGUUCACAUGUUCAGCUUGCUGUGUUAGAACCCUAUUCACUUGUUAUGAUGGUUGCCACGUUAUUCUAACUGAAGUCGAAGAUGACUACGCAGCUUUGCGUCGACCGGUGACACGCCCAUCUUCAAGACUAAACCGGACCAGGGACUCCCGGCGAUCGUCUUCAACAGAGCAUAUUAAUCGGAUGCUUACCCUCGGGGCCGAUUGUUAUAGAAUGCCUCCACACAUCACUCCUGAUGCGACUGCGAUGAUAUUAUCUAACCUCAAAUUCACGUCGCAGCGUUAUGUUGAUUUGCCUUGUGAACGGACAUAUUCUAGAAACACAGGUCACGUACAGAUACGGCCUCCUCAAGAGUGGGGCCAGGGGGCAUAUGGGGGAUGUACAGGGAUGAGUGCCUUUCCGAGACCUUUAGUUAUCGGUCAGACGAGGUCUUCGACAGGGUGCGUAGUUAAAUCGGAUCCAACUAUAUGUCUUAUGACCAAGCCACUUACUCCCGUUGUAUUGAGGUAUCUUCCACCAAUCAACGGUUUCCUCAGCCAAACAUGCUGGAUUAGGCAGAUUUUGAGUGGUAUUAUUAGACUUGCCCAACAUACAUGCAUCGAGUAUUCACCAGACUCCCCCAGCCGGCCCACCCCACUUCUUUGGGUCGUAGGGAUUAUCGCUCUACCGUUCGUUACGUUUCUUACCGGGAUUGAUGUCAUUCUUCCCACACACGUGGUUCCCGGGUUAAACCGCGCCUACGGCGUUGGUCUAAUAUUCUAUAAAGUGGCCCUACCGAGGCUAGACCGACUGGAGAACGCACUUUCCGCUCGAGAGGUCCUCUUCUUUUUAGAUUUGGAAAGAAUUCUUGCCUCUACUGAGAACAAUUAUAACUUGAAGCGAACCUGGGACGCCUCGUCGUUAUUUGUCAAAUGGCGUUCUCCGAAUAGGCGGAAUUCGGCAAUUAUGGUUAGAGUUGAGUAUUGUACCAAUCGAUAUGGAACGCUGAUCCGUUGCGGAGUCUUGACGCGAGGCUGUGUCCGGUCUUACAUAGCGGAGCUGUUUAGUGGCUGGGUUAAUGCCCACUGUGGUUACUCUCCGUCCGAAGGGAAUCAGCCGGUCGUUUAUCGUUCUGAGUCACGUUGCGAUUUCCUUGCCAACGGGUUCAUCGGUUCCCGCGUUUGGGUAUGCUUAGGGAUUAGCCUUAUGGGCAAAGAACGUGUUAGGGUUUCGACCCCGGGUGUAGACCAGAACGUUUCCCGUUAUUAUUUCACCAAUCCACUCAUUAGGCAUUCAAGGUCGUCACAGAGCAUGUAUCGGCUGCGUAAAGGGGCCUGUAUAGGGCUUGAGCUUUCACUUGAGGGUUAUCCUCAUACGCACAGCAAGUAUAGCCCUAGAGAUGUGUUUUAUGUGGUGUUCGGGAGCGGACACAAUGCUUACAUUGCCGUUUGCAGUCUCCGUUUCGCAUUCGCAGCCGUCUGGCGAUUUGUCAGCAGAUGUUCGCACGCAGCUUUCUACGCAUUUUCGUGUGGACACCGUCAUUCCCCCAAUGAGCGUUGCGCUAAGCCAUAUCUCUAUUCAGCCGCUUUGAGCUCACCUGCGGGGAUAAACUCGACGCCAUGCACUAGCCGUAUUUUUGUUCCGACUAAACUUCUUUCCCGCCGCAGGACGGAGAGAGGGUUAGGAGUACUUGCAACCAUCUCUAUCGGGCGGCCAUGGACGCCACAGGAAAUGUUCAAAAGCGGCGUGAGGCCCCAGGCAGUCAGUUCAGUGGCAUCAUUUCAACGGCACGCUACAGCAGAAUUUACCAAUGAGUUUGCGAGGACUCUGAUAAGGGGGUUGGAUUAUGUUACUGAGAUAACAAUCGUAAAUUUAUCUACUGUUGCAUAUCAAUGUCUCGGGUGCCAGCGGCAUUUCAGCCGAAAUGGGUUCAUCGAACGUGAUCGUGUCGGGGCAUGCAGUAUGCCUCUAGAGCUUCACUUACCGGUGGCCGUAUUUAAGAGAAGAAGGUCCCGCGUCGGAAUCGUACUUUGCGCUAUGGGAGCCGGCCAUGAUGUUCCAUUUCGCAAGAACGUGUCUGUUUCCAGAAUUCAGAUAUUGGUCUUGGCACAUGGACCCUCAAUUCAAUCCGCUCCAACUACCUACGAACAAUCCCAUAACGUUAGACAAUCCAUCUCUUCAGUGCGCAUCGCGCUGGGAUGGACAACCGCUAGAGAAGAACCGUCUAUCGAUAACGUGACACGAGAGUUGGUACAUUGUUAUCGGUCUAACCAAAUGAGUGAUCAAUGUGUAGGUCACUGGUCGGUUAAUCCCUUCCGUACUCGCAAAAUUAUUACCUUGAACUGGAACGUUCGAUGUCGCAACAUCCCACGUAUCCAUCAGACGGACCCGCUUCAUAGGCCUACACAACCUGGGUAUGUGGAAAGCGGACCUUCCCUCCCUCAGCGAUAUAGGAUUCAAAGGGGGGAGGUUGUCUCUGUGCAAUUUCCCCCCCGAGGUAAACCAGGGUCUAAUGGACGUCGUCGCUCCUACACGUGCAGUCGUGCUUGCUUUAAUCUACUUGAGGCUUCGAGUAAGUCGUCAUCAGCGCCUUACCUUGUUCUCGCUCUACCUUUUCCGCAUAUACCGAGAAGUCCGCGGGGCCUCCGCGAACCUUUUAGAGCAUGCAGAUGCAUGAUGAUGUAUUGGGGAGAGUCCCAUCCUCCCAUACACGGUGUUUUUUUUGAACCCCGUGGGGAGACUGAAGUGCGGGCGAGUACCUUCCCACCGAUCUCGCCCGACGAAUAG\"\n",
    "proteinify(sample)"
   ]
  },
  {
   "cell_type": "markdown",
   "id": "61520cc2-549b-4031-a151-9d94996d94b9",
   "metadata": {},
   "source": [
    "# Finding a Motif\n",
    "When you find the same interval of DNA in the genome of two different organisms it's a good indicator that they share a certain function.\\\n",
    "This is a **motif**. Searching for them in species is a common task.\\\n",
    "One difficulty is that a genome can have a lot of repeated intervals of DNA (**repeats**)\\\n",
    "These repeats occur so often that they are not random chance, and they illustrate the strength of the language of DNA.\\\n",
    "\n",
    "## Problem\n",
    "Given two strings s and t, t is a substring of s if t is contained as a contiguous collection of symbols in s (as a result, t must be no longer than s).\n",
    "The position of a symbol in a string is the total number of symbols found to its left, including itself (e.g., the positions of all occurrences of 'U' in \"AUGCUUCAGAAAGGUCUUACG\" are 2, 5, 6, 15, 17, and 18). The symbol at position i of s is denoted by s[i].\n",
    "A substring of s can be represented as s[j:k], where j and k represent the starting and ending positions of the substring in s; for example, if s = \"AUGCUUCAGAAAGGUCUUACG\", then s[2:5] = \"UGCU\".\n",
    "The location of a substring s[j:k] is its beginning position j; note that t will have multiple locations in s if it occurs more than once as a substring of s (see the Sample below).\\\n",
    "**Given**: Two DNA strings s and t (each of length at most 1 kbp).\\\n",
    "**Return**: All locations of t as a substring of s."
   ]
  },
  {
   "cell_type": "code",
   "execution_count": 28,
   "id": "6a854a7d-a5f2-43b8-910b-56d610b68795",
   "metadata": {},
   "outputs": [
    {
     "name": "stdout",
     "output_type": "stream",
     "text": [
      "5 77 84 111 156 184 260 308 325 393 409 416 457 466 499 511 572 597 618 641 665 672 750 814\n"
     ]
    }
   ],
   "source": [
    "# My solution: Find first instance, then use it's pos+1 to continue searching\n",
    "def find_motif(s,t):\n",
    "    result = [s.find(t)+1]\n",
    "    curr = result[0]\n",
    "    while curr != -1:\n",
    "        curr = s.find(t, curr)\n",
    "        if curr != -1:\n",
    "            curr += 1\n",
    "            result.append(curr)\n",
    "    print(' '.join([str(x) for x in result]))\n",
    "    return\n",
    "\n",
    "s = \"TAGCGACTGGGGAGGACTGGGATGACTGGGGCGACTGGGTTGACTGGGATTGTAGCGACTGGGGGAAAGACTGGGCGACTGGGGACTGGGGACTGGGTCACCGATAGGAGGACTGGGGATGGACTGGGGGACTGGGCGGCGACTGGGTTTAAGGTGACTGGGGACTGGGTCTACGACTGGGACGACTGGGGACAGATGAAAAGCCGGGGGACTGGGCGGGACTGGGTGACTGGGCGACTGGGGGACTGGGGGACTGGGCGACTGGGGACTGGGAGACTGGGTGCGACTGGGCGAGACTGGGATAGAGGACTGGGGACTGGGACTGACTGGGGACTGGGCGTCGACTGGGAGACTGGGTGCGACTGGGCGTGACTGGGTGACTGGGCGAGTTTGACTGGGGACTGGGATGACTGGGGACTGGGGACTGGGGTATAAAAGACTGGGTCGACTGGGAAGGACTGGGGAGACTGGGGACTGGGTAGCGTGACTGGGTGATGCGACTGGGGACTCGACTGGGGACTGGGCTTGGACTGGGTAAGACTGGGCAGGACTGGGTCGGACTGGGGGTCCGGACTGGGGACTGGGTTGGACTGGGAGACTGGGGAAACCGACTGGGAGACTGGGGACTGGGACAGACGAAGACTGGGGACTGGGTAGACTGGGCGACTGGGGACTGGGGACTGGGTGACTGGGAGCGACTGGGACGACTGGGGGCGACTGGGTAGTAGAAGTGAGACTGGGTATGAATCGACTGGGGACTGGGCGTATGGACTGGGATGTTGACTGGGTCCGACTGGGACGAACAGACTGGGCGACTGGGGACTGGGTCTGACTGGGCAGACTGGGGCGCGACCCGACTGGGGTAGACTGGGTGAGTGACTGGGTTAGACTGGG\"\n",
    "t = \"GACTGGGGA\"\n",
    "find_motif(s,t)\n"
   ]
  },
  {
   "cell_type": "markdown",
   "id": "927c2571-70e1-4702-a955-986fbc2dd0be",
   "metadata": {},
   "source": [
    "# Most Likely Common Ancestor\n",
    "Related to the \"Counting Point Mutations\" problem, if we have several homologous strands that we wish to analyze simultaneously, then the natural problem is to find an average-case strand to represent the most likely common ancestor of the given strands.\\\n",
    "We can do this with matrix algebra. If you have a collection of DNA strings all having length *n* their **profile matrix** is 4xn matrix *p* where *P<sub>1j</sub>* represents the number of times that 'A' occurs in the *j*th position of one of the strings and it goes on with 'C', 'G', and 'T'. Counting the occurence of each in that spot of the strings. These sums are then compared to make a **consensus string** *c* of len *n* that is made of the most common nucleotides.(there can be multiple consesus strings if there are multiple local maximums)\n",
    "\n",
    "## Problem\n",
    "Given a collection at most of 10 DNA strings of equal length (max 1kbp) in FASTA format, return a consesus string and profile matrix for the collection (if multiple consesus string return any one)"
   ]
  },
  {
   "cell_type": "code",
   "execution_count": 35,
   "id": "d654df6e-29e8-4d12-98eb-af95b30af240",
   "metadata": {},
   "outputs": [
    {
     "name": "stdout",
     "output_type": "stream",
     "text": [
      "[[5 1 0 0 5 5 0 0]\n",
      " [0 0 1 4 2 0 6 1]\n",
      " [1 1 6 3 0 1 0 0]\n",
      " [1 5 0 0 0 1 1 6]]\n",
      "[5 5 6 4 5 5 6 6]\n",
      "A :  5 1 0 0 5 5 0 0\n",
      "C :  0 0 1 4 2 0 6 1\n",
      "G :  1 1 6 3 0 1 0 0\n",
      "T :  1 5 0 0 0 1 1 6\n"
     ]
    }
   ],
   "source": [
    "import numpy\n",
    "# reuse fasta func TODO: refactor for use with numpy 2D array (load into array of lines, then get len of array and len of first string to get dimensions for 2D array)\n",
    "def parse_fasta(fname):\n",
    "    samples = []\n",
    "    with open(fname, \"r\") as fh:\n",
    "        curr_sample = ''\n",
    "        for line in fh:\n",
    "            line = line.rstrip()\n",
    "            if line.startswith(\">\"):\n",
    "                pass\n",
    "            else:\n",
    "                samples.append(line)\n",
    "    # Create zero matrix with \n",
    "    samples_matrix = numpy.array([list(sample) for sample in samples])\n",
    "    return samples_matrix\n",
    "    \n",
    "def consensus(samples_matrix):\n",
    "    tallies = {'A':[0]*samples_matrix.shape[1], 'C':[0]*samples_matrix.shape[1], 'G':[0]*samples_matrix.shape[1], 'T':[0]*samples_matrix.shape[1]}\n",
    "    for row in samples_matrix:\n",
    "        for idx,item in enumerate(row):\n",
    "            sample_count = tallies[item]\n",
    "            sample_count[idx] += 1\n",
    "    tally_array = numpy.array(list(tallies.values()))\n",
    "    tally_max = tally_array.max(axis=0)\n",
    "    print(tally_array)\n",
    "    print(tally_max)\n",
    "    # Print the individual tallies for A,C,G,T\n",
    "    for key,value in tallies.items():\n",
    "        print(key, ': ',' '.join([str(i) for i in value]))\n",
    "    return\n",
    "sample_matrix = parse_fasta('data/consensus.txt')\n",
    "consensus(sample_matrix)"
   ]
  },
  {
   "cell_type": "code",
   "execution_count": null,
   "id": "a186122a-4c40-4ceb-a4bc-d380c8c474cf",
   "metadata": {},
   "outputs": [],
   "source": []
  }
 ],
 "metadata": {
  "kernelspec": {
   "display_name": "Python 3",
   "language": "python",
   "name": "python3"
  },
  "language_info": {
   "codemirror_mode": {
    "name": "ipython",
    "version": 3
   },
   "file_extension": ".py",
   "mimetype": "text/x-python",
   "name": "python",
   "nbconvert_exporter": "python",
   "pygments_lexer": "ipython3",
   "version": "3.10.1"
  }
 },
 "nbformat": 4,
 "nbformat_minor": 5
}
