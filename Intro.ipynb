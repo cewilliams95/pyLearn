{
 "cells": [
  {
   "cell_type": "markdown",
   "id": "b1f02717-565e-403e-b2ad-3743ec9d2285",
   "metadata": {
    "tags": []
   },
   "source": [
    "# Basic Python Notes\n",
    "This notebook covers basics of Python that I need refreshed or didn't know about.\\\n",
    "This covers: Data Structures like dicts and sets, Functions and unique pythonic function features/quirks, OOP notes on classes and objects, and modules/packages/namespace notes."
   ]
  },
  {
   "cell_type": "markdown",
   "id": "ea229508-f899-449b-9633-5998e62ebe1a",
   "metadata": {
    "tags": []
   },
   "source": [
    "# Data Structures"
   ]
  },
  {
   "cell_type": "markdown",
   "id": "11d2abb7-22e8-443e-bebf-3300561d117c",
   "metadata": {
    "jp-MarkdownHeadingCollapsed": true,
    "tags": []
   },
   "source": [
    "## Dicts"
   ]
  },
  {
   "cell_type": "markdown",
   "id": "e614d8a1-488b-49d2-b303-7ea0506b2b6f",
   "metadata": {},
   "source": [
    "When using Dicts, and looking up a value by its key you may get an exception:"
   ]
  },
  {
   "cell_type": "code",
   "execution_count": 4,
   "id": "62c302fd-ebf2-4c10-b415-8a98dbfd6093",
   "metadata": {
    "tags": []
   },
   "outputs": [
    {
     "name": "stdout",
     "output_type": "stream",
     "text": [
      "{'a': 1, 'b': 2, 'c': 3}\n"
     ]
    },
    {
     "ename": "KeyError",
     "evalue": "'d'",
     "output_type": "error",
     "traceback": [
      "\u001b[1;31m---------------------------------------------------------------------------\u001b[0m",
      "\u001b[1;31mKeyError\u001b[0m                                  Traceback (most recent call last)",
      "\u001b[1;32mC:\\Users\\CHRIST~1\\AppData\\Local\\Temp/ipykernel_29708/2263650081.py\u001b[0m in \u001b[0;36m<module>\u001b[1;34m\u001b[0m\n\u001b[0;32m      2\u001b[0m \u001b[0mprint\u001b[0m\u001b[1;33m(\u001b[0m\u001b[0mexample\u001b[0m\u001b[1;33m)\u001b[0m\u001b[1;33m\u001b[0m\u001b[1;33m\u001b[0m\u001b[0m\n\u001b[0;32m      3\u001b[0m \u001b[1;33m\u001b[0m\u001b[0m\n\u001b[1;32m----> 4\u001b[1;33m \u001b[0mprint\u001b[0m\u001b[1;33m(\u001b[0m\u001b[0mexample\u001b[0m\u001b[1;33m[\u001b[0m\u001b[1;34m'd'\u001b[0m\u001b[1;33m]\u001b[0m\u001b[1;33m)\u001b[0m\u001b[1;33m\u001b[0m\u001b[1;33m\u001b[0m\u001b[0m\n\u001b[0m",
      "\u001b[1;31mKeyError\u001b[0m: 'd'"
     ]
    }
   ],
   "source": [
    "example = { 'a':1, 'b':2, 'c':3 }\n",
    "print(example)\n",
    "\n",
    "print(example['d'])"
   ]
  },
  {
   "cell_type": "markdown",
   "id": "d9016a9d-1c60-4539-97ee-92e6f47ae857",
   "metadata": {},
   "source": [
    "To avoid this exception you can do one of two things, first check if the key exists:"
   ]
  },
  {
   "cell_type": "code",
   "execution_count": 5,
   "id": "4f71916c-e16d-4c7b-af4f-b18f3db18d4c",
   "metadata": {},
   "outputs": [
    {
     "name": "stdout",
     "output_type": "stream",
     "text": [
      "d not found!\n"
     ]
    }
   ],
   "source": [
    "if 'd' in example:\n",
    "    print(example['d'])\n",
    "else:\n",
    "    print('d not found!')"
   ]
  },
  {
   "cell_type": "markdown",
   "id": "b781ed71-0a41-4d8c-b494-595fcf74fb40",
   "metadata": {},
   "source": [
    "Second, use the get method:"
   ]
  },
  {
   "cell_type": "code",
   "execution_count": 6,
   "id": "317172ea-01a2-470d-a235-08103cc44f08",
   "metadata": {},
   "outputs": [
    {
     "data": {
      "text/plain": [
       "'Does not exist'"
      ]
     },
     "execution_count": 6,
     "metadata": {},
     "output_type": "execute_result"
    }
   ],
   "source": [
    "example.get('d') # This displays nothing\n",
    "\n",
    "example.get('d', 'Does not exist') # This prints 'Does not exist'"
   ]
  },
  {
   "cell_type": "code",
   "execution_count": 19,
   "id": "4baf2f09-6fe6-43ae-9695-410d0c9a6572",
   "metadata": {},
   "outputs": [
    {
     "name": "stdout",
     "output_type": "stream",
     "text": [
      "dict_keys(['a', 'b', 'c'])\n",
      "[1, 2, 3]\n",
      "{'a': 1, 'b': 2, 'c': 3, 'd': 4, 'e': 5}\n",
      "{'a': 1, 'b': 2, 'c': 3, 'd': 4, 'e': 5, 'foo': 42, 'bar': 66}\n",
      "{'a': 1, 'b': 2, 'c': 3, 'd': 4, 'e': 5, 'foo': 0, 'bar': 66}\n",
      "{'a': 1, 'b': 2, 'c': 3, 'd': 4, 'e': 5, 'foo': 0}\n",
      "foo is: 0\n",
      "{'a': 1, 'b': 2, 'c': 3, 'd': 4, 'e': 5}\n",
      "None\n"
     ]
    }
   ],
   "source": [
    "print(example.keys()) # This will get all the existing keys\n",
    "\n",
    "print( list( example.values() ) ) # This will get all existing values\n",
    "\n",
    "example2 = {'c':3, 'd':4, 'e':5}\n",
    "combo = {**example, **example2} # This will create a merged dict\n",
    "print(combo)\n",
    "\n",
    "newdict = {'foo':42, 'bar':66}\n",
    "combo.update(newdict) # The update function will copy from one dict to another and append them\n",
    "print(combo)\n",
    "\n",
    "newfoo = {'foo':0}\n",
    "combo.update(newfoo) # Update will merge & replace values with the same keys \n",
    "print(combo)\n",
    "\n",
    "del combo['bar'] # Deletes a key:value from a dict\n",
    "print(combo)\n",
    "\n",
    "foo = combo.pop('foo') # Combines get() and del\n",
    "print(f'foo is: {foo}')\n",
    "print(combo)\n",
    "\n",
    "print(combo.clear()) # Clears the dict"
   ]
  },
  {
   "cell_type": "code",
   "execution_count": 23,
   "id": "b3dff7c8-2c92-4802-a9b2-72eae8b602d6",
   "metadata": {},
   "outputs": [
    {
     "name": "stdout",
     "output_type": "stream",
     "text": [
      "{'Rob': 2323, 'Frank': 3454, 'George': 8583}\n",
      "Assigned: {'Rob': 2323, 'Frank': 69, 'George': 8583}\n",
      "Copied: {'Rob': 2323, 'Frank': 3454, 'George': 8583}\n"
     ]
    }
   ],
   "source": [
    "users = {'Rob':2323, 'Frank':3454, 'George':8583}\n",
    "users_assigned = users # When you use = to assign, you are still referencing the original dict\n",
    "users_copied = users.copy() # To avoid this, copy it with the copy() function, if you have embedded lists in the values use deepcopy()\n",
    "print(users_assigned)\n",
    "users['Frank'] = 69\n",
    "print(f'Assigned: {users_assigned}')\n",
    "print(f'Copied: {users_copied}')"
   ]
  },
  {
   "cell_type": "code",
   "execution_count": 27,
   "id": "0aaf2fe5-c9df-4c4a-ba1e-844868a4e770",
   "metadata": {},
   "outputs": [
    {
     "name": "stdout",
     "output_type": "stream",
     "text": [
      "Rob\n",
      "Frank\n",
      "George\n",
      " \n",
      "2323\n",
      "69\n",
      "8583\n",
      " \n",
      "('Rob', 2323)\n",
      "('Frank', 69)\n",
      "('George', 8583)\n",
      " \n",
      "Name: Rob, Number: 2323\n",
      "Name: Frank, Number: 69\n",
      "Name: George, Number: 8583\n"
     ]
    }
   ],
   "source": [
    "for user in users: # Just keys\n",
    "    print(user)\n",
    "print(' ')\n",
    "for value in users.values(): # Just values\n",
    "    print(value)\n",
    "print(' ')\n",
    "for item in users.items(): #Tuples of key:value\n",
    "    print(item)\n",
    "print(' ')\n",
    "for name,number in users.items(): #Explicitly assign tuples of key:value\n",
    "    print(f'Name: {name}, Number: {number}')"
   ]
  },
  {
   "cell_type": "markdown",
   "id": "36fd6103-de4f-4f1c-95c1-e3d5e7619e97",
   "metadata": {},
   "source": [
    "*Dict Comprehension*"
   ]
  },
  {
   "cell_type": "code",
   "execution_count": 31,
   "id": "9391816a-8082-4357-883d-f42a5eb260f3",
   "metadata": {},
   "outputs": [
    {
     "name": "stdout",
     "output_type": "stream",
     "text": [
      "{'l': 2, 'e': 1, 't': 2, 'i': 1, 'd': 1, 'o': 2}\n",
      "{'e': 1, 'i': 1, 'o': 2}\n"
     ]
    }
   ],
   "source": [
    "word = 'doolittle'\n",
    "letter_counts = {letter: word.count(letter) for letter in set(word)}\n",
    "print(letter_counts)\n",
    "\n",
    "vowels = 'aeiou'\n",
    "letter_counts = {letter: word.count(letter) for letter in set(word) if letter in vowels}\n",
    "print(letter_counts)"
   ]
  },
  {
   "cell_type": "markdown",
   "id": "0fedc5b3-225f-4987-83c1-bde939346bc7",
   "metadata": {
    "jp-MarkdownHeadingCollapsed": true,
    "tags": []
   },
   "source": [
    "## Sets"
   ]
  },
  {
   "cell_type": "code",
   "execution_count": 36,
   "id": "422c619d-7fce-474b-9734-787577574482",
   "metadata": {},
   "outputs": [
    {
     "name": "stdout",
     "output_type": "stream",
     "text": [
      "{'l', 'e', 't', 'r', 's'}\n",
      "5\n",
      "{'l', 'e', 't', 'r', 's', 'q'}\n",
      "{'l', 'e', 't', 'r', 's'}\n"
     ]
    }
   ],
   "source": [
    "foo = set('letters') # only has one of each letter\n",
    "print(foo)\n",
    "print(len(foo))\n",
    "foo.add('q')\n",
    "print(foo)\n",
    "foo.remove('q')\n",
    "print(foo)"
   ]
  },
  {
   "cell_type": "code",
   "execution_count": 48,
   "id": "5130a10e-182d-4478-8378-2cb6fa676138",
   "metadata": {},
   "outputs": [
    {
     "name": "stdout",
     "output_type": "stream",
     "text": [
      "{'martini': {'vodka', 'vermouth'}, 'black russian': {'vodka', 'kahlua'}, 'white russian': {'vodka', 'cream', 'kahlua'}, 'manhattan': {'bitters', 'rye', 'vermouth'}, 'screwdriver': {'orange juice', 'vodka'}}\n",
      "\n",
      "Contain vermouth:\n",
      "martini\n",
      "manhattan\n",
      "\n",
      " Contain vermouth or kahlua:\n",
      "martini\n",
      "black russian\n",
      "white russian\n",
      "manhattan\n",
      "\n",
      "Screwdriver ingredients: {'orange juice', 'vodka'}\n",
      "Martini ingredients: {'vodka', 'vermouth'}\n",
      "Intersection: {'vodka'}\n",
      "Union: {'orange juice', 'vodka', 'vermouth'}\n",
      "Difference: {'orange juice'}\n",
      "XOR: {'orange juice', 'vermouth'}\n",
      "Is Subset: False\n"
     ]
    }
   ],
   "source": [
    "# Common use-case for sets is in Dicts:\n",
    "drinks = {\n",
    " 'martini': {'vodka', 'vermouth'},\n",
    " 'black russian': {'vodka', 'kahlua'},\n",
    " 'white russian': {'cream', 'kahlua', 'vodka'},\n",
    " 'manhattan': {'rye', 'vermouth', 'bitters'},\n",
    " 'screwdriver': {'orange juice', 'vodka'}\n",
    "}\n",
    "print(drinks)\n",
    "\n",
    "# Better filtering/selecting with set items\n",
    "print(\"\\nContain vermouth:\")\n",
    "for name, ingredients in drinks.items():\n",
    "    if 'vermouth' in ingredients:\n",
    "        print(name)\n",
    "        \n",
    "# Set intersection \n",
    "print(\"\\n Contain vermouth or kahlua:\")\n",
    "for name, ingredients in drinks.items():\n",
    "    if ingredients & {'vermouth', 'kahlua'}:\n",
    "        print(name)\n",
    "        \n",
    "# Get ingredients of a drink\n",
    "ingA = drinks['screwdriver']\n",
    "ingB = drinks['martini']\n",
    "print(f\"\\nScrewdriver ingredients: {ingA}\")\n",
    "print(f\"Martini ingredients: {ingB}\")\n",
    "print(f\"Intersection: {ingA & ingB}\") # set intersection (can also use the setA.intersection(setB) function)\n",
    "print(f\"Union: {ingA | ingB}\") # set union, could also use setA.union(setB)\n",
    "print(f\"Difference: {ingA - ingB}\") # set difference\n",
    "print(f\"XOR: {ingA ^ ingB}\") # XOR or symmetric_difference()\n",
    "print(f\"Is Subset: {ingA <= ingB}\") # Check if A is a subset of B, also issubset()"
   ]
  },
  {
   "cell_type": "code",
   "execution_count": 51,
   "id": "ca496e40-3a7b-483e-bccb-d0cd30553d29",
   "metadata": {},
   "outputs": [
    {
     "name": "stdout",
     "output_type": "stream",
     "text": [
      "{2, 4, 6, 8, 10, 12, 14, 16, 18, 20, 22, 24, 26, 28, 30, 32, 34, 36, 38, 40, 42, 44, 46, 48}\n"
     ]
    }
   ],
   "source": [
    "a_set = {num for num in range(1,50) if num % 2 == 0} # Set Comprehension\n",
    "print(a_set)"
   ]
  },
  {
   "cell_type": "code",
   "execution_count": 56,
   "id": "c971616e-62d8-4737-9460-a8abdf7b23d0",
   "metadata": {},
   "outputs": [
    {
     "name": "stdout",
     "output_type": "stream",
     "text": [
      "frozenset({9, 3, 6})\n",
      "Exception: 'frozenset' object has no attribute 'add'\n"
     ]
    }
   ],
   "source": [
    "locked = frozenset([9,3,6]) # frozenset creates an immutable set\n",
    "print(locked)\n",
    "try:\n",
    "    locked.add(4)\n",
    "except AttributeError as err:\n",
    "    print(f\"Exception: {err}\")"
   ]
  },
  {
   "cell_type": "markdown",
   "id": "135f1f3d-1481-4b94-a50e-cfa6d2d585e8",
   "metadata": {
    "jp-MarkdownHeadingCollapsed": true,
    "tags": []
   },
   "source": [
    "## Exercises"
   ]
  },
  {
   "cell_type": "code",
   "execution_count": 65,
   "id": "d7b589b8-e61c-4dfd-b238-bafd8a42c32d",
   "metadata": {},
   "outputs": [
    {
     "name": "stdout",
     "output_type": "stream",
     "text": [
      "animals - {'cats': ['Risky', 'Riot'], 'octopi': [], 'emus': []}\n",
      "plants - {}\n",
      "other - {}\n",
      "\n",
      "{1: 1, 2: 4, 3: 9, 4: 16, 5: 25, 6: 36, 7: 49, 8: 64, 9: 81}\n"
     ]
    }
   ],
   "source": [
    "# Exercise 1\n",
    "life = {'animals':{'cats':['Risky', 'Riot'],'octopi':[],'emus':[]}, 'plants':{}, 'other':{}} # Multilevel dict\n",
    "for top, inner in life.items():\n",
    "    print(f\"{top} - {inner}\")\n",
    "    \n",
    "# Exercise 2\n",
    "squares = { num:num**2 for num in range(1,10) } # Dict comprehension\n",
    "print(f\"\\n{squares}\")\n",
    "\n",
    "# Exercise 3"
   ]
  },
  {
   "cell_type": "markdown",
   "id": "a23f1fa2-8a7f-4394-97e3-b45d9d94cf8e",
   "metadata": {
    "tags": []
   },
   "source": [
    "# Functions"
   ]
  },
  {
   "cell_type": "markdown",
   "id": "e8c690a6-1642-4545-86d7-5de5d4b961a3",
   "metadata": {},
   "source": [
    "### Explode/Gather Positional Arguments (*)\n",
    "When Used in a function parameter the asterisk groups a variable number of positional arguments into a single tuple of parameter values.\\\n",
    "When used outside a function parameter *args explodes the tuple into comma-separated positional args.\\\n",
    "The * must be used within a function call or definition"
   ]
  },
  {
   "cell_type": "code",
   "execution_count": 9,
   "id": "4d8c07f3-dd1b-4a92-8fbf-85a26b051d38",
   "metadata": {},
   "outputs": [
    {
     "name": "stdout",
     "output_type": "stream",
     "text": [
      "positional tuple:  (1, 2, 3, 'string1', 'string2')\n",
      "Params: required, also required, (1, 2, 3, 'optional args')\n"
     ]
    }
   ],
   "source": [
    "def print_args(*params):\n",
    "    print('positional tuple: ',params)\n",
    "print_args(1,2,3,'string1','string2')\n",
    "\n",
    "# This function has two required args (arg1, arg2) and then variable positional args (*args)\n",
    "def more_than_one(arg1, arg2, *params):\n",
    "    print(f'Params: {arg1}, {arg2}, {params}')\n",
    "more_than_one('required', 'also required', 1,2,3,'optional args')"
   ]
  },
  {
   "cell_type": "markdown",
   "id": "e5e1e829-13f8-4ed9-aa18-7658a1e0680f",
   "metadata": {},
   "source": [
    "### Explode/Gather Keyword Args (**)\n",
    "Keyword arguments are gathered into a dict\\\n",
    "This is also only used in a function call or def\\\n",
    "Argument order: required pos args, optional pos args(*args), optional keyword args(**args)"
   ]
  },
  {
   "cell_type": "code",
   "execution_count": 15,
   "id": "53ed98a9-9deb-49de-9eba-106ef2bfc43d",
   "metadata": {},
   "outputs": [
    {
     "name": "stdout",
     "output_type": "stream",
     "text": [
      "Keyword Args:  {'key1': 'val1', 'key2': 'val2', 'key3': 'val3'}\n"
     ]
    }
   ],
   "source": [
    "def print_kwargs(**kwargs):\n",
    "    print('Keyword Args: ', kwargs)\n",
    "print_kwargs(key1='val1', key2='val2', key3='val3')"
   ]
  },
  {
   "cell_type": "markdown",
   "id": "75e750f0-717d-4e4f-ad89-7e48f2c14cb3",
   "metadata": {},
   "source": [
    "### Keyword only Arguments\n",
    "These are 'name=value' args and a preceeding * means they must be provided as named args if you don't want the default values"
   ]
  },
  {
   "cell_type": "code",
   "execution_count": 25,
   "id": "f07514d1-4f6e-4bea-8986-24f78181ba0c",
   "metadata": {},
   "outputs": [
    {
     "name": "stdout",
     "output_type": "stream",
     "text": [
      "scene1\n",
      "scene2\n",
      "scene3\n",
      "scene4\n",
      "scene5\n",
      "\n",
      "\n",
      "scene4\n",
      "scene5\n",
      "\n",
      "\n",
      "scene3\n",
      "scene4\n"
     ]
    }
   ],
   "source": [
    "def start_time(timeData, *, start=0, end=190):\n",
    "    for value in (timeData[start:end]):\n",
    "        print(value)\n",
    "scenes = ['scene1','scene2','scene3','scene4','scene5']\n",
    "start_time(scenes)\n",
    "print('\\n')\n",
    "start_time(scenes, start=3)\n",
    "print('\\n')\n",
    "start_time(scenes, start=2, end=4)"
   ]
  },
  {
   "cell_type": "markdown",
   "id": "a36f5b63-f766-4bcc-b0e6-63587ed5c350",
   "metadata": {},
   "source": [
    "### Watching for Mutability in Function Parameters\n",
    "When passing a value to a function, treat it as a pass-by-reference and assign it instead of altering it otherwise your changes can be carried outside of the function"
   ]
  },
  {
   "cell_type": "code",
   "execution_count": 29,
   "id": "31609df7-8982-46d1-b1e2-a8d60418e4eb",
   "metadata": {},
   "outputs": [
    {
     "name": "stdout",
     "output_type": "stream",
     "text": [
      "Outside a function: \n",
      "['foo', 'bar', 'now']\n",
      "Altering inside a function...\n",
      "Outside a function: \n",
      "['foo', 'bar', 'NEVER']\n"
     ]
    }
   ],
   "source": [
    "print('Outside a function: ')\n",
    "mutable_guy = ['foo','bar','now']\n",
    "print(mutable_guy)\n",
    "\n",
    "def alter(arg):\n",
    "    print('Altering inside a function...')\n",
    "    arg[2] = 'NEVER'\n",
    "alter(mutable_guy)\n",
    "\n",
    "print('Outside a function: ')\n",
    "print(mutable_guy)"
   ]
  },
  {
   "cell_type": "markdown",
   "id": "dc4e8b32-8680-4568-be24-3982ab8253b9",
   "metadata": {},
   "source": [
    "### Docstrings\n",
    "A docstring can be included by adding a string at the beginning of a function, this is a good way to document functions.\\\n",
    "To print a docstring you can use the help() function"
   ]
  },
  {
   "cell_type": "code",
   "execution_count": 37,
   "id": "387df234-8ef5-4db0-b6c4-506fd0ba8f91",
   "metadata": {},
   "outputs": [
    {
     "name": "stdout",
     "output_type": "stream",
     "text": [
      "String.\n",
      "\n",
      "Help on function printstring in module __main__:\n",
      "\n",
      "printstring()\n",
      "    printstring prints: String.\n",
      "\n",
      "printstring prints: String.\n"
     ]
    }
   ],
   "source": [
    "def printstring():\n",
    "    'printstring prints: String.'\n",
    "    print('String.\\n')\n",
    "printstring()\n",
    "help(printstring) # With formatting\n",
    "\n",
    "print(printstring.__doc__) # Without extra formatting"
   ]
  },
  {
   "cell_type": "markdown",
   "id": "cf6ab176-149f-4e0a-b0d8-a0362d649a04",
   "metadata": {},
   "source": [
    "## Functions as Objects\n",
    "Functions are first-class citizens in Python: Functions can be assigned to variables, used as arguments, and returned from functions as they are objects"
   ]
  },
  {
   "cell_type": "code",
   "execution_count": 39,
   "id": "455a240a-b132-4802-a887-c92ef1a94049",
   "metadata": {},
   "outputs": [
    {
     "name": "stdout",
     "output_type": "stream",
     "text": [
      "bar\n"
     ]
    },
    {
     "data": {
      "text/plain": [
       "19"
      ]
     },
     "execution_count": 39,
     "metadata": {},
     "output_type": "execute_result"
    }
   ],
   "source": [
    "def foo():\n",
    "    print('bar')\n",
    "\n",
    "def run_func(func): # Takes function as argument and runs it\n",
    "    func()\n",
    "    \n",
    "run_func(foo) # Runs a function by passing it to another\n",
    "\n",
    "def sum_args(*args): \n",
    "    return sum(args)\n",
    "def run_args(func, *args): # You can combine this functionality with *args or *kwargs\n",
    "    return func(*args)\n",
    "run_args(sum_args, 2,4,6,7)"
   ]
  },
  {
   "cell_type": "markdown",
   "id": "6db1d170-a922-468f-9901-86b3c3a71454",
   "metadata": {},
   "source": [
    "## Closures\n",
    "A closure is a function that is dynamically generated by another function and can change/remember the values of vars that were created outside the function"
   ]
  },
  {
   "cell_type": "code",
   "execution_count": 44,
   "id": "8e45b60a-0199-4309-86e7-d69bdb518ffa",
   "metadata": {},
   "outputs": [
    {
     "name": "stdout",
     "output_type": "stream",
     "text": [
      "We are the knights who say: Ni!\n",
      "We are the knights who say: Cheese!\n"
     ]
    }
   ],
   "source": [
    "def knights(quote):\n",
    "    def inner():\n",
    "        return \"We are the knights who say: %s\" % quote\n",
    "    return inner\n",
    "\n",
    "a = knights('Ni!') # a is getting a specialized version of the inner() function returned\n",
    "b = knights('Cheese!') # b is getting a different version of it \n",
    "\n",
    "print(a())\n",
    "print(b())"
   ]
  },
  {
   "cell_type": "markdown",
   "id": "fe19c264-07fd-4f29-a6b0-2cf2388d99bb",
   "metadata": {},
   "source": [
    "## Anonymous/Lambda Functions\n",
    "These are a single statement anonymous function that usually replace short functions\\\n",
    "They are less clear than functions and are most useful when you need many small functions and would struggle to remember what all of them were called,\\\n",
    "they're good for callback functions"
   ]
  },
  {
   "cell_type": "code",
   "execution_count": 6,
   "id": "055a0c93-3d3c-4c6d-9fbc-ce92b974424f",
   "metadata": {},
   "outputs": [
    {
     "name": "stdout",
     "output_type": "stream",
     "text": [
      "Thud!\n",
      "Meow!\n",
      "Thud!\n",
      "Hiss!\n",
      "\n",
      "Thud!\n",
      "Meow!\n",
      "Thud!\n",
      "Hiss!\n"
     ]
    }
   ],
   "source": [
    "def edit_story(words, func):\n",
    "    for word in words:\n",
    "        print(func(word))\n",
    "stairs = ['thud', 'meow', 'thud', 'hiss']\n",
    "\n",
    "# Instead of:\n",
    "def enliven(word):\n",
    "    return word.capitalize() + '!'\n",
    "edit_story(stairs, enliven)\n",
    "\n",
    "print('')\n",
    "\n",
    "# You could do:\n",
    "edit_story(stairs, lambda word: word.capitalize() + '!') # Zero or more comma-separated args : function definition"
   ]
  },
  {
   "cell_type": "markdown",
   "id": "065398b6-be40-495e-9b50-c44a65373a17",
   "metadata": {},
   "source": [
    "## Generators\n",
    "Python sequence creation objects, used to iterate through large sequences without creating and storing the whole sequence in memory\\\n",
    "Generators keep track of where they were called last and return to the next value\\\n",
    "They only run once, and cannot go back/restart\\\n",
    "An example would be the `range()` function\\\n",
    "To write your own make sure you use `yield` instead of `return`"
   ]
  },
  {
   "cell_type": "code",
   "execution_count": 16,
   "id": "3bb9e31d-e7e4-4883-920c-5068ed898905",
   "metadata": {},
   "outputs": [
    {
     "name": "stdout",
     "output_type": "stream",
     "text": [
      "0\n",
      "1\n",
      "2\n",
      "3\n",
      "4\n",
      "5\n",
      "6\n",
      "7\n",
      "8\n",
      "9\n",
      "\n",
      "4\n",
      "14\n",
      "24\n",
      "34\n",
      "44\n",
      "54\n",
      "64\n",
      "74\n",
      "84\n",
      "94\n",
      "104\n",
      "\n",
      "<generator object <genexpr> at 0x000001E3D53751C0>\n",
      "('foo', '6')\n",
      "('bar', '9')\n"
     ]
    }
   ],
   "source": [
    "# Writing the range generator function:\n",
    "def new_range(first=0, last=10, step=1):\n",
    "    num = first\n",
    "    while num < last:\n",
    "        yield num\n",
    "        num += step\n",
    "\n",
    "defaultRange = new_range() # defaults\n",
    "for x in defaultRange:\n",
    "    print(x)\n",
    "print('')\n",
    "range = new_range(4,105,10) # with args\n",
    "for y in range:\n",
    "    print(y)\n",
    "    \n",
    "for z in range: # Can't do it again\n",
    "    print(z)\n",
    "\n",
    "print('')################\n",
    "    \n",
    "# Generator comprehensions are like the others but with parenteses:\n",
    "genobj = (pair for pair in zip(['foo','bar'],['6','9']))\n",
    "print(genobj)\n",
    "for i in genobj:\n",
    "    print(i)"
   ]
  },
  {
   "cell_type": "markdown",
   "id": "a516ef79-1d2e-4402-94d2-2e4c2fc22419",
   "metadata": {},
   "source": [
    "## Decorators\n",
    "Decorators modify existing functions without altering them"
   ]
  },
  {
   "cell_type": "code",
   "execution_count": 23,
   "id": "7fb9c9bd-32e6-4487-be1b-c392c4562ec6",
   "metadata": {},
   "outputs": [
    {
     "name": "stdout",
     "output_type": "stream",
     "text": [
      "5 \n",
      "\n",
      "Running function:  subem\n",
      "Pos args:  (10, 5)\n",
      "Keyword args:  {}\n",
      "Result:  5\n",
      "\n",
      "Running function:  addem\n",
      "Pos args:  (5, 8)\n",
      "Keyword args:  {}\n",
      "Result:  13\n"
     ]
    },
    {
     "data": {
      "text/plain": [
       "13"
      ]
     },
     "execution_count": 23,
     "metadata": {},
     "output_type": "execute_result"
    }
   ],
   "source": [
    "# Create the decorator:\n",
    "def document_it(func):\n",
    "    def new_function(*args, **kwargs):\n",
    "        print('Running function: ', func.__name__)\n",
    "        print('Pos args: ', args)\n",
    "        print('Keyword args: ', kwargs)\n",
    "        result = func(*args, **kwargs)\n",
    "        print('Result: ',result)\n",
    "        return result\n",
    "    return new_function\n",
    "\n",
    "# Use the decorator:\n",
    "# Long way:\n",
    "def subem(a,b):\n",
    "    return a - b\n",
    "print(subem(10,5),'\\n')\n",
    "\n",
    "\n",
    "better_subem = document_it(subem) \n",
    "better_subem(10,5)\n",
    "\n",
    "print('')\n",
    "\n",
    "# Short way: \n",
    "@document_it \n",
    "def addem(a,b):\n",
    "    return a + b\n",
    "addem(5,8)"
   ]
  },
  {
   "cell_type": "code",
   "execution_count": 27,
   "id": "c7e9ddc3-39c7-432a-ab09-b5f85027a93c",
   "metadata": {},
   "outputs": [
    {
     "name": "stdout",
     "output_type": "stream",
     "text": [
      "Running function:  new_function\n",
      "Pos args:  (3, 5)\n",
      "Keyword args:  {}\n",
      "Result:  225\n",
      "\n",
      "Running function:  multem2\n",
      "Pos args:  (3, 5)\n",
      "Keyword args:  {}\n",
      "Result:  15\n"
     ]
    },
    {
     "data": {
      "text/plain": [
       "225"
      ]
     },
     "execution_count": 27,
     "metadata": {},
     "output_type": "execute_result"
    }
   ],
   "source": [
    "# Second Decorator\n",
    "def square_it(func):\n",
    "    def new_function(*args, **kwargs):\n",
    "        result = func(*args, **kwargs)\n",
    "        return result * result\n",
    "    return new_function\n",
    "\n",
    "# When using mult decorators the closest goes first\n",
    "@document_it # second\n",
    "@square_it # first\n",
    "def multem(a,b):\n",
    "    return a * b\n",
    "multem(3,5)\n",
    "\n",
    "print('')\n",
    "\n",
    "@square_it # second\n",
    "@document_it # first\n",
    "def multem2(a,b):\n",
    "    return a * b\n",
    "multem2(3,5)"
   ]
  },
  {
   "cell_type": "markdown",
   "id": "a77cfef4-2430-4230-9a6f-3d36977ac3f5",
   "metadata": {},
   "source": [
    "## Namespaces and Scope\n",
    "Each function has its own namespace, the main part of a program has a global namespace you can access from inside functions"
   ]
  },
  {
   "cell_type": "code",
   "execution_count": 36,
   "id": "010d60dd-f5a7-4bd2-b464-9905701ec81e",
   "metadata": {},
   "outputs": [
    {
     "name": "stdout",
     "output_type": "stream",
     "text": [
      "Chris\n",
      "Exception:  local variable 'name' referenced before assignment\n",
      "Chris\n",
      "Kaila\n",
      "local vars:  {'other_name': 'Francis'}\n"
     ]
    }
   ],
   "source": [
    "name = 'Chris'# global\n",
    "def show_name():\n",
    "    print(name) # Can access it\n",
    "def show_name_2():\n",
    "    try:\n",
    "        print(name) # Now is a reference before assignment because...\n",
    "        name = 'Kaila' # Creates name in local namespace\n",
    "        print(name)\n",
    "    except UnboundLocalError as err:\n",
    "        print('Exception: ',err)\n",
    "def show_name_3():\n",
    "    global name # Defines name in local namespace as global\n",
    "    print(name)\n",
    "    name = 'Kaila'\n",
    "    print(name)\n",
    "    other_name = 'Francis'\n",
    "    print('local vars: ',locals()) # prints a dict of local vars\n",
    "    # print('global vars: ',globals()) # This would print global vars but in jupyter there's a ton\n",
    "show_name()\n",
    "show_name_2()\n",
    "show_name_3()"
   ]
  },
  {
   "cell_type": "markdown",
   "id": "3aee9b4c-95a2-4b2a-9b88-aa2335ac7b01",
   "metadata": {},
   "source": [
    "## Underscores\n",
    "Double underscores are for reserved use like `function.__name__` or `function.__doc__` or `__main__`\\\n"
   ]
  },
  {
   "cell_type": "markdown",
   "id": "530c6c83-b2c5-4b8f-bc15-fb4583ca9bb2",
   "metadata": {},
   "source": [
    "## Recursion\n",
    "Recursion can be useful for generator functions"
   ]
  },
  {
   "cell_type": "code",
   "execution_count": 48,
   "id": "0576393e-4af3-48b9-abb7-193add85df0f",
   "metadata": {},
   "outputs": [
    {
     "data": {
      "text/plain": [
       "[1, 2, 3, 4, 5, 6, 7, 8, 9]"
      ]
     },
     "execution_count": 48,
     "metadata": {},
     "output_type": "execute_result"
    }
   ],
   "source": [
    "# Potential interview question 'flatten/collect a set...':\n",
    "def flatten(lol):\n",
    "    for item in lol:\n",
    "        if isinstance(item, list):\n",
    "            yield from flatten(item) # yield from creates another generator that does a 'for subitem in flatten(item): yield subitem'\n",
    "        else:\n",
    "            yield item\n",
    "lol = [1,2,[3,4,5], [6,[7,8,9],[]]]\n",
    "list(flatten(lol))"
   ]
  },
  {
   "cell_type": "markdown",
   "id": "21dc17f2-e5ee-43b1-984d-9ed3755beb93",
   "metadata": {},
   "source": [
    "## Exceptions\n",
    "Always try to handle exceptions where they may occur with `try` and `except`"
   ]
  },
  {
   "cell_type": "code",
   "execution_count": 53,
   "id": "17ee4ce5-bdf4-4367-8c4e-3620622384dd",
   "metadata": {},
   "outputs": [
    {
     "name": "stdout",
     "output_type": "stream",
     "text": [
      "oopsie whoopsie made a fucky wucky outside the wist uWu\n",
      "u made an index out of wange ewwow:  list index out of range\n"
     ]
    }
   ],
   "source": [
    "listing = [1,2,3]\n",
    "try:\n",
    "    listing[3]\n",
    "except: # Generic catchall\n",
    "    print('oopsie whoopsie made a fucky wucky outside the wist uWu')\n",
    "    \n",
    "try:\n",
    "    listing[3]\n",
    "except IndexError as idx_err: # Specifies specific exception type and handles it... accordingly?\n",
    "    print('u made an index out of wange ewwow: ',idx_err)\n",
    "except Exception as gen_err:\n",
    "    print('YOU HAVE MADE SOME OTHER KIND OF ERROR NOW DIE')"
   ]
  },
  {
   "cell_type": "markdown",
   "id": "c3760138-b223-4e38-b64d-333efa7bb74d",
   "metadata": {},
   "source": [
    "### Make your own exceptions at home!"
   ]
  },
  {
   "cell_type": "code",
   "execution_count": 52,
   "id": "cf5d437d-5999-4c1a-afbd-4ab4f013ee35",
   "metadata": {},
   "outputs": [
    {
     "ename": "UppercaseException",
     "evalue": "NO",
     "output_type": "error",
     "traceback": [
      "\u001b[1;31m---------------------------------------------------------------------------\u001b[0m",
      "\u001b[1;31mUppercaseException\u001b[0m                        Traceback (most recent call last)",
      "\u001b[1;32m~\\AppData\\Local\\Temp/ipykernel_22132/3278925434.py\u001b[0m in \u001b[0;36m<module>\u001b[1;34m\u001b[0m\n\u001b[0;32m      5\u001b[0m \u001b[1;32mfor\u001b[0m \u001b[0mdemand\u001b[0m \u001b[1;32min\u001b[0m \u001b[0mdemands\u001b[0m\u001b[1;33m:\u001b[0m\u001b[1;33m\u001b[0m\u001b[1;33m\u001b[0m\u001b[0m\n\u001b[0;32m      6\u001b[0m     \u001b[1;32mif\u001b[0m \u001b[0mdemand\u001b[0m\u001b[1;33m.\u001b[0m\u001b[0misupper\u001b[0m\u001b[1;33m(\u001b[0m\u001b[1;33m)\u001b[0m\u001b[1;33m:\u001b[0m\u001b[1;33m\u001b[0m\u001b[1;33m\u001b[0m\u001b[0m\n\u001b[1;32m----> 7\u001b[1;33m         \u001b[1;32mraise\u001b[0m \u001b[0mUppercaseException\u001b[0m\u001b[1;33m(\u001b[0m\u001b[0mdemand\u001b[0m\u001b[1;33m)\u001b[0m\u001b[1;33m\u001b[0m\u001b[1;33m\u001b[0m\u001b[0m\n\u001b[0m",
      "\u001b[1;31mUppercaseException\u001b[0m: NO"
     ]
    }
   ],
   "source": [
    "class UppercaseException(Exception):\n",
    "    pass\n",
    "\n",
    "demands = ['yes','yes','yes','NO']\n",
    "for demand in demands:\n",
    "    if demand.isupper():\n",
    "        raise UppercaseException(demand)"
   ]
  },
  {
   "cell_type": "markdown",
   "id": "0380c548-1e49-461b-afcd-52eedd11f34e",
   "metadata": {},
   "source": [
    "## Exercises"
   ]
  },
  {
   "cell_type": "code",
   "execution_count": 9,
   "id": "d372db3f-3ce3-4d3d-b805-473139964619",
   "metadata": {},
   "outputs": [
    {
     "name": "stdout",
     "output_type": "stream",
     "text": [
      "starting...\n",
      "foobar\n",
      "ending...\n",
      "Oopsie whoopsie!\n",
      "1\n",
      "3\n",
      "5\n",
      "7\n",
      "8\n"
     ]
    },
    {
     "ename": "OopsException",
     "evalue": "",
     "output_type": "error",
     "traceback": [
      "\u001b[1;31m---------------------------------------------------------------------------\u001b[0m",
      "\u001b[1;31mOopsException\u001b[0m                             Traceback (most recent call last)",
      "\u001b[1;32m~\\AppData\\Local\\Temp/ipykernel_14600/4205122011.py\u001b[0m in \u001b[0;36m<module>\u001b[1;34m\u001b[0m\n\u001b[0;32m     28\u001b[0m         \u001b[1;32mif\u001b[0m \u001b[0mnum\u001b[0m \u001b[1;33m%\u001b[0m \u001b[1;36m2\u001b[0m \u001b[1;33m==\u001b[0m \u001b[1;36m0\u001b[0m\u001b[1;33m:\u001b[0m\u001b[1;33m\u001b[0m\u001b[1;33m\u001b[0m\u001b[0m\n\u001b[0;32m     29\u001b[0m             \u001b[1;32mraise\u001b[0m \u001b[0mOopsException\u001b[0m\u001b[1;33m\u001b[0m\u001b[1;33m\u001b[0m\u001b[0m\n\u001b[1;32m---> 30\u001b[1;33m \u001b[0mevenbad\u001b[0m\u001b[1;33m(\u001b[0m\u001b[1;33m[\u001b[0m\u001b[1;36m1\u001b[0m\u001b[1;33m,\u001b[0m\u001b[1;36m3\u001b[0m\u001b[1;33m,\u001b[0m\u001b[1;36m5\u001b[0m\u001b[1;33m,\u001b[0m\u001b[1;36m7\u001b[0m\u001b[1;33m,\u001b[0m\u001b[1;36m8\u001b[0m\u001b[1;33m,\u001b[0m\u001b[1;36m9\u001b[0m\u001b[1;33m]\u001b[0m\u001b[1;33m)\u001b[0m\u001b[1;33m\u001b[0m\u001b[1;33m\u001b[0m\u001b[0m\n\u001b[0m",
      "\u001b[1;32m~\\AppData\\Local\\Temp/ipykernel_14600/4205122011.py\u001b[0m in \u001b[0;36mevenbad\u001b[1;34m(nums)\u001b[0m\n\u001b[0;32m     27\u001b[0m         \u001b[0mprint\u001b[0m\u001b[1;33m(\u001b[0m\u001b[0mnum\u001b[0m\u001b[1;33m)\u001b[0m\u001b[1;33m\u001b[0m\u001b[1;33m\u001b[0m\u001b[0m\n\u001b[0;32m     28\u001b[0m         \u001b[1;32mif\u001b[0m \u001b[0mnum\u001b[0m \u001b[1;33m%\u001b[0m \u001b[1;36m2\u001b[0m \u001b[1;33m==\u001b[0m \u001b[1;36m0\u001b[0m\u001b[1;33m:\u001b[0m\u001b[1;33m\u001b[0m\u001b[1;33m\u001b[0m\u001b[0m\n\u001b[1;32m---> 29\u001b[1;33m             \u001b[1;32mraise\u001b[0m \u001b[0mOopsException\u001b[0m\u001b[1;33m\u001b[0m\u001b[1;33m\u001b[0m\u001b[0m\n\u001b[0m\u001b[0;32m     30\u001b[0m \u001b[0mevenbad\u001b[0m\u001b[1;33m(\u001b[0m\u001b[1;33m[\u001b[0m\u001b[1;36m1\u001b[0m\u001b[1;33m,\u001b[0m\u001b[1;36m3\u001b[0m\u001b[1;33m,\u001b[0m\u001b[1;36m5\u001b[0m\u001b[1;33m,\u001b[0m\u001b[1;36m7\u001b[0m\u001b[1;33m,\u001b[0m\u001b[1;36m8\u001b[0m\u001b[1;33m,\u001b[0m\u001b[1;36m9\u001b[0m\u001b[1;33m]\u001b[0m\u001b[1;33m)\u001b[0m\u001b[1;33m\u001b[0m\u001b[1;33m\u001b[0m\u001b[0m\n",
      "\u001b[1;31mOopsException\u001b[0m: "
     ]
    }
   ],
   "source": [
    "# Decorator: print when function is starting and ending\n",
    "def test(func):\n",
    "    def printtest(*args, **kwargs):\n",
    "        print(\"starting...\")\n",
    "        result = func(*args, **kwargs)\n",
    "        print(\"ending...\")\n",
    "        return result\n",
    "    return printtest\n",
    "@test\n",
    "def examplefunction():\n",
    "    print('foobar')\n",
    "examplefunction()\n",
    "\n",
    "# Generator: Get odd nums from a range\n",
    "def getodds(start=0,end=10):\n",
    "    for idx in range(start,end):\n",
    "        if (idx % 2) != 0:\n",
    "            yield idx\n",
    "list(getodds(0,20))\n",
    "\n",
    "class OopsException(Exception):\n",
    "    print('Oopsie whoopsie!')\n",
    "    \n",
    "def evenbad(nums):\n",
    "    for num in nums:\n",
    "        print(num)\n",
    "        if num % 2 == 0:\n",
    "            raise OopsException\n",
    "evenbad([1,3,5,7,8,9])"
   ]
  },
  {
   "cell_type": "markdown",
   "id": "d40316fd-043e-472e-8a29-25ea7dd9f43e",
   "metadata": {
    "tags": []
   },
   "source": [
    "# Objects and Classes\n",
    "Technically, being Object Oriented, everything in Python is an object, including data structures and functions"
   ]
  },
  {
   "cell_type": "markdown",
   "id": "03de3da4-a7b5-4bf5-aff4-b2b047f49959",
   "metadata": {},
   "source": [
    "## Object Classes in Python"
   ]
  },
  {
   "cell_type": "code",
   "execution_count": 10,
   "id": "56dc7228-d9da-48b0-83b4-0e4b1f1c4131",
   "metadata": {},
   "outputs": [
    {
     "name": "stdout",
     "output_type": "stream",
     "text": [
      "Sullivan\n",
      "Risky\n",
      "Riot\n",
      "A cat is a pet:  True\n",
      "I'm Sullivan. I'm a pet!\n",
      "I'm, Risky, a 12 year old cat, like a pet but more catty!\n",
      "I'm, Riot, a 2 year old cat, like a pet but more catty!\n"
     ]
    }
   ],
   "source": [
    "# Class definition\n",
    "class Pet():\n",
    "    # Initialization function\n",
    "    def __init__(self, name):\n",
    "        self.name = name\n",
    "    def identify(self):\n",
    "        print(f\"I'm {self.name}. I'm a pet!\")\n",
    "sully = Pet('Sullivan') # looks up class, instantiates obj, runs init, stores name, returns object, attaches variable\n",
    "risky = Pet('Risky')\n",
    "riot = Pet('Riot')\n",
    "pets = [sully, risky, riot]\n",
    "for pet in pets:\n",
    "    print(pet.name)\n",
    "\n",
    "# Inheritance, try not to overuse or it will confuse\n",
    "class Cat(Pet):\n",
    "    def __init__(self,name,age):\n",
    "        super().__init__(name) # use super() to get the parent implementation\n",
    "        self.age = age\n",
    "    def identify(self): # Overloaded method\n",
    "        print(f\"I'm, {self.name}, a {self.age} year old cat, like a pet but more catty!\")\n",
    "print(\"A cat is a pet: \",issubclass(Cat, Pet))\n",
    "risky = Cat('Risky', 12) # Cat has overloaded and must include the age\n",
    "riot = Cat('Riot', 2)\n",
    "sully.identify()\n",
    "risky.identify()\n",
    "riot.identify()"
   ]
  },
  {
   "cell_type": "markdown",
   "id": "2c3ed5c6-0cc6-4d65-9c62-66d6b82d0f87",
   "metadata": {},
   "source": [
    "## Multiple Inheritance\n",
    "Classes can inherit from multiple parents and when referencing a method/attribute a class doesn't have, its parents are checked\\\n",
    "When getting methods from parents Python uses *method resolution order*, each class has a special method called `mro()`\\\n",
    "and `__mro__` gives a tuple of the parent classes in order of reference importance\\\n",
    "Generally, mro goes: Object itself, object's class, its first parent class, second parent class, ..etc, grandparent class\n"
   ]
  },
  {
   "cell_type": "markdown",
   "id": "1bee35d5-d509-4cb7-8965-b48d5abc0e73",
   "metadata": {},
   "source": [
    "## Mixins\n",
    "A mixin is a parent class that doesn't share any methods with other parent classes, avoiding mro issues\\\n",
    "These are good for side tasks like logging etc"
   ]
  },
  {
   "cell_type": "code",
   "execution_count": 12,
   "id": "a09959e6-6cae-45ca-a88a-e87f9e7f8d9a",
   "metadata": {},
   "outputs": [
    {
     "name": "stdout",
     "output_type": "stream",
     "text": [
      "{'age': 26, 'eyecolor': 'Brown', 'love': True, 'name': 'Kaila'}\n"
     ]
    }
   ],
   "source": [
    "class PrettyMixin():\n",
    "    def dump(self):\n",
    "        import pprint\n",
    "        pprint.pprint(vars(self))\n",
    "class Thing(PrettyMixin):\n",
    "    pass\n",
    "t=Thing()\n",
    "t.name = \"Kaila\"\n",
    "t.love = True\n",
    "t.eyecolor = \"Brown\"\n",
    "t.age = 26\n",
    "t.dump()"
   ]
  },
  {
   "cell_type": "markdown",
   "id": "a330fb44-0ee5-4056-a33a-541ec0c81181",
   "metadata": {},
   "source": [
    "## Self\n",
    "So Python uses self in class method definitions to get the right attributes/methods, so:"
   ]
  },
  {
   "cell_type": "code",
   "execution_count": 15,
   "id": "ca472954-fddb-49b2-9195-151b4a0bab4f",
   "metadata": {},
   "outputs": [
    {
     "name": "stdout",
     "output_type": "stream",
     "text": [
      "I'm, Risky, a 12 year old cat, like a pet but more catty!\n",
      "I'm, Risky, a 12 year old cat, like a pet but more catty!\n"
     ]
    }
   ],
   "source": [
    "# When we call\n",
    "risky.identify()\n",
    "''' \n",
    "    It really is looking up Cat, of the object risky\n",
    "    Then it passes the risky object to the identify() method as the self argument, \n",
    "    functionally the same as:\n",
    " '''\n",
    "Cat.identify(risky)"
   ]
  },
  {
   "cell_type": "markdown",
   "id": "b06bd8bd-a68c-4fe1-9845-ea8f00b3bd59",
   "metadata": {},
   "source": [
    "## Attributes\n",
    "You can either directly access attributes or use getters/setters\\\n",
    "Although Python doesn't have private attributes, you can at least obfuscate w/ getting/setting\\\n",
    "To get some more real privacy use properties (covered later)"
   ]
  },
  {
   "cell_type": "code",
   "execution_count": 5,
   "id": "55a66d2d-8e95-40a9-8964-e5b82f7a2bcb",
   "metadata": {},
   "outputs": [
    {
     "name": "stdout",
     "output_type": "stream",
     "text": [
      "Sullivan\n",
      "Maya\n"
     ]
    },
    {
     "ename": "AttributeError",
     "evalue": "'Dog' object has no attribute 'name'",
     "output_type": "error",
     "traceback": [
      "\u001b[1;31m---------------------------------------------------------------------------\u001b[0m",
      "\u001b[1;31mAttributeError\u001b[0m                            Traceback (most recent call last)",
      "\u001b[1;32m~\\AppData\\Local\\Temp/ipykernel_11636/3052015765.py\u001b[0m in \u001b[0;36m<module>\u001b[1;34m\u001b[0m\n\u001b[0;32m     10\u001b[0m \u001b[0mpup\u001b[0m\u001b[1;33m.\u001b[0m\u001b[0mset_name\u001b[0m\u001b[1;33m(\u001b[0m\u001b[1;34m'Maya'\u001b[0m\u001b[1;33m)\u001b[0m\u001b[1;33m\u001b[0m\u001b[1;33m\u001b[0m\u001b[0m\n\u001b[0;32m     11\u001b[0m \u001b[0mprint\u001b[0m\u001b[1;33m(\u001b[0m\u001b[0mpup\u001b[0m\u001b[1;33m.\u001b[0m\u001b[0mget_name\u001b[0m\u001b[1;33m(\u001b[0m\u001b[1;33m)\u001b[0m\u001b[1;33m)\u001b[0m\u001b[1;33m\u001b[0m\u001b[1;33m\u001b[0m\u001b[0m\n\u001b[1;32m---> 12\u001b[1;33m \u001b[0mpup\u001b[0m\u001b[1;33m.\u001b[0m\u001b[0mname\u001b[0m\u001b[1;33m\u001b[0m\u001b[1;33m\u001b[0m\u001b[0m\n\u001b[0m",
      "\u001b[1;31mAttributeError\u001b[0m: 'Dog' object has no attribute 'name'"
     ]
    }
   ],
   "source": [
    "class Dog():\n",
    "    def __init__(self,input_name):\n",
    "        self.hidden_name = input_name\n",
    "    def get_name(self):\n",
    "        return self.hidden_name\n",
    "    def set_name(self, input_name):\n",
    "        self.hidden_name = input_name\n",
    "pup = Dog('Sullivan')\n",
    "print(pup.get_name())\n",
    "pup.set_name('Maya')\n",
    "print(pup.get_name())\n",
    "pup.name"
   ]
  },
  {
   "cell_type": "markdown",
   "id": "10055a9b-cfe4-491e-ab48-762e7a4229f8",
   "metadata": {},
   "source": [
    "## Properties\n",
    "More pythonic way to do privacy"
   ]
  },
  {
   "cell_type": "code",
   "execution_count": 21,
   "id": "f9aaa613-5201-46a8-81c7-1f5fc94721a9",
   "metadata": {},
   "outputs": [
    {
     "name": "stdout",
     "output_type": "stream",
     "text": [
      "Sullivan\n",
      "Maya\n",
      "Willy\n",
      "Pizza\n",
      "Tacos\n",
      "Outside getter: Tacos\n"
     ]
    },
    {
     "ename": "AttributeError",
     "evalue": "'Food' object has no attribute '__name'",
     "output_type": "error",
     "traceback": [
      "\u001b[1;31m---------------------------------------------------------------------------\u001b[0m",
      "\u001b[1;31mAttributeError\u001b[0m                            Traceback (most recent call last)",
      "\u001b[1;32m~\\AppData\\Local\\Temp/ipykernel_11636/2852553870.py\u001b[0m in \u001b[0;36m<module>\u001b[1;34m\u001b[0m\n\u001b[0;32m     32\u001b[0m \u001b[0mprint\u001b[0m\u001b[1;33m(\u001b[0m\u001b[0mdinner\u001b[0m\u001b[1;33m.\u001b[0m\u001b[0mname\u001b[0m\u001b[1;33m)\u001b[0m\u001b[1;33m\u001b[0m\u001b[1;33m\u001b[0m\u001b[0m\n\u001b[0;32m     33\u001b[0m \u001b[0mprint\u001b[0m\u001b[1;33m(\u001b[0m\u001b[1;34m'Outside getter: '\u001b[0m\u001b[1;33m+\u001b[0m\u001b[0mdinner\u001b[0m\u001b[1;33m.\u001b[0m\u001b[0m_Food__name\u001b[0m\u001b[1;33m)\u001b[0m \u001b[1;31m# Not entirely private still\u001b[0m\u001b[1;33m\u001b[0m\u001b[1;33m\u001b[0m\u001b[0m\n\u001b[1;32m---> 34\u001b[1;33m \u001b[0mprint\u001b[0m\u001b[1;33m(\u001b[0m\u001b[0mdinner\u001b[0m\u001b[1;33m.\u001b[0m\u001b[0m__name\u001b[0m\u001b[1;33m)\u001b[0m \u001b[1;31m# but at least can't directly access hidden attr __name directly or accidentally\u001b[0m\u001b[1;33m\u001b[0m\u001b[1;33m\u001b[0m\u001b[0m\n\u001b[0m",
      "\u001b[1;31mAttributeError\u001b[0m: 'Food' object has no attribute '__name'"
     ]
    }
   ],
   "source": [
    "# Same thing but add the last line\n",
    "class Dog():\n",
    "    def __init__(self,input_name):\n",
    "        self.hidden_name = input_name\n",
    "    def get_name(self):\n",
    "        return self.hidden_name\n",
    "    def set_name(self, input_name):\n",
    "        self.hidden_name = input_name\n",
    "    name = property(get_name, set_name) # Properties are defined with a getter and setter\n",
    "# Getter and setter stil work\n",
    "pup = Dog('Sullivan')\n",
    "print(pup.get_name())\n",
    "pup.set_name('Maya')\n",
    "print(pup.get_name())\n",
    "# But accessing as an attribute also works\n",
    "pup.name = 'Willy'\n",
    "print(pup.name)\n",
    "\n",
    "# Another format with decorators for getter and setter\n",
    "class Food():\n",
    "    def __init__(self,input_name):\n",
    "        self.__name = input_name # vs. self.hidden_name = input_name : the double underscore is a better way to obfuscate attributes in Python\n",
    "    @property\n",
    "    def name(self):\n",
    "        return self.__name\n",
    "    @name.setter\n",
    "    def name(self, input_name):\n",
    "        self.__name = input_name\n",
    "dinner = Food('Pizza')\n",
    "print(dinner.name)\n",
    "dinner.name = 'Tacos'\n",
    "print(dinner.name)\n",
    "print('Outside getter: '+dinner._Food__name) # Not entirely private still\n",
    "print(dinner.__name) # but at least can't directly access hidden attr __name directly or accidentally\n"
   ]
  },
  {
   "cell_type": "markdown",
   "id": "068b63a4-f526-4a21-85a1-3dbf1219c4f2",
   "metadata": {},
   "source": [
    "### For Computed Values"
   ]
  },
  {
   "cell_type": "code",
   "execution_count": 13,
   "id": "bd30f47b-0c6c-417e-ae51-0a68dd36b26a",
   "metadata": {},
   "outputs": [
    {
     "name": "stdout",
     "output_type": "stream",
     "text": [
      "radius: 5, diameter: 10\n"
     ]
    }
   ],
   "source": [
    "class Circle():\n",
    "    def __init__(self, radius):\n",
    "        self.radius = radius\n",
    "    @property\n",
    "    def diameter(self):\n",
    "        return 2*self.radius\n",
    "circle = Circle(5)\n",
    "print(f'radius: {circle.radius}, diameter: {circle.diameter}')"
   ]
  },
  {
   "cell_type": "markdown",
   "id": "b6ff5ea2-242c-434a-ad1e-137e20bd17f4",
   "metadata": {},
   "source": [
    "## Methods\n",
    "If there's no preceding decorator it's an *instance method*, the first arg is self and refers to the individual object\\\n",
    "If there is a `@classmethod` decorator it's a *class method*, first arg is cls (anything that isn't the reserved word class) that refers to the class\\\n",
    "If there's a `@staticmethod` it's a *static method* and the first arg isn't an object or class"
   ]
  },
  {
   "cell_type": "markdown",
   "id": "3aa78e49-adcd-4839-8e2d-4ecf3c58dc63",
   "metadata": {},
   "source": [
    "### Instance methods\n",
    "The methods covered above with 'self' as the arguments"
   ]
  },
  {
   "cell_type": "markdown",
   "id": "bb6169ed-7df1-4c31-bc42-9cf4a137eb99",
   "metadata": {},
   "source": [
    "### Class Methods\n",
    "A class method affects the class as a whole, any changes made affect all objects that share that class"
   ]
  },
  {
   "cell_type": "code",
   "execution_count": 22,
   "id": "398ba8b8-e467-49c4-9ac1-f5eb89e554d8",
   "metadata": {},
   "outputs": [
    {
     "name": "stdout",
     "output_type": "stream",
     "text": [
      "A has 3 little objects.\n"
     ]
    }
   ],
   "source": [
    "class A():\n",
    "    count = 0\n",
    "    def __init__(self):\n",
    "        A.count += 1\n",
    "    def exclaim(self):\n",
    "        print(\"A!\")\n",
    "    @classmethod\n",
    "    def kids(cls):\n",
    "        print(\"A has\", cls.count, \"little objects.\")\n",
    "one_a = A()\n",
    "two_a = A()\n",
    "three_a = A()\n",
    "A.kids()"
   ]
  },
  {
   "cell_type": "markdown",
   "id": "ee00740a-fca4-4fce-ac6e-3485f0bff9cb",
   "metadata": {
    "tags": []
   },
   "source": [
    "# Modules, Packages"
   ]
  },
  {
   "cell_type": "code",
   "execution_count": null,
   "id": "a3522525-9c38-42d1-8e87-b6c19ed3b4f0",
   "metadata": {},
   "outputs": [],
   "source": []
  }
 ],
 "metadata": {
  "kernelspec": {
   "display_name": "Python 3",
   "language": "python",
   "name": "python3"
  },
  "language_info": {
   "codemirror_mode": {
    "name": "ipython",
    "version": 3
   },
   "file_extension": ".py",
   "mimetype": "text/x-python",
   "name": "python",
   "nbconvert_exporter": "python",
   "pygments_lexer": "ipython3",
   "version": "3.10.1"
  }
 },
 "nbformat": 4,
 "nbformat_minor": 5
}
