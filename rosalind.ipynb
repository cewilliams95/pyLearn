{
 "cells": [
  {
   "cell_type": "markdown",
   "id": "02e21a7e-2871-4b93-8a93-9b82477c80c7",
   "metadata": {
    "tags": []
   },
   "source": [
    "# Molecular Bio Intro\n",
    "The nucleus is considered the hub of cellular activity. **Chromatin** are macromolecules that fill it and condenses into chromosomes during mitosis. One class of these macromolecules is **nucleic acids**.\\\n",
    "Nucleic acids are **polymers**, repeating chains of smaller similarly structured molecules or **monomers**. They are called strands bc they are long and thin.\\\n",
    "A nucleic acid monomer is a **nucleotide**. These are used as a unit of strand length (nt). \\\n",
    "The structure of a nucleotide has three parts: a sugar molecule, a negatively charged ion (**phosphate**), and a compound called **nucleobase** (base).\\\n",
    "**Polymerization** is when the sugar of one nucleotide bonds to the phosphate of the next nucleotide in the chain. This forms a sugar-phosphate backbone for the nucleic acid strand.\\\n",
    "Nucleotides of a specific type of nucleic acid always contain the same sugar and phosphate molecules, they differ in their bases. This means strands can be told apart by the order of their bases (The primary structure)\\\n",
    "So, in DNA the bases are adenine(A), cytosine(C), guanine(G), and thymine(T). And a genome is the total sum of DNA in an organism's chromosomes."
   ]
  },
  {
   "cell_type": "markdown",
   "id": "5add00e3-a74e-4d3e-bb1c-f17c1a4f7922",
   "metadata": {
    "tags": []
   },
   "source": [
    "## Problem 1\n",
    "Given a string of length (s <= 1000) containing A,C,G,T return four integers representing the number of times each symbol(ACTG) occurs in the string."
   ]
  },
  {
   "cell_type": "code",
   "execution_count": 1,
   "id": "8e90676f-c9e3-4311-ac65-2e124f8ed9b3",
   "metadata": {},
   "outputs": [
    {
     "name": "stdout",
     "output_type": "stream",
     "text": [
      "225 214 256 238\n",
      "(225, 214, 238, 256)\n",
      "225 214 256 238\n"
     ]
    }
   ],
   "source": [
    "# O(N) Solution that looks at each symbol up to four times\n",
    "def nuc_count(sample):\n",
    "    a=0\n",
    "    c=0\n",
    "    t=0\n",
    "    g=0\n",
    "    for nucleotide in sample:\n",
    "        if nucleotide == 'A':\n",
    "            a += 1\n",
    "        if nucleotide == 'C':\n",
    "            c += 1\n",
    "        if nucleotide == 'T':\n",
    "            t += 1\n",
    "        if nucleotide == 'G':\n",
    "            g += 1\n",
    "    print(f'{a} {c} {g} {t}')\n",
    "    return \n",
    "\n",
    "# More elegant python solution, and since count() is a low-level C method it's fast\n",
    "def fast_count(s):\n",
    "    return s.count(\"A\"), s.count(\"C\"), s.count(\"T\"), s.count(\"G\")\n",
    "\n",
    "# Even less code but maybe less readable\n",
    "def short_count(s):\n",
    "    print(*map(s.count, \"ACGT\"))\n",
    "\n",
    "sample = 'GACATGTAACTTCTAGGATTCGAAGCGGCCTAAGGACGTGTTGACGCGGGTGTTATTATAATGTAGTCTGGGTGATTCAAGAAACCGCAGTATTACTGGTAACGACGCACCCGTAAAGGTCGGCTATTTTTGACTGCCCTATCGCATCAGCGCCCTGCAGACTGTAGGGATAGCTCAGGCGACGCAGGTTCTTTAGTTGCTTCGGTGGCGTGAGGGAGGTGCTAGAGGTGGTCCGCCTTTCAATGTATTGTACGCCTAGCAGCGTTATCCAACGGGACGATGTAAAGATGAATAAACCCGTGAATCTATTTGTAGATGGCATTCGACCCGAACATGGTTAACTGAGTATATAGACTCATACTCCAGGTTAGCGAAATTTTCAACGGCTGCGGCCATTCCAAGGGCTAAGTCCCGTCCGGAGTTCGTGCACTTAAGGGGCTATGCAGGGCTATATCTGATTGTGATATACATTTGTTTGGGCAGCTGAAGTTAAGCGCTATTATGCGAATCCAGCAAATGGCGTTCATTTAGTCGGCCAGGTGAAGATACTTAAGGCAGCGACCACGTCTCCCCATGGGGGAGATGGGGGAAACACGGTTACACTTTAGTACGTCGGCATCTTCTGGCACCTAAAGCTAAGAAGTTGTGTGCTTTAGACCGATGGCTGCAAACTCACGTGGCTTGGTCCGAGTAAAACCCATTACGTGGAGAACCGTCGTTGGTGTACCTCCAGCCCGGCTGGCCGGGGTAGAACTTCCTCCGGGTACAGCGGTCATACCGTTCCGGCAAAGCTTGGGGGCTAGCGAAAAGCAACTGGCTAGCAGCTGTATCTTTTTACATCTCCCTCCATCGCGCAGGGCATCATAGATCAATCAGTTCGTATAGATTCAGATTTAGGATACGACGAGCTATTGCTCCCCTGGGTACAGCAAC'\n",
    "nuc_count(sample)\n",
    "print(fast_count(sample))\n",
    "short_count(sample)\n"
   ]
  },
  {
   "cell_type": "markdown",
   "id": "8257f23b-609b-4b8f-af8f-5f8c01e61bf8",
   "metadata": {
    "jp-MarkdownHeadingCollapsed": true,
    "tags": []
   },
   "source": [
    "# The other Nucleic Acid\n",
    "In the chromatin, **RNA** (ribose nucleic acid) has a different sugar (ribose vs deoxyribose) and it has a base called **uracil** in place of thymine.\\\n",
    "Initially it was thought RNA was only in plants and DNA in animals, but both are present in all life.\\\n",
    "The DNA/RNA primary structure is so similar bc DNA serves as a blueprint for **messenger RNA** (mRNA), which is created through **RNA transcription** (T -> U)\\"
   ]
  },
  {
   "cell_type": "markdown",
   "id": "b1f94775-fc25-436d-b045-acebd8a1dfb4",
   "metadata": {},
   "source": [
    "## Problem 2\n",
    "Given a DNA string of length < 1000nt with A,C,T,G convert to a transcribed RNA string of A,C,G,U"
   ]
  },
  {
   "cell_type": "code",
   "execution_count": 22,
   "id": "753f2854-b272-447e-85cf-dd061414fb62",
   "metadata": {},
   "outputs": [
    {
     "name": "stdout",
     "output_type": "stream",
     "text": [
      "GAUGGAACUUGACUACGUAAAUU\n",
      "Correct! Passed test!\n",
      "\n",
      "UGAUCACACAGGCAUCACACAGUAUACAUCCCUAAUUAGAGGGCCAUUCCACUGCCCAGUUGAAGACCUUUUUGCGCGCCAAGAGGAAAGCUGCGCACAAGCCGCGAUACACAACAUACAUACGUACAGGGGUUGAGAAAGCGACGGACGUGGGCCACCGUGUCGUGGGACCAGUCGAACUGAUCAAUGAUGUUAUCCUCCUACAUUGUAUCAUCGAGACGCAUAACCGGUGCCAGGGGAAGAAAAUAGUAUGGUGAAUGAACGCCGACGGAGGUGUCACUUGAGGAUAACAGGUUGACUGGUUUAUCUUGAUAUUUCCUACGGUAUGCUCGGUAACAUUCUCAUCAGACGCUGUAGGCAGUGGUCGUAAUCCAGCCUCGUGAAGCAUUCAAGCUAAUCCAUUCCACCCGCCUCUGGCGGAGGGAUCAGUUAAUUAUCGUGUCGUCUCGCCAUGAGGAAUGGCUAGGACUCAAUGCAGUACGAAGUCCACGAAGUAAAUAAACAUCGGCACCGGAUGAGACGUCGCAUGCAAUGCCGAAAUGGGCAUACGCCGAGGUAAGAUCUGAGUUGGUAUAACGGAUGCCGGCCAUCCCAUACAUCCAUCAGAAAGACGUCAGGCCGGCAGGUGACACGUUGGGGGAGGGGGGGCCCGGCAUGAAUUGUCGUAGAGGACUUUGACCACAGGAUUGGUCUAACGGCUUUGAACUGAACUCGUGUUGACAUCCUCUCCUGACAUAAUUGUUUAGAUCGUAUCCUCGUCACUCACGAUACUAUGAAAUCUCACUUAGCAACACGUCCGCCCCUUGGACAUACCCACCGGGCUCCUAGAACGGGUCUUGGUUUUGCCCGCCAGUACACCGUCGUAAGCUGGAUCGCCAAUUCACCGGGUCCUUCUUAAACCUUUUAGCGCACGUCCGUGGGCCUAU\n",
      "\n",
      "UGAUCACACAGGCAUCACACAGUAUACAUCCCUAAUUAGAGGGCCAUUCCACUGCCCAGUUGAAGACCUUUUUGCGCGCCAAGAGGAAAGCUGCGCACAAGCCGCGAUACACAACAUACAUACGUACAGGGGUUGAGAAAGCGACGGACGUGGGCCACCGUGUCGUGGGACCAGUCGAACUGAUCAAUGAUGUUAUCCUCCUACAUUGUAUCAUCGAGACGCAUAACCGGUGCCAGGGGAAGAAAAUAGUAUGGUGAAUGAACGCCGACGGAGGUGUCACUUGAGGAUAACAGGUUGACUGGUUUAUCUUGAUAUUUCCUACGGUAUGCUCGGUAACAUUCUCAUCAGACGCUGUAGGCAGUGGUCGUAAUCCAGCCUCGUGAAGCAUUCAAGCUAAUCCAUUCCACCCGCCUCUGGCGGAGGGAUCAGUUAAUUAUCGUGUCGUCUCGCCAUGAGGAAUGGCUAGGACUCAAUGCAGUACGAAGUCCACGAAGUAAAUAAACAUCGGCACCGGAUGAGACGUCGCAUGCAAUGCCGAAAUGGGCAUACGCCGAGGUAAGAUCUGAGUUGGUAUAACGGAUGCCGGCCAUCCCAUACAUCCAUCAGAAAGACGUCAGGCCGGCAGGUGACACGUUGGGGGAGGGGGGGCCCGGCAUGAAUUGUCGUAGAGGACUUUGACCACAGGAUUGGUCUAACGGCUUUGAACUGAACUCGUGUUGACAUCCUCUCCUGACAUAAUUGUUUAGAUCGUAUCCUCGUCACUCACGAUACUAUGAAAUCUCACUUAGCAACACGUCCGCCCCUUGGACAUACCCACCGGGCUCCUAGAACGGGUCUUGGUUUUGCCCGCCAGUACACCGUCGUAAGCUGGAUCGCCAAUUCACCGGGUCCUUCUUAAACCUUUUAGCGCACGUCCGUGGGCCUAU\n"
     ]
    }
   ],
   "source": [
    "# Basic Solution\n",
    "def rna_transcribe(dna):\n",
    "    rna=''\n",
    "    for nuc in dna:\n",
    "        if nuc == 'T':\n",
    "            nuc = 'U'\n",
    "        rna += nuc\n",
    "    return rna\n",
    "\n",
    "# Pythonic - Use replace()\n",
    "def quick_trans(dna):\n",
    "    rna = dna.replace('T', 'U')\n",
    "    return rna\n",
    "\n",
    "# Test with sample data\n",
    "def test(sample, expected):\n",
    "    result = rna_transcribe(sample)\n",
    "    correct =  (result == expected)\n",
    "    print(result)\n",
    "    if correct:\n",
    "        print('Correct! Passed test!')\n",
    "sample = 'GATGGAACTTGACTACGTAAATT'\n",
    "expected = 'GAUGGAACUUGACUACGUAAAUU'\n",
    "test(sample, expected)\n",
    "\n",
    "sample2 = 'TGATCACACAGGCATCACACAGTATACATCCCTAATTAGAGGGCCATTCCACTGCCCAGTTGAAGACCTTTTTGCGCGCCAAGAGGAAAGCTGCGCACAAGCCGCGATACACAACATACATACGTACAGGGGTTGAGAAAGCGACGGACGTGGGCCACCGTGTCGTGGGACCAGTCGAACTGATCAATGATGTTATCCTCCTACATTGTATCATCGAGACGCATAACCGGTGCCAGGGGAAGAAAATAGTATGGTGAATGAACGCCGACGGAGGTGTCACTTGAGGATAACAGGTTGACTGGTTTATCTTGATATTTCCTACGGTATGCTCGGTAACATTCTCATCAGACGCTGTAGGCAGTGGTCGTAATCCAGCCTCGTGAAGCATTCAAGCTAATCCATTCCACCCGCCTCTGGCGGAGGGATCAGTTAATTATCGTGTCGTCTCGCCATGAGGAATGGCTAGGACTCAATGCAGTACGAAGTCCACGAAGTAAATAAACATCGGCACCGGATGAGACGTCGCATGCAATGCCGAAATGGGCATACGCCGAGGTAAGATCTGAGTTGGTATAACGGATGCCGGCCATCCCATACATCCATCAGAAAGACGTCAGGCCGGCAGGTGACACGTTGGGGGAGGGGGGGCCCGGCATGAATTGTCGTAGAGGACTTTGACCACAGGATTGGTCTAACGGCTTTGAACTGAACTCGTGTTGACATCCTCTCCTGACATAATTGTTTAGATCGTATCCTCGTCACTCACGATACTATGAAATCTCACTTAGCAACACGTCCGCCCCTTGGACATACCCACCGGGCTCCTAGAACGGGTCTTGGTTTTGCCCGCCAGTACACCGTCGTAAGCTGGATCGCCAATTCACCGGGTCCTTCTTAAACCTTTTAGCGCACGTCCGTGGGCCTAT'\n",
    "print(\"\\n\"+rna_transcribe(sample2))\n",
    "print(\"\\n\"+quick_trans(sample2))"
   ]
  },
  {
   "cell_type": "markdown",
   "id": "6cb14a47-a428-494e-af27-086eb0a8c3d0",
   "metadata": {
    "jp-MarkdownHeadingCollapsed": true,
    "tags": []
   },
   "source": [
    "# The Secondary and Tertiary Structures of DNA\n",
    "Primary structure tells you nothing about the 3D structure of DNA. The Watson & Crick (and Rosalind Franklin, and Raymond Gosling) paper from 1953 presented a structure:\n",
    "1. The DNA molecule is made of 2 strands running in opposite directions\n",
    "2. Each base bonds to a base in the opposite strand. Adenine to thymine, cytosine to guanine. The complement of each base is the base it always bonds to\n",
    "3. The two strands are twisted in a double helix.\n",
    "\n",
    "1, and 2 compose the **secondary structure** of DNA, and 3 the **tertiary structure**.\n",
    "The bonding of two complementary bases is called a **base pair**. Usually DNA length is represented by base pairs (bp) not nt.\\\n",
    "Because of the complementary nature, once you know one strand's bases you can deduce the other.\\\n",
    "The bases of each strand run in opposite order to match up."
   ]
  },
  {
   "cell_type": "markdown",
   "id": "6bc4e6bb-4220-4042-b060-0707a4d8a539",
   "metadata": {},
   "source": [
    "## Problem 3\n",
    "Complement of A is T, complement of C is G.\\\n",
    "Given a DNA string s of length <= 1000bp return the reverse complement"
   ]
  },
  {
   "cell_type": "code",
   "execution_count": 41,
   "id": "9ce49c1f-1a92-41b2-84ae-5e76ba3d2404",
   "metadata": {},
   "outputs": [
    {
     "name": "stdout",
     "output_type": "stream",
     "text": [
      "CTTGACGTCAACCGGACGAGTCGTGGGCTAGCCATGCAGACGCTGATTACTG\n",
      "\n",
      "\n",
      "CTTGACGTCAACCGGACGAGTCGTGGGCTAGCCATGCAGACGCTGATTACTG\n",
      "\n",
      "\n",
      "CTTGACGTCAACCGGACGAGTCGTGGGCTAGCCATGCAGACGCTGATTACTG\n"
     ]
    }
   ],
   "source": [
    "def rev_com(strand):\n",
    "    strand = strand[::-1] # extended slice with negative step\n",
    "    result = ''\n",
    "    for c in strand:\n",
    "        if c == 'A':\n",
    "            c = 'T'\n",
    "        elif c == 'T':\n",
    "            c = 'A'\n",
    "        elif c == 'C':\n",
    "            c = 'G'\n",
    "        elif c == 'G':\n",
    "            c = 'C'\n",
    "        result += c\n",
    "    return result\n",
    "\n",
    "# Clever workaround to use replace()\n",
    "def rev_com_workaround(strand):\n",
    "    # The upper() call lets you do all replaces in one go without compromising the others\n",
    "    result = strand.replace('A','t').replace('T','a').replace('C','g').replace('G','c').upper()[::-1]\n",
    "    return result\n",
    "\n",
    "# Translation method\n",
    "def rcom_translate(strand):\n",
    "    return strand[::-1].translate(str.maketrans('ACGT','TGCA'))\n",
    "\n",
    "sample = 'CAGTAATCAGCGTCTGCATGGCTAGCCCACGACTCGTCCGGTTGACGTCAAG'\n",
    "print(rev_com(sample))\n",
    "print('\\n')\n",
    "print(rev_com_workaround(sample))\n",
    "print('\\n')\n",
    "print(rcom_translate(sample))"
   ]
  },
  {
   "cell_type": "markdown",
   "id": "0b59fff3-5f13-4098-b3f6-a9b63b0bba97",
   "metadata": {
    "tags": []
   },
   "source": [
    "# Rabbits and Recurrence Relations\n",
    "Fibonacci's rabbits:\n",
    "1. The population begins the first month with a pair of newborn rabbits\n",
    "2. Rabbits reach reproductive age after a month\n",
    "3. Every rabbit of age reproduces in a given month\n",
    "4. Exactly one month after two rabbits mate they produce one male and one female rabbit\n",
    "5. Rabbits never die or stop reproducing\n",
    "How many rabbits will there be in one year?\\\n",
    "144 rabbits or total_months^2\n",
    "\n",
    "A **recurrence relation** is a way of defining the terms of a sequence with respect to the value of the previous terms.\\\n",
    "With the rabbits each month contains the rabbits that were alive in the previous month plus any new offspring.\\\n",
    "This also means the number of offspring in a given month is equal to the amount of rabbits two months prior: \\\n",
    "if n is the number of months and F<sub>n</sub> is the number of rabbit pairs alive\\\n",
    "F<sub>n</sub> = F<sub>n-1</sub> + F<sub>n-2</sub>\\\n",
    "When finding the nth term in a sequence, use a recurrence relation to generate progressively larger values of n. This is a dynamic programming concept.\n",
    "\n",
    "## Problem 4\n",
    "Given positive ints *n*<=40 and *k*<=5\n",
    "Return the total number of rabbit pairs present after *n* months, if beginning with 1 pair and in each generation, every pair of reproductive-age rabbits produces a litter of *k* rabbit pairs"
   ]
  },
  {
   "cell_type": "code",
   "execution_count": 2,
   "id": "9889d5de-b62d-4d2b-9254-05f1d4496570",
   "metadata": {},
   "outputs": [
    {
     "name": "stdout",
     "output_type": "stream",
     "text": [
      "47079164257\n",
      "Wall time: 227 ms\n",
      "4985520533788572478138143712304922574570812175459011698153379704472857147513663532589229883352870356149317474413074766280352143733958723915936843525354628514731874477707187606559407670300699587924788164858517177453400785714027160603614426654098138223865644305772844686501550883664134184441045219032877706833791083662353110109100620310415665170716017573936522098591485760232995174328244658446641692634964888170335809397508875359545007921169726486\n",
      "Wall time: 0 ns\n",
      "4985520533788572478138143712304922574570812175459011698153379704472857147513663532589229883352870356149317474413074766280352143733958723915936843525354628514731874477707187606559407670300699587924788164858517177453400785714027160603614426654098138223865644305772844686501550883664134184441045219032877706833791083662353110109100620310415665170716017573936522098591485760232995174328244658446641692634964888170335809397508875359545007921169726486\n",
      "Wall time: 1.03 ms\n"
     ]
    }
   ],
   "source": [
    "import timeit\n",
    "# While this recursive function is correct, the run time is inefficient\n",
    "def rabbit_pairs(n,k):\n",
    "    # Establish base case of F(1) = F(2) = 1\n",
    "    if n == 2 or n ==1:\n",
    "        return 1;\n",
    "    else:\n",
    "        # Sum of the current with the new rabbit pairs provided by the recurrence relation\n",
    "        return rabbit_pairs(n-1,k) + rabbit_pairs(n-2,k)*k\n",
    "%time print(rabbit_pairs(31,3))\n",
    "\n",
    "# This O(n) function is actually faster\n",
    "def fib(n,k):\n",
    "    prev1, prev2 = 1, 1\n",
    "    for i in range(2,n):\n",
    "        prev1, prev2 = prev2, prev1 * k + prev2\n",
    "    return prev2\n",
    "%time print(fib(999,5))\n",
    "\n",
    "# With Dynamic Programming (memoization) it is also fast\n",
    "# Use a dict to store the computed vals so far\n",
    "memo = {}\n",
    "def fib_memo(n,k=1):\n",
    "    #print(memo)\n",
    "    args = (n,k)\n",
    "    if args in memo:\n",
    "        return memo[args] # give back values already computed\n",
    "    # otherwise compute\n",
    "    if n == 1:\n",
    "        result = 1\n",
    "    elif n == 2:\n",
    "        result = 1\n",
    "    else:\n",
    "        result = fib_memo(n-1,k) + fib_memo(n-2,k)*k\n",
    "    memo[args] = result\n",
    "    return result\n",
    "%time print(fib_memo(999,5))\n"
   ]
  },
  {
   "cell_type": "markdown",
   "id": "f235ecb6-dc48-48cc-8f79-4ed8b508759d",
   "metadata": {},
   "source": []
  },
  {
   "cell_type": "code",
   "execution_count": null,
   "id": "a3ab73cb-3258-4440-a8fe-52b2fd7056d5",
   "metadata": {},
   "outputs": [],
   "source": []
  }
 ],
 "metadata": {
  "kernelspec": {
   "display_name": "Python 3",
   "language": "python",
   "name": "python3"
  },
  "language_info": {
   "codemirror_mode": {
    "name": "ipython",
    "version": 3
   },
   "file_extension": ".py",
   "mimetype": "text/x-python",
   "name": "python",
   "nbconvert_exporter": "python",
   "pygments_lexer": "ipython3",
   "version": "3.10.1"
  }
 },
 "nbformat": 4,
 "nbformat_minor": 5
}
